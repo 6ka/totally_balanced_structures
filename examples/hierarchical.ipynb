{
 "cells": [
  {
   "cell_type": "markdown",
   "metadata": {
    "pycharm": {}
   },
   "source": [
    "# Hierarchical décomposition"
   ]
  },
  {
   "cell_type": "code",
   "execution_count": 1,
   "metadata": {
    "pycharm": {
     "is_executing": false,
     "metadata": false,
     "name": "#%%\n"
    }
   },
   "outputs": [],
   "source": [
    "# Path to tbs\n",
    "\n",
    "import sys\n",
    "import os\n",
    "\n",
    "sys.path.append(os.path.dirname('../'))"
   ]
  },
  {
   "cell_type": "code",
   "execution_count": 2,
   "metadata": {
    "pycharm": {
     "is_executing": false
    }
   },
   "outputs": [],
   "source": [
    "\n",
    "# imports\n",
    "from tbs.dismantlable import random_dismantlable_lattice, draw_dismantlable_lattice_to_pyplot\n",
    "from tbs.gamma_free import GammaFree, box_lattice\n",
    "import tbs.gamma_free\n"
   ]
  },
  {
   "cell_type": "markdown",
   "metadata": {
    "pycharm": {
     "metadata": false
    }
   },
   "source": [
    "## Creation of a random binary totally balanced lattice"
   ]
  },
  {
   "cell_type": "code",
   "execution_count": 3,
   "metadata": {
    "pycharm": {
     "is_executing": false,
     "metadata": false,
     "name": "#%%\n"
    }
   },
   "outputs": [],
   "source": [
    "N_ELEMENTS = 20"
   ]
  },
  {
   "cell_type": "markdown",
   "metadata": {
    "pycharm": {
     "metadata": false,
     "name": "#%% md\n"
    }
   },
   "source": [
    "\n",
    "\n",
    "### random dimantlable lattice"
   ]
  },
  {
   "cell_type": "code",
   "execution_count": 4,
   "metadata": {
    "pycharm": {
     "is_executing": false,
     "metadata": false,
     "name": "#%%\n"
    }
   },
   "outputs": [],
   "source": [
    "random_lattice = random_dismantlable_lattice(range(N_ELEMENTS))\n",
    "\n"
   ]
  },
  {
   "cell_type": "markdown",
   "metadata": {
    "pycharm": {
     "metadata": false
    }
   },
   "source": [
    "### binarization\n",
    "\n",
    "After binarization no more atomistic.\n"
   ]
  },
  {
   "cell_type": "code",
   "execution_count": 5,
   "metadata": {
    "pycharm": {
     "is_executing": false,
     "metadata": false,
     "name": "#%%\n"
    }
   },
   "outputs": [
    {
     "data": {
      "text/plain": [
       "DismantlableLattice(DirectedGraph(frozenset({0, 1, 2, 3, 4, 5, 6, 7, 8, 9, 10, 11, 12, 13, 14, 15, 16, 17, 18, 19, 22, 23, 24, frozenset({12, frozenset({8, frozenset({frozenset({18, 19}), 14})})}), 31, 'TOP', 32, 33, 34, 35, 36, 37, 38, 39, 40, 41, 42, 43, 44, 45, 46, 47, frozenset({18, 19}), frozenset({frozenset({frozenset({12, frozenset({8, frozenset({frozenset({18, 19}), 14})})}), 5}), 15}), 'BOTTOM', frozenset({frozenset({12, frozenset({8, frozenset({frozenset({18, 19}), 14})})}), 5}), frozenset({frozenset({18, 19}), 14}), frozenset({8, frozenset({frozenset({18, 19}), 14})})}), frozenset({(23, 4), (7, 3), ('BOTTOM', 31), (frozenset({12, frozenset({8, frozenset({frozenset({18, 19}), 14})})}), frozenset({frozenset({12, frozenset({8, frozenset({frozenset({18, 19}), 14})})}), 5})), (47, 24), ('BOTTOM', 43), (4, 8), (12, frozenset({12, frozenset({8, frozenset({frozenset({18, 19}), 14})})})), (10, 6), (44, 19), (1, 15), ('BOTTOM', 47), (frozenset({18, 19}), frozenset({frozenset({18, 19}), 14})), (33, 8), (11, 14), ('BOTTOM', 32), (11, 24), (23, 12), ('BOTTOM', 7), (0, 3), (frozenset({frozenset({frozenset({12, frozenset({8, frozenset({frozenset({18, 19}), 14})})}), 5}), 15}), 'TOP'), (38, 13), (45, 22), ('BOTTOM', 36), (19, frozenset({18, 19})), (2, 9), (24, 18), (42, 17), ('BOTTOM', 40), (0, 17), (16, 'TOP'), ('BOTTOM', 33), ('BOTTOM', 44), (22, 10), (31, 0), (13, 11), ('BOTTOM', 37), (24, 19), (34, 9), (3, 23), (35, 10), (37, 12), ('BOTTOM', 41), ('BOTTOM', 34), (9, 16), ('BOTTOM', 1), (5, frozenset({frozenset({12, frozenset({8, frozenset({frozenset({18, 19}), 14})})}), 5})), (frozenset({8, frozenset({frozenset({18, 19}), 14})}), frozenset({12, frozenset({8, frozenset({frozenset({18, 19}), 14})})})), ('BOTTOM', 45), (frozenset({frozenset({18, 19}), 14}), frozenset({8, frozenset({frozenset({18, 19}), 14})})), (43, 18), (46, 23), ('BOTTOM', 38), (17, 4), (3, 5), (22, 0), (40, 15), (39, 14), (1, 22), (4, 6), ('BOTTOM', 42), (frozenset({frozenset({12, frozenset({8, frozenset({frozenset({18, 19}), 14})})}), 5}), frozenset({frozenset({frozenset({12, frozenset({8, frozenset({frozenset({18, 19}), 14})})}), 5}), 15})), ('BOTTOM', 35), ('BOTTOM', 2), (41, 16), (18, frozenset({18, 19})), ('BOTTOM', 46), (6, 13), (32, 5), (15, frozenset({frozenset({frozenset({12, frozenset({8, frozenset({frozenset({18, 19}), 14})})}), 5}), 15})), ('BOTTOM', 39), (14, frozenset({frozenset({18, 19}), 14})), (8, frozenset({8, frozenset({frozenset({18, 19}), 14})})), (36, 11)})))"
      ]
     },
     "execution_count": 5,
     "metadata": {},
     "output_type": "execute_result"
    }
   ],
   "source": [
    "random_lattice.binarize().make_atomistic()"
   ]
  },
  {
   "cell_type": "markdown",
   "metadata": {
    "pycharm": {
     "metadata": false
    }
   },
   "source": [
    "### tests\n"
   ]
  },
  {
   "cell_type": "code",
   "execution_count": 6,
   "metadata": {
    "pycharm": {
     "is_executing": false,
     "metadata": false,
     "name": "#%%\n"
    }
   },
   "outputs": [
    {
     "data": {
      "text/plain": [
       "DismantlableLattice(DirectedGraph(frozenset({0, 1, 2, 3, 4, 5, 6, 7, 8, 9, 10, 11, 12, 13, 14, 15, 16, 17, 18, 19, 22, 23, 24, 29, 30, 31, 32, frozenset({18, 14}), 33, frozenset({2, 13}), 34, 35, 'TOP', frozenset({16, 11}), 36, 37, 38, 39, 40, 41, 42, 43, 44, 45, 46, 'BOTTOM', frozenset({8, frozenset({16, 11})})}), frozenset({('BOTTOM', 31), (45, 23), ('BOTTOM', 43), (3, 0), (9, 8), (23, 22), ('BOTTOM', 3), (14, frozenset({18, 14})), (24, 13), (5, 'TOP'), ('BOTTOM', 32), (1, 11), (11, frozenset({16, 11})), ('BOTTOM', 36), (19, 7), (7, 6), (0, 24), (35, 11), (37, 13), (44, 22), ('BOTTOM', 40), (4, 23), (36, 12), (2, frozenset({2, 13})), ('BOTTOM', 33), (7, 10), (30, 5), ('BOTTOM', 44), (43, 19), (10, 9), (38, 14), (frozenset({18, 14}), 2), ('BOTTOM', 37), ('BOTTOM', 4), (39, 15), (13, frozenset({2, 13})), (4, 5), ('BOTTOM', 29), (22, 17), (frozenset({8, frozenset({16, 11})}), 'TOP'), ('BOTTOM', 41), (42, 18), (12, 18), ('BOTTOM', 34), (8, frozenset({8, frozenset({16, 11})})), (24, 2), (frozenset({2, 13}), 6), (41, 17), ('BOTTOM', 45), (15, 14), (40, 16), (22, 0), ('BOTTOM', 38), (0, 1), (16, frozenset({16, 11})), (12, 15), (23, 19), (31, 7), (frozenset({16, 11}), frozenset({8, frozenset({16, 11})})), ('BOTTOM', 30), ('BOTTOM', 42), (46, 24), ('BOTTOM', 35), (34, 10), (29, 1), (33, 9), (17, 12), ('BOTTOM', 46), ('BOTTOM', 39), (32, 8), (6, 16), (18, frozenset({18, 14}))})))"
      ]
     },
     "execution_count": 6,
     "metadata": {},
     "output_type": "execute_result"
    }
   ],
   "source": [
    "from tbs.graph import DirectedGraph\n",
    "from tbs.dismantlable import DismantlableLattice\n",
    "\n",
    "# random_lattice = DismantlableLattice(DirectedGraph(\"abcdefghijkl\", ((\"a\", \"b\"), (\"a\", \"c\"), (\"a\", \"d\"),\n",
    "#                                                                (\"b\", \"e\"),(\"c\",\"e\"),(\"c\", \"f\"), (\"d\", \"f\"),(\"d\", \"g\"),\n",
    "#                                                                (\"e\", \"i\"),\n",
    "#                                                                (\"f\", \"h\"), (\"g\", \"h\"), (\"h\", \"i\"),\n",
    "#                                                                   (\"f\", \"j\"), (\"j\", \"h\"), (\"k\", \"j\"), (\"k\", \"l\"), (\"l\", \"i\"), (\"a\", \"k\"))))\n",
    "# random_lattice.make_atomistic()\n",
    "# \n",
    "\n",
    "random_lattice = DismantlableLattice(DirectedGraph(frozenset({0, 1, 2, 3, 4, 5, 6, 7, 8, 9, 10, 11, 12, 13, 14, 15, 16, 17, 18, 19, 22, 23, 24, 29, 30, 31, 32, frozenset({18, 14}), 33, frozenset({2, 13}), 34, 35, 'TOP', frozenset({16, 11}), 36, 37, 38, 39, 40, 41, 42, 43, 44, 45, 46, 'BOTTOM', frozenset({8, frozenset({16, 11})})}), frozenset({('BOTTOM', 29), (45, 23), ('BOTTOM', 39), ('BOTTOM', 4), (3, 0), ('BOTTOM', 46), (9, 8), (23, 22), (14, frozenset({18, 14})), (24, 13), ('BOTTOM', 34), ('BOTTOM', 3), (1, 11), (11, frozenset({16, 11})), ('BOTTOM', 38), ('BOTTOM', 41), (19, 7), (7, 6), (0, 24), (35, 11), (37, 13), (44, 22), (4, 23), ('BOTTOM', 45), (2, frozenset({2, 13})), (36, 12), (7, 10), (30, 5), ('BOTTOM', 31), (10, 9), ('BOTTOM', 33), (frozenset({18, 14}), 2), (38, 14), (43, 19), ('BOTTOM', 40), (39, 15), (13, frozenset({2, 13})), (4, 5), (22, 17), ('BOTTOM', 37), (42, 18), ('BOTTOM', 44), (12, 18), (8, frozenset({8, frozenset({16, 11})})), (24, 2), (frozenset({2, 13}), 6), (41, 17), (frozenset({8, frozenset({16, 11})}), 'TOP'), ('BOTTOM', 30), (15, 14), ('BOTTOM', 32), (22, 0), (40, 16), (0, 1), ('BOTTOM', 43), (12, 15), (16, frozenset({16, 11})), (23, 19), (frozenset({16, 11}), frozenset({8, frozenset({16, 11})})), (31, 7), ('BOTTOM', 36), (5, 'TOP'), (18, frozenset({18, 14})), (46, 24), (34, 10), (29, 1), (33, 9), (17, 12), ('BOTTOM', 35), (32, 8), (6, 16), ('BOTTOM', 42)})))\n",
    "random_lattice.binarize().make_atomistic()\n",
    "\n"
   ]
  },
  {
   "cell_type": "markdown",
   "metadata": {
    "pycharm": {
     "metadata": false,
     "name": "#%% md\n"
    }
   },
   "source": [
    "### visualization\n"
   ]
  },
  {
   "cell_type": "code",
   "execution_count": 7,
   "metadata": {
    "pycharm": {
     "is_executing": false,
     "metadata": false,
     "name": "#%%\n"
    }
   },
   "outputs": [],
   "source": [
    "import matplotlib.pyplot, matplotlib.cm, matplotlib.patches\n",
    "from matplotlib.patches import Rectangle\n"
   ]
  },
  {
   "cell_type": "code",
   "execution_count": 8,
   "metadata": {
    "pycharm": {
     "is_executing": true,
     "metadata": false,
     "name": "#%%\n"
    }
   },
   "outputs": [],
   "source": [
    "context_matrix = GammaFree.from_lattice(random_lattice).reorder_doubly_lexical()\n",
    "context_matrix.elements = list(range(len(context_matrix.elements)))\n",
    "context_matrix.attributes = list(range(len(context_matrix.attributes)))\n"
   ]
  },
  {
   "cell_type": "code",
   "execution_count": 9,
   "metadata": {},
   "outputs": [],
   "source": [
    "# print(tbs.gamma_free.to_string(context_matrix))"
   ]
  },
  {
   "cell_type": "markdown",
   "metadata": {
    "pycharm": {
     "metadata": false,
     "name": "#%% md\n"
    }
   },
   "source": [
    "#### lattice\n"
   ]
  },
  {
   "cell_type": "code",
   "execution_count": 10,
   "metadata": {
    "pycharm": {
     "is_executing": false,
     "metadata": false,
     "name": "#%%\n"
    }
   },
   "outputs": [
    {
     "data": {
      "image/png": "[encoded data removed]",
      "text/plain": [
       "<Figure size 432x288 with 1 Axes>"
      ]
     },
     "metadata": {
      "needs_background": "light"
     },
     "output_type": "display_data"
    }
   ],
   "source": [
    "tbs.gamma_free.draw_to_pyplot(context_matrix, matplotlib.pyplot, matplotlib.cm.rainbow)\n",
    "matplotlib.pyplot.show()\n",
    "\n"
   ]
  },
  {
   "cell_type": "markdown",
   "metadata": {
    "pycharm": {
     "metadata": false
    }
   },
   "source": [
    "#### matrix\n"
   ]
  },
  {
   "cell_type": "code",
   "execution_count": 11,
   "metadata": {
    "pycharm": {
     "is_executing": false,
     "metadata": false,
     "name": "#%% \n"
    }
   },
   "outputs": [],
   "source": [
    "def draw_matrix(context_matrix):\n",
    "    \n",
    "    lattice = box_lattice(context_matrix)\n",
    "    hierarchy_association = lattice.hierarchical_decomposition()\n",
    "    point_transformation = lambda ligne, colonne: (colonne, -ligne)\n",
    "    edge_color = lambda colors, hierarchy_association, vertex1, vertex2: colors[max(hierarchy_association[vertex1], hierarchy_association[vertex2])]\n",
    "    \n",
    "    ax1  = matplotlib.pyplot.figure().add_subplot(111, aspect='equal')\n",
    "    \n",
    "    matplotlib.pyplot.ylim((-len(context_matrix.elements), 1))\n",
    "    matplotlib.pyplot.xlim((0, len(context_matrix.attributes) + 1))\n",
    "    matplotlib.pyplot.axis('off')\n",
    "    \n",
    "    color_scheme = matplotlib.cm.rainbow\n",
    "    \n",
    "    nb_colors = max(hierarchy_association.values()) + 1\n",
    "    \n",
    "    colors = color_scheme([0. + 1.0 * x / (nb_colors - 1) for x in range(nb_colors)])\n",
    "        \n",
    "    for y, elem in enumerate(context_matrix.elements):\n",
    "        x = 0\n",
    "        while not context_matrix.matrix[y][x]:\n",
    "            x += 1\n",
    "        matplotlib.pyplot.text(*point_transformation(y, x), str(elem), ha='right', va='top')\n",
    "    \n",
    "    for x, attr in enumerate(context_matrix.attributes):\n",
    "        y = 0\n",
    "        while not context_matrix.matrix[y][x]:\n",
    "            y += 1\n",
    "        matplotlib.pyplot.text(*point_transformation(y, x), str(attr), ha='left', va='bottom')\n",
    "    \n",
    "    for elem in lattice:\n",
    "        facecolor = edge_color(colors, hierarchy_association, elem, elem)\n",
    "        if elem == lattice.top:\n",
    "            facecolor = colors[-1]\n",
    "            \n",
    "        x1, y1 = point_transformation(*elem[0])\n",
    "        x2, y2 = point_transformation(*elem[1])\n",
    "        width = x2 - x1 + 1\n",
    "        height = y1 - y2 + 1\n",
    "        ax1.add_patch(Rectangle((x1, y2), width, height, linewidth=1, edgecolor='black',\n",
    "                                facecolor=facecolor))\n",
    "    matplotlib.pyplot.show()\n"
   ]
  },
  {
   "cell_type": "code",
   "execution_count": 12,
   "metadata": {
    "pycharm": {
     "is_executing": false,
     "metadata": false,
     "name": "#%% \n"
    }
   },
   "outputs": [
    {
     "data": {
      "image/png": "[encoded data removed]",
      "text/plain": [
       "<Figure size 432x288 with 1 Axes>"
      ]
     },
     "metadata": {
      "needs_background": "light"
     },
     "output_type": "display_data"
    }
   ],
   "source": [
    "draw_matrix(context_matrix)\n"
   ]
  },
  {
   "cell_type": "markdown",
   "metadata": {
    "pycharm": {
     "metadata": false,
     "name": "#%% md\n"
    }
   },
   "source": [
    "### ordering \n",
    "\n",
    "If the lattice is atomistic, every element can be the last row of a DLO matrix.\n",
    "Last element must be in 1st hierarchy. Thus 1st and last element are both in the 1st hierarchy."
   ]
  },
  {
   "cell_type": "code",
   "execution_count": 13,
   "metadata": {
    "pycharm": {
     "is_executing": false,
     "metadata": false,
     "name": "#%%\n"
    }
   },
   "outputs": [
    {
     "data": {
      "text/plain": [
       "ContextMatrix(((1, 0, 0, 0, 0, 0, 0, 0, 0, 0, 0, 0, 0, 0, 0, 0, 0, 0, 0, 0, 0, 1, 0, 0, 0, 0, 0, 0, 0, 0, 0, 0, 0, 0, 0, 1, 0, 0), (0, 1, 0, 0, 0, 0, 0, 0, 0, 0, 0, 0, 0, 0, 0, 0, 0, 0, 0, 0, 1, 1, 0, 0, 0, 0, 0, 0, 0, 0, 0, 0, 0, 0, 0, 1, 0, 0), (0, 0, 1, 0, 0, 0, 0, 0, 0, 0, 0, 0, 0, 0, 0, 0, 0, 0, 0, 1, 1, 1, 0, 0, 0, 0, 0, 0, 0, 0, 0, 0, 0, 0, 0, 1, 0, 0), (0, 0, 0, 1, 0, 0, 0, 0, 0, 0, 0, 0, 0, 0, 0, 0, 0, 0, 0, 0, 0, 0, 0, 0, 0, 0, 0, 0, 1, 0, 0, 0, 0, 0, 1, 1, 0, 0), (0, 0, 0, 0, 1, 0, 0, 0, 0, 0, 0, 0, 0, 0, 0, 0, 0, 0, 0, 0, 0, 0, 0, 0, 0, 0, 0, 1, 1, 0, 0, 0, 0, 0, 1, 1, 0, 0), (0, 0, 0, 0, 0, 1, 0, 0, 0, 0, 0, 0, 0, 0, 0, 0, 0, 0, 0, 0, 0, 0, 0, 0, 0, 0, 0, 0, 0, 0, 0, 0, 0, 1, 1, 1, 0, 0), (0, 0, 0, 0, 0, 0, 1, 0, 0, 0, 0, 0, 0, 0, 0, 0, 0, 0, 0, 1, 1, 1, 0, 0, 0, 0, 0, 0, 0, 0, 0, 0, 1, 1, 1, 1, 0, 0), (0, 0, 0, 0, 0, 0, 0, 1, 0, 0, 0, 0, 0, 0, 0, 0, 0, 0, 1, 1, 1, 1, 0, 0, 0, 0, 0, 0, 0, 0, 0, 0, 1, 1, 1, 1, 0, 0), (0, 0, 0, 0, 0, 0, 0, 0, 1, 0, 0, 0, 0, 0, 0, 0, 0, 0, 0, 0, 0, 0, 0, 0, 0, 0, 0, 0, 0, 1, 0, 1, 1, 1, 1, 1, 0, 0), (0, 0, 0, 0, 0, 0, 0, 0, 0, 1, 0, 0, 0, 0, 0, 0, 0, 0, 0, 0, 0, 0, 0, 0, 1, 0, 1, 0, 0, 0, 1, 1, 1, 1, 1, 1, 0, 0), (0, 0, 0, 0, 0, 0, 0, 0, 0, 0, 1, 0, 0, 0, 0, 0, 0, 0, 0, 0, 0, 0, 0, 1, 1, 0, 1, 0, 0, 0, 1, 1, 1, 1, 1, 1, 0, 0), (0, 0, 0, 0, 0, 0, 0, 0, 0, 0, 0, 1, 0, 0, 0, 0, 0, 0, 0, 0, 0, 0, 0, 0, 0, 1, 1, 0, 0, 0, 1, 1, 1, 1, 1, 1, 0, 0), (0, 0, 0, 0, 0, 0, 0, 0, 0, 0, 0, 0, 1, 0, 0, 0, 0, 0, 0, 0, 0, 0, 0, 1, 1, 1, 1, 0, 0, 0, 1, 1, 1, 1, 1, 1, 0, 0), (0, 0, 0, 0, 0, 0, 0, 0, 0, 0, 0, 0, 0, 1, 0, 0, 0, 0, 0, 0, 0, 0, 1, 1, 1, 1, 1, 0, 0, 0, 1, 1, 1, 1, 1, 1, 0, 0), (0, 0, 0, 0, 0, 0, 0, 0, 0, 0, 0, 0, 0, 0, 1, 0, 0, 0, 0, 0, 0, 0, 0, 0, 0, 0, 0, 0, 0, 1, 1, 1, 1, 1, 1, 1, 0, 0), (0, 0, 0, 0, 0, 0, 0, 0, 0, 0, 0, 0, 0, 0, 0, 1, 0, 0, 0, 0, 0, 0, 0, 0, 0, 0, 0, 1, 1, 1, 1, 1, 1, 1, 1, 1, 0, 0), (0, 0, 0, 0, 0, 0, 0, 0, 0, 0, 0, 0, 0, 0, 0, 0, 1, 0, 0, 0, 0, 0, 1, 1, 1, 1, 1, 1, 1, 1, 1, 1, 1, 1, 1, 1, 0, 0), (0, 0, 0, 0, 0, 0, 0, 0, 0, 0, 0, 0, 0, 0, 0, 0, 0, 1, 1, 1, 1, 1, 1, 1, 1, 1, 1, 1, 1, 1, 1, 1, 1, 1, 1, 1, 0, 0), (0, 0, 0, 0, 0, 0, 0, 0, 0, 0, 0, 0, 0, 0, 0, 0, 0, 0, 1, 1, 1, 1, 1, 1, 1, 1, 1, 1, 1, 1, 1, 1, 1, 1, 1, 1, 0, 1), (0, 0, 0, 0, 0, 0, 0, 0, 0, 0, 0, 0, 0, 0, 0, 0, 0, 0, 0, 0, 0, 0, 0, 0, 0, 0, 0, 0, 0, 0, 0, 0, 0, 0, 0, 0, 1, 1)), elements=(1, 2, 3, 4, 5, 6, 7, 8, 9, 10, 11, 12, 13, 14, 19, 15, 16, 18, 17, 0), attributes=(1, 2, 3, 4, 5, 6, 7, 8, 9, 10, 11, 12, 13, 14, 30, 15, 16, 18, 19, 20, 21, 22, 23, 24, 25, 26, 27, 28, 29, 31, 32, 33, 34, 35, 36, 37, 0, 17))"
      ]
     },
     "execution_count": 13,
     "metadata": {},
     "output_type": "execute_result"
    }
   ],
   "source": [
    "new_line_ordering = list(range(len(context_matrix.elements)))\n",
    "new_line_ordering[0], new_line_ordering[-1] = new_line_ordering[-1], new_line_ordering[0]\n",
    "context_matrix.reorder_lines(new_line_ordering)\n",
    "\n",
    "context_matrix.reorder_doubly_lexical()"
   ]
  },
  {
   "cell_type": "code",
   "execution_count": 14,
   "metadata": {},
   "outputs": [
    {
     "data": {
      "image/png": "[encoded data removed]",
      "text/plain": [
       "<Figure size 432x288 with 1 Axes>"
      ]
     },
     "metadata": {
      "needs_background": "light"
     },
     "output_type": "display_data"
    }
   ],
   "source": [
    "# print(tbs.gamma_free.to_string(context_matrix))\n",
    "draw_matrix(context_matrix)"
   ]
  },
  {
   "cell_type": "markdown",
   "metadata": {
    "pycharm": {
     "metadata": false,
     "name": "#%% md\n"
    }
   },
   "source": [
    "### add elements \n",
    "\n",
    "Each attribute must come from elements from 1st hierarchy. So for each element in hierarchies > 0, we add (if n) an element which has the attributes of "
   ]
  },
  {
   "cell_type": "markdown",
   "metadata": {},
   "source": [
    "#### attributes are in 1st hierarchy"
   ]
  },
  {
   "cell_type": "code",
   "execution_count": 15,
   "metadata": {
    "pycharm": {
     "is_executing": false,
     "metadata": false,
     "name": "#%%\n"
    }
   },
   "outputs": [
    {
     "name": "stdout",
     "output_type": "stream",
     "text": [
      "((7, 7), (7, 7)) [((7, 18), (7, 21))]\n",
      "((13, 13), (13, 13)) [((13, 22), (13, 26))]\n"
     ]
    }
   ],
   "source": [
    "\n",
    "lattice = box_lattice(context_matrix) \n",
    "hierarchy_association = lattice.hierarchical_decomposition()\n",
    "\n",
    "bottom = lattice.bottom\n",
    "\n",
    "\n",
    "seen = set()\n",
    "chains = []\n",
    "for atom in lattice.above(bottom):\n",
    "    if hierarchy_association[atom] == 0:\n",
    "        continue\n",
    "    level = hierarchy_association[atom]\n",
    "    \n",
    "    chain = []\n",
    "    seen.add(atom)\n",
    "    current = atom\n",
    "    while current:\n",
    "        successors = lattice.above(current)\n",
    "        \n",
    "        if len(successors) == 0:\n",
    "            current = None\n",
    "        elif len(successors) == 1:\n",
    "            v, = list(successors)\n",
    "            if hierarchy_association[v] < level:\n",
    "                current = None\n",
    "            else:\n",
    "                if current not in seen:\n",
    "                    chain.append(current)\n",
    "                    seen.add(current)\n",
    "                current = v\n",
    "        else:  # == 2\n",
    "             \n",
    "            u, v = list(successors)\n",
    "            \n",
    "            if hierarchy_association[u] > hierarchy_association[v]:\n",
    "                u, v = v, u\n",
    "            if hierarchy_association[v] < level:\n",
    "                current = None\n",
    "            else:\n",
    "                current = v\n",
    "    if chain:\n",
    "        chains.append([atom, chain])\n",
    "\n",
    "new_elements = []\n",
    "new_attributes = []\n",
    "new_lines = []\n",
    "for atom, chain in chains:\n",
    "    print(atom, chain)\n",
    "    line = [0] * (len(context_matrix.attributes) + len(chains))\n",
    "    \n",
    "    new_elements.append(\"E\" + str(atom[0][0]))\n",
    "    new_attributes.append(\"C\" + str(atom[0][0]))\n",
    "    new_lines.append(line)\n",
    "    \n",
    "    line[len(new_elements) - 1] = 1\n",
    "    for element in chain:\n",
    "        line[len(chains) + element[0][1]] = 1\n",
    "\n",
    "  "
   ]
  },
  {
   "cell_type": "code",
   "execution_count": 16,
   "metadata": {
    "pycharm": {
     "is_executing": false,
     "metadata": false,
     "name": "#%%\n"
    }
   },
   "outputs": [
    {
     "name": "stdout",
     "output_type": "stream",
     "text": [
      "Added 2 elements\n"
     ]
    }
   ],
   "source": [
    "from tbs.contextmatrix import ContextMatrix\n",
    "\n",
    "print(\"Added\", len(chains), \"elements\")\n",
    "context_matrix = ContextMatrix(new_lines + [[0] * len(chains) + list(x) for x in context_matrix.matrix], \n",
    "                               tuple(new_elements) + context_matrix.elements, \n",
    "                               tuple(new_attributes) + context_matrix.attributes)\n",
    "\n"
   ]
  },
  {
   "cell_type": "code",
   "execution_count": 17,
   "metadata": {
    "pycharm": {
     "is_executing": false,
     "metadata": false,
     "name": "#%%\n"
    },
    "scrolled": true
   },
   "outputs": [
    {
     "data": {
      "image/png": "[encoded data removed]",
      "text/plain": [
       "<Figure size 432x288 with 1 Axes>"
      ]
     },
     "metadata": {
      "needs_background": "light"
     },
     "output_type": "display_data"
    }
   ],
   "source": [
    "# print(tbs.gamma_free.to_string(context_matrix))\n",
    "draw_matrix(context_matrix)"
   ]
  },
  {
   "cell_type": "markdown",
   "metadata": {},
   "source": [
    "#### hierarchy separation\n",
    "\n",
    "each line has same hierarchy"
   ]
  },
  {
   "cell_type": "code",
   "execution_count": 18,
   "metadata": {},
   "outputs": [],
   "source": [
    "lattice = box_lattice(context_matrix) \n",
    "hierarchy_association = lattice.hierarchical_decomposition()\n",
    "\n",
    "atom_line = {atom[0][0]: atom for atom in lattice.above(lattice.bottom)}\n",
    "\n",
    "columns = [[[context_matrix.matrix[l][c] for l in range(len(context_matrix.elements))]] \n",
    "           for c in range(len(context_matrix.attributes))]\n",
    "\n",
    "for element in lattice:\n",
    "    if element in (lattice.bottom, lattice.top):\n",
    "        continue\n",
    "    current_height = hierarchy_association[element]\n",
    "    column_number = element[0][1]\n",
    "    for line in range(element[0][0], element[1][0] + 1):\n",
    "        if hierarchy_association[atom_line[line]] > current_height:\n",
    "            current_height = hierarchy_association[atom_line[line]]\n",
    "            if (line == element[0][0]):\n",
    "                continue\n",
    "            \n",
    "            new_column = [context_matrix.matrix[i][column_number] for i in range(element[0][0])] + \\\n",
    "                         [0] * (line - element[0][0]) + \\\n",
    "                         [context_matrix.matrix[i][column_number] for i in range(line, len(context_matrix.elements))]\n",
    "\n",
    "            columns[column_number].append(new_column)"
   ]
  },
  {
   "cell_type": "code",
   "execution_count": 19,
   "metadata": {},
   "outputs": [],
   "source": [
    "# on ajoutera les colonne en reversed à la fin.\n",
    "new_matrix = []\n",
    "for i in range(len(context_matrix.elements)):\n",
    "    line = []\n",
    "    for cols in columns:\n",
    "        for c in reversed(cols):\n",
    "            line.append(c[i])\n",
    "    new_matrix.append(line)\n",
    "\n",
    "context_matrix = ContextMatrix(new_matrix)"
   ]
  },
  {
   "cell_type": "code",
   "execution_count": 20,
   "metadata": {},
   "outputs": [
    {
     "data": {
      "image/png": "[encoded data removed]",
      "text/plain": [
       "<Figure size 432x288 with 1 Axes>"
      ]
     },
     "metadata": {
      "needs_background": "light"
     },
     "output_type": "display_data"
    }
   ],
   "source": [
    "# print(tbs.gamma_free.to_string(context_matrix))\n",
    "draw_matrix(context_matrix)"
   ]
  },
  {
   "cell_type": "markdown",
   "metadata": {},
   "source": [
    "#### last column\n",
    "\n",
    "\n",
    "last element must be in 1st hierarchy."
   ]
  },
  {
   "cell_type": "code",
   "execution_count": 21,
   "metadata": {},
   "outputs": [
    {
     "name": "stdout",
     "output_type": "stream",
     "text": [
      "[((0, 20), (0, 20)), ((1, 24), (1, 24)), ((2, 38), (4, 38)), ((2, 38), (4, 38)), ((2, 38), (4, 38)), ((5, 37), (6, 38)), ((5, 37), (6, 38)), ((7, 36), (7, 38)), ((8, 35), (9, 38)), ((8, 35), (9, 38)), ((10, 34), (10, 38)), ((11, 33), (13, 38)), ((11, 33), (13, 38)), ((11, 33), (13, 38)), ((14, 32), (15, 38)), ((14, 32), (15, 38)), ((16, 31), (16, 38)), ((17, 29), (17, 38)), ((18, 24), (18, 38)), ((19, 20), (19, 38)), ((20, 40), (20, 41)), ((21, 39), (21, 41))]\n"
     ]
    }
   ],
   "source": [
    "lattice = box_lattice(context_matrix)\n",
    "\n",
    "max_cluster = [((0, 0), (-1, -1))] * len(context_matrix.elements)\n",
    "\n",
    "for element in lattice:\n",
    "    if element in (lattice.top, lattice.bottom):\n",
    "        continue\n",
    "    if max_cluster[element[0][0]][1][1] < element[1][1]:\n",
    "        for line in range(element[0][0], element[1][0] + 1):\n",
    "            max_cluster[line] = element\n",
    "print(max_cluster)"
   ]
  },
  {
   "cell_type": "code",
   "execution_count": 22,
   "metadata": {},
   "outputs": [],
   "source": [
    "added_columns = [[] for i in range(len(context_matrix.elements))]\n",
    "current = max_cluster[-1]\n",
    "\n",
    "while current is not None:\n",
    "    if current[0][0] == 0:\n",
    "        current = None\n",
    "        continue\n",
    "    elif current[1][1] < len(context_matrix.attributes):\n",
    "        for i in range(len(context_matrix.elements)):\n",
    "            if i < current[0][0]:\n",
    "                added_columns[i].append(0)\n",
    "            else:\n",
    "                added_columns[i].append(1)\n",
    "    current = max_cluster[current[0][0] - 1]"
   ]
  },
  {
   "cell_type": "code",
   "execution_count": 23,
   "metadata": {},
   "outputs": [],
   "source": [
    "# on ajoutera les colonne en reversed à la fin.\n",
    "new_matrix = []\n",
    "for i in range(len(context_matrix.elements)):\n",
    "    line = list(context_matrix.matrix[i]) + added_columns[i]\n",
    "    new_matrix.append(line)\n",
    "\n",
    "context_matrix = ContextMatrix(new_matrix)"
   ]
  },
  {
   "cell_type": "code",
   "execution_count": 24,
   "metadata": {},
   "outputs": [
    {
     "data": {
      "image/png": "[encoded data removed]",
      "text/plain": [
       "<Figure size 432x288 with 1 Axes>"
      ]
     },
     "metadata": {
      "needs_background": "light"
     },
     "output_type": "display_data"
    }
   ],
   "source": [
    "# print(tbs.gamma_free.to_string(context_matrix))\n",
    "draw_matrix(context_matrix)"
   ]
  },
  {
   "cell_type": "markdown",
   "metadata": {
    "pycharm": {
     "metadata": false,
     "name": "#%% md\n"
    }
   },
   "source": [
    "#### relabelling"
   ]
  },
  {
   "cell_type": "code",
   "execution_count": 25,
   "metadata": {
    "pycharm": {
     "is_executing": false,
     "metadata": false,
     "name": "#%%\n"
    }
   },
   "outputs": [],
   "source": [
    "\n",
    "context_matrix.elements = list(range(len(context_matrix.elements)))\n",
    "context_matrix.attributes= list(range(len(context_matrix.attributes)))\n",
    "\n",
    "lattice = box_lattice(context_matrix)\n",
    "hierarchy_association = lattice.hierarchical_decomposition()\n"
   ]
  },
  {
   "cell_type": "markdown",
   "metadata": {
    "pycharm": {
     "metadata": false,
     "name": "#%% md\n"
    }
   },
   "source": [
    "### dependence tree\n"
   ]
  },
  {
   "cell_type": "code",
   "execution_count": 26,
   "metadata": {
    "pycharm": {
     "is_executing": true,
     "metadata": false,
     "name": "#%% \n"
    }
   },
   "outputs": [],
   "source": [
    "bottom = lattice.bottom\n",
    "\n",
    "hierarchy_chains = dict()\n",
    "\n",
    "chains = []\n",
    "for atom in lattice.above(bottom):\n",
    "    hierarchy_chains[atom] = atom\n",
    "    \n",
    "    level = hierarchy_association[atom]\n",
    "    \n",
    "    current = atom\n",
    "    while current:\n",
    "        successors = lattice.above(current)\n",
    "        \n",
    "        if len(successors) == 0:\n",
    "            current = None\n",
    "        else:  # <= 3. == 3 if we added a last column.\n",
    "            v = None\n",
    "            for u in successors:\n",
    "                if v is None or hierarchy_association[u] > hierarchy_association[v]:\n",
    "                    v = u\n",
    "            if hierarchy_association[v] < level:\n",
    "                current = None\n",
    "            else:\n",
    "                current = v\n",
    "                hierarchy_chains[current] = atom\n",
    "                "
   ]
  },
  {
   "cell_type": "code",
   "execution_count": 27,
   "metadata": {
    "pycharm": {
     "is_executing": false,
     "metadata": false,
     "name": "#%%                \n"
    }
   },
   "outputs": [],
   "source": [
    "# for x in lattice:\n",
    "#     if x == lattice.bottom:\n",
    "#         continue\n",
    "#     print(x, hierarchy_chains[x])\n",
    "#     \n",
    "    "
   ]
  },
  {
   "cell_type": "code",
   "execution_count": 28,
   "metadata": {
    "pycharm": {
     "is_executing": false,
     "metadata": false,
     "name": "#%%\n"
    }
   },
   "outputs": [
    {
     "ename": "ValueError",
     "evalue": "too many values to unpack (expected 2)",
     "output_type": "error",
     "traceback": [
      "\u001b[0;31m---------------------------------------------------------------------------\u001b[0m",
      "\u001b[0;31mValueError\u001b[0m                                Traceback (most recent call last)",
      "\u001b[0;32m<ipython-input-28-5d5c420d2bea>\u001b[0m in \u001b[0;36m<module>\u001b[0;34m\u001b[0m\n\u001b[1;32m     28\u001b[0m             \u001b[0;32mcontinue\u001b[0m\u001b[0;34m\u001b[0m\u001b[0;34m\u001b[0m\u001b[0m\n\u001b[1;32m     29\u001b[0m \u001b[0;34m\u001b[0m\u001b[0m\n\u001b[0;32m---> 30\u001b[0;31m         \u001b[0mu\u001b[0m\u001b[0;34m,\u001b[0m\u001b[0mv\u001b[0m \u001b[0;34m=\u001b[0m \u001b[0mlist\u001b[0m\u001b[0;34m(\u001b[0m\u001b[0mlattice\u001b[0m\u001b[0;34m.\u001b[0m\u001b[0mabove\u001b[0m\u001b[0;34m(\u001b[0m\u001b[0mcurrent\u001b[0m\u001b[0;34m)\u001b[0m\u001b[0;34m)\u001b[0m\u001b[0;34m\u001b[0m\u001b[0;34m\u001b[0m\u001b[0m\n\u001b[0m\u001b[1;32m     31\u001b[0m \u001b[0;34m\u001b[0m\u001b[0m\n\u001b[1;32m     32\u001b[0m         \u001b[0;32mif\u001b[0m \u001b[0mhierarchy_association\u001b[0m\u001b[0;34m[\u001b[0m\u001b[0mu\u001b[0m\u001b[0;34m]\u001b[0m \u001b[0;34m>\u001b[0m \u001b[0mhierarchy_association\u001b[0m\u001b[0;34m[\u001b[0m\u001b[0mv\u001b[0m\u001b[0;34m]\u001b[0m\u001b[0;34m:\u001b[0m\u001b[0;34m\u001b[0m\u001b[0;34m\u001b[0m\u001b[0m\n",
      "\u001b[0;31mValueError\u001b[0m: too many values to unpack (expected 2)"
     ]
    }
   ],
   "source": [
    "\n",
    "from tbs.graph import DirectedGraph\n",
    "\n",
    "attribute_tree = DirectedGraph(range(len(context_matrix.elements)))\n",
    "\n",
    "for element in lattice.above(lattice.bottom):\n",
    "    if hierarchy_association[element] == 0:  # not 1st hierarchy (the attributes come from 1st hierarchy)\n",
    "        continue\n",
    "    level = hierarchy_association[element]\n",
    "    \n",
    "    current = element\n",
    "    \n",
    "    while current:\n",
    "        if current[0][0] < element[0][0]:  # same line\n",
    "            current = None\n",
    "            continue\n",
    "            \n",
    "        if current[1][1] >= len(context_matrix.attributes) - 1:  # not the last column\n",
    "            current = None\n",
    "            continue\n",
    "            \n",
    "        if len(lattice.above(current)) == 1: # it should only happens for singletons\n",
    "            v, = list(lattice.above(current))\n",
    "            if hierarchy_association[v] == level:\n",
    "                current = v                \n",
    "            else:\n",
    "                current = None\n",
    "            continue\n",
    "            \n",
    "        u,v = list(lattice.above(current))\n",
    "        \n",
    "        if hierarchy_association[u] > hierarchy_association[v]:\n",
    "                u, v = v, u\n",
    "        \n",
    "        if u[1][1] < len(context_matrix.attributes) - 1:  # hierarchy_association[u] < level\n",
    "            attribute_tree.update([(element[0][0], hierarchy_chains[u][0][0])])\n",
    "        if hierarchy_association[v] == level:\n",
    "            current = v                \n",
    "        else:\n",
    "            if v[1][1] < len(context_matrix.attributes) - 1:\n",
    "                attribute_tree.update([(element[0][0], hierarchy_chains[v][0][0])])\n",
    "            current = None\n",
    "\n",
    "from tbs.lattice import Lattice\n",
    "attribute_tree = Lattice(attribute_tree).hase_diagram\n",
    "\n",
    "for x, y in attribute_tree.edges:\n",
    "    print(x, y)"
   ]
  }
 ],
 "metadata": {
  "kernelspec": {
   "display_name": "Python 3",
   "language": "python",
   "name": "python3"
  },
  "language_info": {
   "codemirror_mode": {
    "name": "ipython",
    "version": 3
   },
   "file_extension": ".py",
   "mimetype": "text/x-python",
   "name": "python",
   "nbconvert_exporter": "python",
   "pygments_lexer": "ipython3",
   "version": "3.7.2"
  }
 },
 "nbformat": 4,
 "nbformat_minor": 2
}
