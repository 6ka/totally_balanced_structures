{
 "cells": [
  {
   "cell_type": "markdown",
   "metadata": {
    "deletable": true,
    "editable": true
   },
   "source": [
    "Random Dismantlable lattice\n",
    "===========================\n",
    "\n",
    "We create a random dismantlable lattice with $n$ elements and represent its associated context matrix\n"
   ]
  },
  {
   "cell_type": "code",
   "execution_count": 1,
   "metadata": {
    "collapsed": false,
    "deletable": true,
    "editable": true
   },
   "outputs": [],
   "source": [
    "# Path to TBS\n",
    "\n",
    "import sys\n",
    "import os\n",
    "\n",
    "sys.path.append(os.path.dirname('../'))"
   ]
  },
  {
   "cell_type": "markdown",
   "metadata": {
    "deletable": true,
    "editable": true
   },
   "source": [
    "Totally balanced structure creation\n",
    "-----------------------------------\n",
    "\n",
    "First create a random dismantable lattice which is immediatly converted into a binary matrix. \n",
    "The elements and attributes will be the inf and sup irreducible elements of the lattice (Caution: the other element names will be nevertheless lost)."
   ]
  },
  {
   "cell_type": "markdown",
   "metadata": {
    "deletable": true,
    "editable": true
   },
   "source": [
    "### Data as Context Matrix"
   ]
  },
  {
   "cell_type": "code",
   "execution_count": 2,
   "metadata": {
    "collapsed": true,
    "deletable": true,
    "editable": true
   },
   "outputs": [],
   "source": [
    "# TBS imports\n",
    "from TBS.randomize import random_dismantable_lattice\n",
    "from TBS.contextmatrix import ContextMatrix"
   ]
  },
  {
   "cell_type": "code",
   "execution_count": null,
   "metadata": {
    "collapsed": true
   },
   "outputs": [],
   "source": [
    "NUMBER_LATTICE_ELEMENTS = 32"
   ]
  },
  {
   "cell_type": "code",
   "execution_count": null,
   "metadata": {
    "collapsed": true
   },
   "outputs": [],
   "source": [
    "lattice_cover_graph = random_dismantable_lattice(NUMBER_LATTICE_ELEMENTS)\n",
    "print(lattice_cover_graph)"
   ]
  },
  {
   "cell_type": "code",
   "execution_count": 3,
   "metadata": {
    "collapsed": false,
    "deletable": true,
    "editable": true
   },
   "outputs": [],
   "source": [
    "context_matrix = ContextMatrix.from_lattice(random_dismantable_lattice(NUMBER_LATTICE_ELEMENTS))"
   ]
  },
  {
   "cell_type": "code",
   "execution_count": 4,
   "metadata": {
    "collapsed": false,
    "deletable": true,
    "editable": true,
    "scrolled": false
   },
   "outputs": [
    {
     "name": "stdout",
     "output_type": "stream",
     "text": [
      "    3   6   8   11  12  13  14  15  16  18  19  20  21  22  23  24  25  26  27  28  29  30  31\n",
      "0   X   X   X   X   X   X   X   X   X   X   X   X   .   .   X   X   X   .   X   X   X   X   X \n",
      "1   .   X   X   .   X   X   X   X   X   .   .   X   .   .   X   X   .   .   X   .   .   X   . \n",
      "2   X   X   X   .   X   X   X   X   X   .   X   X   .   .   X   X   .   .   X   X   X   X   X \n",
      "3   X   .   .   .   .   .   .   .   .   .   X   .   .   .   .   .   .   .   .   X   X   .   X \n",
      "4   .   .   .   .   X   .   X   X   X   .   .   X   .   .   X   .   .   .   .   .   .   X   . \n",
      "7   .   .   .   .   .   .   .   .   .   .   X   .   .   .   .   .   .   .   .   X   X   .   . \n",
      "8   .   X   X   .   .   .   .   .   .   .   .   .   .   .   .   X   .   .   .   .   .   .   . \n",
      "9   .   .   .   X   X   .   .   X   X   X   .   X   .   .   X   .   X   .   .   .   .   X   . \n",
      "10  .   X   .   .   .   .   .   .   .   .   .   .   .   .   .   .   .   .   X   .   .   .   . \n",
      "11  .   .   .   X   .   .   .   .   .   X   .   .   .   .   .   .   .   .   .   .   .   .   . \n",
      "14  .   .   .   .   X   .   X   .   .   .   .   .   .   .   .   .   .   .   .   .   .   .   . \n",
      "15  .   .   .   .   X   .   .   X   .   .   .   X   .   .   .   .   .   .   .   .   .   .   . \n",
      "16  .   .   .   .   .   .   .   .   X   .   .   .   .   .   .   .   .   .   .   .   .   .   . \n",
      "17  .   .   .   .   .   X   .   .   .   .   .   .   X   X   .   .   .   X   .   .   .   .   . \n",
      "18  .   .   .   .   .   .   .   .   .   X   .   .   .   .   .   .   .   .   .   .   .   .   . \n",
      "19  .   .   .   .   .   .   .   .   .   .   X   .   .   .   .   .   .   .   .   X   .   .   . \n",
      "20  .   .   .   .   X   .   .   .   .   .   .   X   .   .   .   .   .   .   .   .   .   .   . \n",
      "21  .   .   .   .   .   X   .   .   .   .   .   .   X   X   .   .   .   .   .   .   .   .   . \n",
      "23  .   .   .   .   X   .   .   .   .   .   .   .   .   .   X   .   .   .   .   .   .   .   . \n",
      "24  .   X   .   .   .   .   .   .   .   .   .   .   .   .   .   X   .   .   .   .   .   .   . \n",
      "25  .   .   .   .   .   .   .   .   .   .   .   .   .   .   .   .   X   .   .   .   .   .   . \n",
      "26  .   .   .   .   .   X   .   .   .   .   .   .   .   X   .   .   .   X   .   .   .   .   . \n",
      "27  .   .   .   .   .   .   .   .   .   .   .   .   .   .   .   .   .   .   X   .   .   .   . \n",
      "28  .   .   .   .   .   .   .   .   .   .   .   .   .   .   .   .   .   .   .   X   .   .   . \n",
      "29  .   .   .   .   .   .   .   .   .   .   .   .   .   .   .   .   .   .   .   .   X   .   . \n",
      "30  .   .   .   .   .   .   .   .   X   .   .   .   .   .   .   .   .   .   .   .   .   X   . \n",
      "31  .   .   .   .   .   .   .   .   .   .   X   .   .   .   .   .   .   .   .   X   X   .   X \n",
      "\n"
     ]
    }
   ],
   "source": [
    "print(context_matrix)"
   ]
  },
  {
   "cell_type": "markdown",
   "metadata": {
    "deletable": true,
    "editable": true
   },
   "source": [
    "Matrix reordering\n",
    "-----------------"
   ]
  },
  {
   "cell_type": "code",
   "execution_count": 5,
   "metadata": {
    "collapsed": false,
    "deletable": true,
    "editable": true
   },
   "outputs": [
    {
     "data": {
      "text/plain": [
       "<TBS.contextmatrix.context_matrix.ContextMatrix at 0x10ca2cba8>"
      ]
     },
     "execution_count": 5,
     "metadata": {},
     "output_type": "execute_result"
    }
   ],
   "source": [
    "context_matrix.reorder_doubly_lexical_order()"
   ]
  },
  {
   "cell_type": "code",
   "execution_count": 6,
   "metadata": {
    "collapsed": false,
    "deletable": true,
    "editable": true
   },
   "outputs": [
    {
     "name": "stdout",
     "output_type": "stream",
     "text": [
      "    26  21  22  25  11  18  3   31  29  19  28  13  27  8   24  6   14  30  16  23  15  20  12\n",
      "25  .   .   .   X   .   .   .   .   .   .   .   .   .   .   .   .   .   .   .   .   .   .   . \n",
      "18  .   .   .   .   .   X   .   .   .   .   .   .   .   .   .   .   .   .   .   .   .   .   . \n",
      "11  .   .   .   .   X   X   .   .   .   .   .   .   .   .   .   .   .   .   .   .   .   .   . \n",
      "29  .   .   .   .   .   .   .   .   X   .   .   .   .   .   .   .   .   .   .   .   .   .   . \n",
      "28  .   .   .   .   .   .   .   .   .   .   X   .   .   .   .   .   .   .   .   .   .   .   . \n",
      "19  .   .   .   .   .   .   .   .   .   X   X   .   .   .   .   .   .   .   .   .   .   .   . \n",
      "7   .   .   .   .   .   .   .   .   X   X   X   .   .   .   .   .   .   .   .   .   .   .   . \n",
      "31  .   .   .   .   .   .   .   X   X   X   X   .   .   .   .   .   .   .   .   .   .   .   . \n",
      "3   .   .   .   .   .   .   X   X   X   X   X   .   .   .   .   .   .   .   .   .   .   .   . \n",
      "26  X   .   X   .   .   .   .   .   .   .   .   X   .   .   .   .   .   .   .   .   .   .   . \n",
      "21  .   X   X   .   .   .   .   .   .   .   .   X   .   .   .   .   .   .   .   .   .   .   . \n",
      "17  X   X   X   .   .   .   .   .   .   .   .   X   .   .   .   .   .   .   .   .   .   .   . \n",
      "27  .   .   .   .   .   .   .   .   .   .   .   .   X   .   .   .   .   .   .   .   .   .   . \n",
      "10  .   .   .   .   .   .   .   .   .   .   .   .   X   .   .   X   .   .   .   .   .   .   . \n",
      "24  .   .   .   .   .   .   .   .   .   .   .   .   .   .   X   X   .   .   .   .   .   .   . \n",
      "8   .   .   .   .   .   .   .   .   .   .   .   .   .   X   X   X   .   .   .   .   .   .   . \n",
      "16  .   .   .   .   .   .   .   .   .   .   .   .   .   .   .   .   .   .   X   .   .   .   . \n",
      "30  .   .   .   .   .   .   .   .   .   .   .   .   .   .   .   .   .   X   X   .   .   .   . \n",
      "14  .   .   .   .   .   .   .   .   .   .   .   .   .   .   .   .   X   .   .   .   .   .   X \n",
      "23  .   .   .   .   .   .   .   .   .   .   .   .   .   .   .   .   .   .   .   X   .   .   X \n",
      "20  .   .   .   .   .   .   .   .   .   .   .   .   .   .   .   .   .   .   .   .   .   X   X \n",
      "15  .   .   .   .   .   .   .   .   .   .   .   .   .   .   .   .   .   .   .   .   X   X   X \n",
      "9   .   .   .   X   X   X   .   .   .   .   .   .   .   .   .   .   .   X   X   X   X   X   X \n",
      "4   .   .   .   .   .   .   .   .   .   .   .   .   .   .   .   .   X   X   X   X   X   X   X \n",
      "1   .   .   .   .   .   .   .   .   .   .   .   X   X   X   X   X   X   X   X   X   X   X   X \n",
      "2   .   .   .   .   .   .   X   X   X   X   X   X   X   X   X   X   X   X   X   X   X   X   X \n",
      "0   .   .   .   X   X   X   X   X   X   X   X   X   X   X   X   X   X   X   X   X   X   X   X \n",
      "\n"
     ]
    }
   ],
   "source": [
    "print(context_matrix)"
   ]
  },
  {
   "cell_type": "markdown",
   "metadata": {
    "deletable": true,
    "editable": true
   },
   "source": [
    "## Clusters as string\n"
   ]
  },
  {
   "cell_type": "code",
   "execution_count": 7,
   "metadata": {
    "collapsed": false,
    "deletable": true,
    "editable": true
   },
   "outputs": [
    {
     "name": "stdout",
     "output_type": "stream",
     "text": [
      "  |26 21 22 25 11 18 3 31 29 19 28 13 27 8 24 6  14 30 16 23 15 20 12 \n",
      "--+--+--+--+--+--+--+-+--+--+--+--+--+--+-+--+--+--+--+--+--+--+--+--+\n",
      "25|.  .  . |27|.  .  . .  .  .  .  .  .  . .  .  .  .  .  .  .  .  .  \n",
      "  +        +--+  +--+                                                 \n",
      "18|.  .  .  .| . |28|. .  .  .  .  .  .  . .  .  .  .  .  .  .  .  .  \n",
      "  +          |+-----+                                                 \n",
      "11|.  .  .  .||  29 |. .  .  .  .  .  .  . .  .  .  .  .  .  .  .  .  \n",
      "  +          |+-----+    +--+                                         \n",
      "29|.  .  .  .| . |.  . . |30|.  .  .  .  . .  .  .  .  .  .  .  .  .  \n",
      "  +          |   |       +--+  +--+                                   \n",
      "28|.  .  .  .| . |.  . .  .| . |31|.  .  . .  .  .  .  .  .  .  .  .  \n",
      "  +          |   |         |+-----+                                   \n",
      "19|.  .  .  .| . |.  . .  .||  32 |.  .  . .  .  .  .  .  .  .  .  .  \n",
      "  +          |   |       +--------+                                   \n",
      "7 |.  .  .  .| . |.  . . |   33   |.  .  . .  .  .  .  .  .  .  .  .  \n",
      "  +          |   |    +-----------+                                   \n",
      "31|.  .  .  .| . |.  .|     34    |.  .  . .  .  .  .  .  .  .  .  .  \n",
      "  +          |   |  +-------------+                                   \n",
      "3 |.  .  .  .| . |. |      35     |.  .  . .  .  .  .  .  .  .  .  .  \n",
      "  +--+  +--+ |   |  +-------------+--+                                \n",
      "26|38|--|37|-*---*---------*------|  |.  . .  .  .  .  .  .  .  .  .  \n",
      "  +--+-----+ |   |         |      |  |                                \n",
      "21|.||  39 |.| . |.  . .  .| .  . |36|.  . .  .  .  .  .  .  .  .  .  \n",
      "  +--------+ |   |         |      |  |                                \n",
      "17|   40   |.| . |.  . .  .| .  . |  |.  . .  .  .  .  .  .  .  .  .  \n",
      "  +--------+ |   |         |      +--+--+                             \n",
      "27|.  .  .  .| . |.  . .  .| .  .  .||41|. .  .  .  .  .  .  .  .  .  \n",
      "  +          |   |         |        |+--+    +--+                     \n",
      "10|.  .  .  .| . |.  . .  .| .  .  .||43|----|42|.  .  .  .  .  .  .  \n",
      "  +          |   |         |        |+--+ +-----+                     \n",
      "24|.  .  .  .| . |.  . .  .| .  .  .| .| .|  44 |.  .  .  .  .  .  .  \n",
      "  +          |   |         |        |  |+-------+                     \n",
      "8 |.  .  .  .| . |.  . .  .| .  .  .| .||   45  |.  .  .  .  .  .  .  \n",
      "  +          |   |         |        |  |+-------+     +--+            \n",
      "16|.  .  .  .| . |.  . .  .| .  .  .| .| . .| .  .  . |46|.  .  .  .  \n",
      "  +          |   |         |        |  |    |      +-----+            \n",
      "30|.  .  .  .| . |.  . .  .| .  .  .| .| . .| .  . |  47 |.  .  .  .  \n",
      "  +          |   |         |        |  |    |   +--+-----+        +--+\n",
      "14|.  .  .  .| . |.  . .  .| .  .  .| .| . .| . |49|--*-----------|  |\n",
      "  +          |   |         |        |  |    |   +--+  |  +--+     |48|\n",
      "23|.  .  .  .| . |.  . .  .| .  .  .| .| . .| .  .| . |. |50|-----|  |\n",
      "  +          |   |         |        |  |    |     |   |  +--+  +-----+\n",
      "20|.  .  .  .| . |.  . .  .| .  .  .| .| . .| .  .| . |.  .| . |  51 |\n",
      "  +          |   |         |        |  |    |     |   |    |+--------+\n",
      "15|.  .  .  .| . |.  . .  .| .  .  .| .| . .| .  .| . |.  .||   52   |\n",
      "  +        +--------+      |        |  |    |     |+-----------------+\n",
      "9 |.  .  . |   58   |------*--------*--*----*-----*|        55       |\n",
      "  +        +--------+      |        |  |    |   +--------------------+\n",
      "4 |.  .  .  .  .| .  . .  .| .  .  .| .| . .| . |         59         |\n",
      "  +             |          |      +-------------+--------------------+\n",
      "1 |.  .  .  .  .| .  . .  .| .  . |                64                |\n",
      "  +             |   +------------------------------------------------+\n",
      "2 |.  .  .  .  .| . |                       69                       |\n",
      "  +        +---------------------------------------------------------+\n",
      "0 |.  .  . |                            72                           |\n",
      "  +        +---------------------------------------------------------+\n"
     ]
    }
   ],
   "source": [
    "import TBS.clusters.to_string\n",
    "\n",
    "print(TBS.clusters.to_string.from_dlo_gamma_free_context_matrix(context_matrix))"
   ]
  },
  {
   "cell_type": "markdown",
   "metadata": {
    "deletable": true,
    "editable": true
   },
   "source": [
    "Note that the boxes depend on the matrix ordering."
   ]
  },
  {
   "cell_type": "markdown",
   "metadata": {
    "deletable": true,
    "editable": true
   },
   "source": [
    "### Associated lattice"
   ]
  },
  {
   "cell_type": "code",
   "execution_count": 8,
   "metadata": {
    "collapsed": true,
    "deletable": true,
    "editable": true
   },
   "outputs": [],
   "source": [
    "from TBS import clusters"
   ]
  },
  {
   "cell_type": "code",
   "execution_count": 9,
   "metadata": {
    "collapsed": false,
    "deletable": true,
    "editable": true
   },
   "outputs": [],
   "source": [
    "lattice = clusters.from_dlo_gamma_free_matrix.lattice(context_matrix.matrix)"
   ]
  },
  {
   "cell_type": "markdown",
   "metadata": {
    "deletable": true,
    "editable": true
   },
   "source": [
    "The lattice elements are the boxes. To have the associated number uses boxes from the cluster submodule.\n",
    "If the matrix is the same as for the creation of the lattice, the associated numbers are the same as for the print."
   ]
  },
  {
   "cell_type": "code",
   "execution_count": 10,
   "metadata": {
    "collapsed": false,
    "deletable": true,
    "editable": true,
    "scrolled": false
   },
   "outputs": [
    {
     "name": "stdout",
     "output_type": "stream",
     "text": [
      "64 ((24, 11), (24, 22))\n",
      "69 ((25, 6), (25, 22))\n",
      "72 ((26, 3), (26, 22))\n",
      "27 ((0, 3), (0, 3))\n",
      "28 ((1, 5), (1, 5))\n",
      "29 ((2, 4), (2, 5))\n",
      "30 ((3, 8), (3, 8))\n",
      "31 ((4, 10), (4, 10))\n",
      "32 ((5, 9), (5, 10))\n",
      "33 ((6, 8), (6, 10))\n",
      "34 ((7, 7), (7, 10))\n",
      "35 ((8, 6), (8, 10))\n",
      "36 ((9, 11), (11, 11))\n",
      "37 ((9, 2), (9, 2))\n",
      "38 ((9, 0), (9, 0))\n",
      "39 ((10, 1), (10, 2))\n",
      "40 ((11, 0), (11, 2))\n",
      "41 ((12, 12), (12, 12))\n",
      "42 ((13, 15), (13, 15))\n",
      "43 ((13, 12), (13, 12))\n",
      "44 ((14, 14), (14, 15))\n",
      "45 ((15, 13), (15, 15))\n",
      "46 ((16, 18), (16, 18))\n",
      "47 ((17, 17), (17, 18))\n",
      "48 ((18, 22), (19, 22))\n",
      "49 ((18, 16), (18, 16))\n",
      "50 ((19, 19), (19, 19))\n",
      "51 ((20, 21), (20, 22))\n",
      "52 ((21, 20), (21, 22))\n",
      "55 ((22, 17), (22, 22))\n",
      "58 ((22, 3), (22, 5))\n",
      "59 ((23, 16), (23, 22))\n"
     ]
    }
   ],
   "source": [
    "boxes = clusters.from_dlo_gamma_free_matrix.boxes(context_matrix.matrix)\n",
    "for key, value in boxes.items():\n",
    "    print(key, value)"
   ]
  },
  {
   "cell_type": "markdown",
   "metadata": {
    "deletable": true,
    "editable": true
   },
   "source": [
    "## Representant and hierarchical representation\n"
   ]
  },
  {
   "cell_type": "markdown",
   "metadata": {
    "deletable": true,
    "editable": true
   },
   "source": [
    "We will draw each element accordind to it's hierarchical depth."
   ]
  },
  {
   "cell_type": "code",
   "execution_count": 11,
   "metadata": {
    "collapsed": true,
    "deletable": true,
    "editable": true
   },
   "outputs": [],
   "source": [
    "from TBS.hierarchical_decomposition import hierarchical_height_from_lattice"
   ]
  },
  {
   "cell_type": "code",
   "execution_count": 12,
   "metadata": {
    "collapsed": false,
    "deletable": true,
    "editable": true
   },
   "outputs": [
    {
     "name": "stdout",
     "output_type": "stream",
     "text": [
      "{((23, 16), (23, 22)): 1, ((3, 8), (3, 8)): 0, ((13, 15), (13, 15)): 0, ((0, 3), (0, 3)): 0, ((22, 17), (22, 22)): 1, ((21, 20), (21, 22)): 0, ((13, 12), (13, 12)): 1, ((17, 17), (17, 18)): 0, ((9, 11), (11, 11)): 0, ((26, 3), (26, 22)): 2, ((15, 13), (15, 15)): 0, ((11, 0), (11, 2)): 1, ((2, 4), (2, 5)): 0, 'TOP': 0, ((19, 19), (19, 19)): 0, ((7, 7), (7, 10)): 1, ((18, 16), (18, 16)): 0, ((22, 3), (22, 5)): 1, ((16, 18), (16, 18)): 0, ((18, 22), (19, 22)): 0, ((10, 1), (10, 2)): 0, ((6, 8), (6, 10)): 1, ((12, 12), (12, 12)): 0, ((5, 9), (5, 10)): 0, ((1, 5), (1, 5)): 0, ((14, 14), (14, 15)): 0, ((8, 6), (8, 10)): 1, ((9, 2), (9, 2)): 0, ((24, 11), (24, 22)): 2, ((9, 0), (9, 0)): 0, 'BOTTOM': 3, ((25, 6), (25, 22)): 2, ((20, 21), (20, 22)): 0, ((4, 10), (4, 10)): 0}\n"
     ]
    }
   ],
   "source": [
    "hierarchy_association = hierarchical_height_from_lattice(lattice)\n",
    "\n",
    "hierarchy_association[\"BOTTOM\"] = max(hierarchy_association.values()) + 1\n",
    "hierarchy_association[\"TOP\"] = 0\n",
    "\n",
    "print(hierarchy_association)"
   ]
  },
  {
   "cell_type": "code",
   "execution_count": 13,
   "metadata": {
    "collapsed": false,
    "deletable": true,
    "editable": true
   },
   "outputs": [
    {
     "name": "stdout",
     "output_type": "stream",
     "text": [
      "4\n"
     ]
    }
   ],
   "source": [
    "number_hierarchies = max(hierarchy_association.values()) + 1\n",
    "\n",
    "print(number_hierarchies)"
   ]
  },
  {
   "cell_type": "markdown",
   "metadata": {
    "deletable": true,
    "editable": true
   },
   "source": [
    "We will draw the representant of each cluster which is the top-left vertex of its associated box."
   ]
  },
  {
   "cell_type": "code",
   "execution_count": 14,
   "metadata": {
    "collapsed": false,
    "deletable": true,
    "editable": true
   },
   "outputs": [
    {
     "name": "stdout",
     "output_type": "stream",
     "text": [
      "[(0, 3), (1, 5), (2, 4), (3, 8), (4, 10), (5, 9), (6, 8), (7, 7), (8, 6), (9, 0), (9, 2), (9, 11), (10, 1), (11, 0), (12, 12), (13, 12), (13, 15), (14, 14), (15, 13), (16, 18), (17, 17), (18, 16), (18, 22), (19, 19), (20, 21), (21, 20), (22, 3), (22, 17), (23, 16), (24, 11), (25, 6), (26, 3)]\n"
     ]
    }
   ],
   "source": [
    "representant_list_Lattice = [element[0] for element in lattice if element not in (\"BOTTOM\", \"TOP\")]\n",
    "representant_list_Lattice.sort()\n",
    "print(representant_list_Lattice)"
   ]
  },
  {
   "cell_type": "markdown",
   "metadata": {
    "deletable": true,
    "editable": true
   },
   "source": [
    "They can be directly found using only the matrix (which should be doubly lexically ordered and gamma free)."
   ]
  },
  {
   "cell_type": "code",
   "execution_count": 15,
   "metadata": {
    "collapsed": true,
    "deletable": true,
    "editable": true
   },
   "outputs": [],
   "source": [
    "from TBS.clusters.concepts import concepts_from_dlo_gamma_free_matrix"
   ]
  },
  {
   "cell_type": "code",
   "execution_count": 16,
   "metadata": {
    "collapsed": false,
    "deletable": true,
    "editable": true
   },
   "outputs": [
    {
     "name": "stdout",
     "output_type": "stream",
     "text": [
      "[(0, 3), (1, 5), (2, 4), (3, 8), (4, 10), (5, 9), (6, 8), (7, 7), (8, 6), (9, 0), (9, 2), (9, 11), (10, 1), (11, 0), (12, 12), (13, 12), (13, 15), (14, 14), (15, 13), (16, 18), (17, 17), (18, 16), (18, 22), (19, 19), (20, 21), (21, 20), (22, 3), (22, 17), (23, 16), (24, 11), (25, 6), (26, 3)]\n"
     ]
    }
   ],
   "source": [
    "representant_list = list(concepts_from_dlo_gamma_free_matrix(context_matrix.matrix))\n",
    "representant_list.sort()\n",
    "print(representant_list)"
   ]
  },
  {
   "cell_type": "markdown",
   "metadata": {
    "deletable": true,
    "editable": true
   },
   "source": [
    "We will draw it using matplotlib and each element will be represented by:\n",
    "  - a triangle facing up if it's an element (sup irreducible)\n",
    "  - a triangle facing down if it's an attribute (inf irreducible)\n",
    "  - a losange if it is both an element and an attribute (doubly irreducible)\n",
    "  - a circle otherwise\n",
    "  \n",
    "The edges will be plain and with the same color if it links two elements from the same hierarchy and dashed otehrwise."
   ]
  },
  {
   "cell_type": "code",
   "execution_count": 17,
   "metadata": {
    "collapsed": true,
    "deletable": true,
    "editable": true
   },
   "outputs": [],
   "source": [
    "# Matplotlib imports\n",
    "\n",
    "from matplotlib import pyplot\n",
    "import matplotlib\n",
    "import matplotlib.cm"
   ]
  },
  {
   "cell_type": "code",
   "execution_count": 18,
   "metadata": {
    "collapsed": false,
    "deletable": true,
    "editable": true
   },
   "outputs": [],
   "source": [
    "# draw helper methods\n",
    "\n",
    "def point_transformation_square(max_y):\n",
    "    return lambda line, column: (column, max_y - line)\n",
    "\n",
    "colors = matplotlib.cm.rainbow([0. + 1.0 * x / (number_hierarchies - 1) for x in range(number_hierarchies)])\n",
    "def edge_color(vertex1, vertex2=None):\n",
    "    if vertex2 is None:\n",
    "        vertex2 = vertex1\n",
    "            \n",
    "    return colors[max(hierarchy_association[vertex1], hierarchy_association[vertex2])]                "
   ]
  },
  {
   "cell_type": "code",
   "execution_count": 19,
   "metadata": {
    "collapsed": true,
    "deletable": true,
    "editable": true
   },
   "outputs": [],
   "source": [
    "from TBS.lattice import sup_irreducible, inf_irreducible\n",
    "\n",
    "def draw(plot2d, lattice, point_transformation, colors, representant):\n",
    "    objects = sup_irreducible(lattice)\n",
    "    attributes = inf_irreducible(lattice)\n",
    "\n",
    "    for elem in lattice:\n",
    "        x, y = point_transformation(*representant[elem])\n",
    "        if elem in objects:\n",
    "            type = \"^\"\n",
    "        elif elem in attributes:\n",
    "            type = \"v\"\n",
    "        else:\n",
    "            type = \"o\"\n",
    "        if elem in objects and elem in attributes:\n",
    "            type = \"d\"\n",
    "        plot2d.scatter(x, y, marker=type, zorder=1, color=edge_color(elem, elem), edgecolors='black')\n",
    "        # plot2d.annotate(str(elem), xy=(x, max_y - y), color=\"grey\")\n",
    "\n",
    "        for neighbor in lattice[elem]:\n",
    "            x2, y2 = point_transformation(*representant[neighbor])\n",
    "            color = edge_color(elem, neighbor)\n",
    "            if hierarchy_association[elem] != hierarchy_association[neighbor]:\n",
    "                type = \":\"\n",
    "            else:\n",
    "                type = \"-\"\n",
    "            plot2d.plot([x, x2], [y, y2], color=color, zorder=0, linestyle=type)"
   ]
  },
  {
   "cell_type": "code",
   "execution_count": 20,
   "metadata": {
    "collapsed": false,
    "deletable": true,
    "editable": true
   },
   "outputs": [],
   "source": [
    "points = {box: box[0] for box in lattice if box not in (\"BOTTOM\", \"TOP\")}\n",
    "points[\"BOTTOM\"] = (len(context_matrix.matrix), 0)\n",
    "points[\"TOP\"] = (0, len(context_matrix.matrix[0]))\n",
    "draw(pyplot,\n",
    "     lattice, \n",
    "     point_transformation_square(len(context_matrix.matrix)),\n",
    "     colors,\n",
    "     points)"
   ]
  },
  {
   "cell_type": "code",
   "execution_count": 21,
   "metadata": {
    "collapsed": false,
    "deletable": true,
    "editable": true
   },
   "outputs": [
    {
     "data": {
      "image/png": "[encoded data removed]",
      "text/plain": [
       "<matplotlib.figure.Figure at 0x10de394a8>"
      ]
     },
     "metadata": {},
     "output_type": "display_data"
    }
   ],
   "source": [
    "pyplot.show()"
   ]
  },
  {
   "cell_type": "code",
   "execution_count": 22,
   "metadata": {
    "collapsed": false,
    "deletable": true,
    "editable": true
   },
   "outputs": [
    {
     "data": {
      "image/png": "[encoded data removed]",
      "text/plain": [
       "<PIL.Image.Image image mode=RGB size=230x270 at 0x10DE31898>"
      ]
     },
     "execution_count": 22,
     "metadata": {},
     "output_type": "execute_result"
    }
   ],
   "source": [
    "import TBS.clusters.to_image\n",
    "\n",
    "TBS.clusters.to_image.create_image_from_dlo_gamma_free_matrix(context_matrix.matrix, pixel_size=10)"
   ]
  },
  {
   "cell_type": "code",
   "execution_count": null,
   "metadata": {
    "collapsed": true,
    "deletable": true,
    "editable": true
   },
   "outputs": [],
   "source": []
  }
 ],
 "metadata": {
  "kernelspec": {
   "display_name": "Python 3",
   "language": "python",
   "name": "python3"
  },
  "language_info": {
   "codemirror_mode": {
    "name": "ipython",
    "version": 3
   },
   "file_extension": ".py",
   "mimetype": "text/x-python",
   "name": "python",
   "nbconvert_exporter": "python",
   "pygments_lexer": "ipython3",
   "version": "3.6.0"
  }
 },
 "nbformat": 4,
 "nbformat_minor": 1
}
