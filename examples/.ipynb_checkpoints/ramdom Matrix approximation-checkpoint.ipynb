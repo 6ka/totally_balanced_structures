{
 "cells": [
  {
   "cell_type": "markdown",
   "metadata": {
    "deletable": true,
    "editable": true
   },
   "source": [
    "Random Dismantlable lattice\n",
    "===========================\n",
    "\n",
    "We create a random dismantlable lattice with $n$ elements and represent its associated context matrix\n"
   ]
  },
  {
   "cell_type": "code",
   "execution_count": 1,
   "metadata": {
    "collapsed": false,
    "deletable": true,
    "editable": true
   },
   "outputs": [],
   "source": [
    "# Path to TBS\n",
    "\n",
    "import sys\n",
    "import os\n",
    "\n",
    "sys.path.append(os.path.dirname('../'))"
   ]
  },
  {
   "cell_type": "markdown",
   "metadata": {
    "deletable": true,
    "editable": true
   },
   "source": [
    "Totally balanced structure creation\n",
    "-----------------------------------\n",
    "\n",
    "First create a random dismantable lattice which is immediatly converted into a binary matrix. \n",
    "The elements and attributes will be the inf and sup irreducible elements of the lattice (Caution: the other element names will be nevertheless lost)."
   ]
  },
  {
   "cell_type": "markdown",
   "metadata": {
    "deletable": true,
    "editable": true
   },
   "source": [
    "### Data as Context Matrix"
   ]
  },
  {
   "cell_type": "code",
   "execution_count": 2,
   "metadata": {
    "collapsed": false,
    "deletable": true,
    "editable": true
   },
   "outputs": [],
   "source": [
    "# TBS imports\n",
    "from TBS.randomize import random_dismantable_lattice\n",
    "from TBS.contextmatrix import ContextMatrix"
   ]
  },
  {
   "cell_type": "code",
   "execution_count": 3,
   "metadata": {
    "collapsed": true
   },
   "outputs": [],
   "source": [
    "NUMBER_LATTICE_ELEMENTS = 32"
   ]
  },
  {
   "cell_type": "code",
   "execution_count": 4,
   "metadata": {
    "collapsed": false
   },
   "outputs": [
    {
     "name": "stdout",
     "output_type": "stream",
     "text": [
      "BOTTOM 0     \n",
      "BOTTOM 6     \n",
      "BOTTOM 7     \n",
      "BOTTOM 24    \n",
      "0      1     \n",
      "1      10    \n",
      "1      12    \n",
      "2      3     \n",
      "2      4     \n",
      "2      15    \n",
      "3      TOP   \n",
      "4      5     \n",
      "4      14    \n",
      "4      25    \n",
      "5      TOP   \n",
      "6      TOP   \n",
      "7      8     \n",
      "7      18    \n",
      "7      22    \n",
      "8      11    \n",
      "8      13    \n",
      "9      23    \n",
      "10     2     \n",
      "10     27    \n",
      "11     20    \n",
      "12     5     \n",
      "13     16    \n",
      "14     9     \n",
      "15     19    \n",
      "16     TOP   \n",
      "17     21    \n",
      "17     31    \n",
      "18     26    \n",
      "19     TOP   \n",
      "20     TOP   \n",
      "21     TOP   \n",
      "22     28    \n",
      "22     30    \n",
      "23     17    \n",
      "24     TOP   \n",
      "25     TOP   \n",
      "26     5     \n",
      "27     14    \n",
      "28     16    \n",
      "28     29    \n",
      "29     TOP   \n",
      "30     16    \n",
      "31     TOP   \n"
     ]
    }
   ],
   "source": [
    "lattice_cover_graph = random_dismantable_lattice(NUMBER_LATTICE_ELEMENTS)\n",
    "print(lattice_cover_graph)"
   ]
  },
  {
   "cell_type": "code",
   "execution_count": 5,
   "metadata": {
    "collapsed": false,
    "deletable": true,
    "editable": true
   },
   "outputs": [],
   "source": [
    "context_matrix = ContextMatrix.from_lattice(random_dismantable_lattice(NUMBER_LATTICE_ELEMENTS))"
   ]
  },
  {
   "cell_type": "code",
   "execution_count": 6,
   "metadata": {
    "collapsed": false,
    "deletable": true,
    "editable": true,
    "scrolled": false
   },
   "outputs": [
    {
     "name": "stdout",
     "output_type": "stream",
     "text": [
      "    2   4   8   9   10  11  12  13  14  15  17  19  20  21  23  24  25  26  27  28  29  30  31\n",
      "0   X   X   X   .   X   X   X   .   X   X   X   X   X   .   .   X   X   .   X   X   X   X   . \n",
      "1   X   X   .   .   .   .   .   .   X   X   X   X   X   .   .   .   X   .   .   X   X   X   . \n",
      "3   .   X   .   .   .   .   .   .   .   X   X   .   X   .   .   .   X   .   .   .   .   X   . \n",
      "5   .   X   .   X   .   .   .   X   .   .   .   .   .   X   X   .   .   .   .   .   .   .   X \n",
      "6   X   .   .   .   X   .   .   .   X   .   .   X   .   .   .   .   .   .   .   X   .   .   . \n",
      "7   .   .   .   .   .   .   .   .   .   .   X   .   .   .   .   .   X   .   .   .   .   X   . \n",
      "8   X   .   X   .   X   .   .   .   X   .   .   X   .   .   .   .   .   .   .   X   .   .   . \n",
      "9   .   .   .   X   .   .   .   X   .   .   .   .   .   X   X   .   .   .   .   .   .   .   X \n",
      "12  .   .   .   .   .   .   X   .   .   .   .   .   .   .   .   .   .   .   .   .   .   .   . \n",
      "13  .   .   .   .   .   .   .   X   .   .   .   .   .   X   .   .   .   .   .   .   .   .   . \n",
      "14  .   .   .   .   .   .   .   .   X   .   .   .   .   .   .   .   .   .   .   .   .   .   . \n",
      "15  .   X   .   .   .   .   .   .   .   X   .   .   X   .   .   .   .   .   .   .   .   .   . \n",
      "16  .   X   .   .   .   .   .   .   .   .   .   .   .   .   .   .   .   .   X   .   .   .   . \n",
      "18  .   .   .   .   .   .   .   X   .   .   .   .   .   X   X   .   .   .   .   .   .   .   X \n",
      "19  .   .   .   .   .   .   .   .   X   .   .   X   .   .   .   .   .   .   .   .   .   .   . \n",
      "20  .   X   .   .   .   .   .   .   .   .   .   .   X   .   .   .   .   .   .   .   .   .   . \n",
      "21  .   .   .   .   .   .   .   .   .   .   .   .   .   X   .   .   .   .   .   .   .   .   . \n",
      "22  .   .   .   .   X   X   .   .   .   .   .   .   .   .   .   X   .   X   .   .   .   .   . \n",
      "23  .   .   .   .   .   .   .   .   .   .   .   .   .   .   X   .   .   .   .   .   .   .   . \n",
      "24  .   .   .   .   X   .   .   .   .   .   .   .   .   .   .   X   .   .   .   .   .   .   . \n",
      "25  .   .   .   .   .   .   .   .   .   .   X   .   .   .   .   .   X   .   .   .   .   .   . \n",
      "26  .   .   .   .   .   .   .   .   .   .   .   .   .   .   .   .   .   X   .   .   .   .   . \n",
      "27  .   .   .   .   .   .   .   .   .   .   .   .   .   .   .   .   .   .   X   .   .   .   . \n",
      "28  .   .   .   .   .   .   .   .   X   .   .   X   .   .   .   .   .   .   .   X   .   .   . \n",
      "29  .   .   .   .   .   .   .   .   .   .   X   .   .   .   .   .   .   .   .   .   X   .   . \n",
      "30  .   .   .   .   .   .   .   .   .   .   X   .   .   .   .   .   .   .   .   .   .   X   . \n",
      "31  .   .   .   .   .   .   .   .   .   .   .   .   .   .   X   .   .   .   .   .   .   .   X \n",
      "\n"
     ]
    }
   ],
   "source": [
    "print(context_matrix)"
   ]
  },
  {
   "cell_type": "markdown",
   "metadata": {
    "deletable": true,
    "editable": true
   },
   "source": [
    "Matrix reordering\n",
    "-----------------"
   ]
  },
  {
   "cell_type": "code",
   "execution_count": 7,
   "metadata": {
    "collapsed": false,
    "deletable": true,
    "editable": true
   },
   "outputs": [
    {
     "data": {
      "text/plain": [
       "<TBS.contextmatrix.context_matrix.ContextMatrix at 0x7f2330547f60>"
      ]
     },
     "execution_count": 7,
     "metadata": {},
     "output_type": "execute_result"
    }
   ],
   "source": [
    "context_matrix.reorder_doubly_lexical_order()"
   ]
  },
  {
   "cell_type": "code",
   "execution_count": 8,
   "metadata": {
    "collapsed": false,
    "deletable": true,
    "editable": true
   },
   "outputs": [
    {
     "name": "stdout",
     "output_type": "stream",
     "text": [
      "    26  9   31  23  13  21  12  11  24  8   10  27  2   28  19  14  29  30  25  17  15  20  4 \n",
      "26  X   .   .   .   .   .   .   .   .   .   .   .   .   .   .   .   .   .   .   .   .   .   . \n",
      "23  .   .   .   X   .   .   .   .   .   .   .   .   .   .   .   .   .   .   .   .   .   .   . \n",
      "31  .   .   X   X   .   .   .   .   .   .   .   .   .   .   .   .   .   .   .   .   .   .   . \n",
      "21  .   .   .   .   .   X   .   .   .   .   .   .   .   .   .   .   .   .   .   .   .   .   . \n",
      "13  .   .   .   .   X   X   .   .   .   .   .   .   .   .   .   .   .   .   .   .   .   .   . \n",
      "18  .   .   X   X   X   X   .   .   .   .   .   .   .   .   .   .   .   .   .   .   .   .   . \n",
      "9   .   X   X   X   X   X   .   .   .   .   .   .   .   .   .   .   .   .   .   .   .   .   . \n",
      "12  .   .   .   .   .   .   X   .   .   .   .   .   .   .   .   .   .   .   .   .   .   .   . \n",
      "24  .   .   .   .   .   .   .   .   X   .   X   .   .   .   .   .   .   .   .   .   .   .   . \n",
      "22  X   .   .   .   .   .   .   X   X   .   X   .   .   .   .   .   .   .   .   .   .   .   . \n",
      "27  .   .   .   .   .   .   .   .   .   .   .   X   .   .   .   .   .   .   .   .   .   .   . \n",
      "14  .   .   .   .   .   .   .   .   .   .   .   .   .   .   .   X   .   .   .   .   .   .   . \n",
      "19  .   .   .   .   .   .   .   .   .   .   .   .   .   .   X   X   .   .   .   .   .   .   . \n",
      "28  .   .   .   .   .   .   .   .   .   .   .   .   .   X   X   X   .   .   .   .   .   .   . \n",
      "6   .   .   .   .   .   .   .   .   .   .   X   .   X   X   X   X   .   .   .   .   .   .   . \n",
      "8   .   .   .   .   .   .   .   .   .   X   X   .   X   X   X   X   .   .   .   .   .   .   . \n",
      "29  .   .   .   .   .   .   .   .   .   .   .   .   .   .   .   .   X   .   .   X   .   .   . \n",
      "30  .   .   .   .   .   .   .   .   .   .   .   .   .   .   .   .   .   X   .   X   .   .   . \n",
      "25  .   .   .   .   .   .   .   .   .   .   .   .   .   .   .   .   .   .   X   X   .   .   . \n",
      "7   .   .   .   .   .   .   .   .   .   .   .   .   .   .   .   .   .   X   X   X   .   .   . \n",
      "5   .   X   X   X   X   X   .   .   .   .   .   .   .   .   .   .   .   .   .   .   .   .   X \n",
      "16  .   .   .   .   .   .   .   .   .   .   .   X   .   .   .   .   .   .   .   .   .   .   X \n",
      "20  .   .   .   .   .   .   .   .   .   .   .   .   .   .   .   .   .   .   .   .   .   X   X \n",
      "15  .   .   .   .   .   .   .   .   .   .   .   .   .   .   .   .   .   .   .   .   X   X   X \n",
      "3   .   .   .   .   .   .   .   .   .   .   .   .   .   .   .   .   .   X   X   X   X   X   X \n",
      "1   .   .   .   .   .   .   .   .   .   .   .   .   X   X   X   X   X   X   X   X   X   X   X \n",
      "0   .   .   .   .   .   .   X   X   X   X   X   X   X   X   X   X   X   X   X   X   X   X   X \n",
      "\n"
     ]
    }
   ],
   "source": [
    "print(context_matrix)"
   ]
  },
  {
   "cell_type": "markdown",
   "metadata": {
    "deletable": true,
    "editable": true
   },
   "source": [
    "## Clusters as string\n"
   ]
  },
  {
   "cell_type": "code",
   "execution_count": 10,
   "metadata": {
    "collapsed": false,
    "deletable": true,
    "editable": true
   },
   "outputs": [
    {
     "name": "stdout",
     "output_type": "stream",
     "text": [
      "  |26 9 31 23 13 21 12 11 24 8 10 27 2 28 19 14 29 30 25 17 15 20 4  \n",
      "--+--+-+--+--+--+--+--+--+--+-+--+--+-+--+--+--+--+--+--+--+--+--+--+\n",
      "26|27|. .  .  .  .  .  .  .  . .  .  . .  .  .  .  .  .  .  .  .  .  \n",
      "  +--+    +--+                                                       \n",
      "23|.| . . |28|.  .  .  .  .  . .  .  . .  .  .  .  .  .  .  .  .  .  \n",
      "  + |  +-----+                                                       \n",
      "31|.| .|  29 |.  .  .  .  .  . .  .  . .  .  .  .  .  .  .  .  .  .  \n",
      "  + |  +-----+  +--+                                                 \n",
      "21|.| . . |.  . |30|.  .  .  . .  .  . .  .  .  .  .  .  .  .  .  .  \n",
      "  + |     |  +-----+                                                 \n",
      "13|.| . . |. |  31 |.  .  .  . .  .  . .  .  .  .  .  .  .  .  .  .  \n",
      "  + |  +-----------+                                                 \n",
      "18|.| .|     33    |.  .  .  . .  .  . .  .  .  .  .  .  .  .  .  .  \n",
      "  + |+-------------+                                                 \n",
      "9 |.||      34     |.  .  .  . .  .  . .  .  .  .  .  .  .  .  .  .  \n",
      "  + |+-------------+--+                                              \n",
      "12|.| . .  .| .  . |35|.  .  . .  .  . .  .  .  .  .  .  .  .  .  .  \n",
      "  + |       |      +--+  +--+ +--+                                   \n",
      "24|.| . .  .| .  .  .| . |37|-|  |.  . .  .  .  .  .  .  .  .  .  .  \n",
      "  +--+      |        |+-----+ |36|                                   \n",
      "22|39|------*--------*|  38 |.|  |.  . .  .  .  .  .  .  .  .  .  .  \n",
      "  +--+      |        |+-----+ +--+--+                                \n",
      "27|.  . .  .| .  .  .| . |.  . .||40|. .  .  .  .  .  .  .  .  .  .  \n",
      "  +         |        |   |      |+--+       +--+                     \n",
      "14|.  . .  .| .  .  .| . |.  . .| .| . .  . |41|.  .  .  .  .  .  .  \n",
      "  +         |        |   |      |  |     +-----+                     \n",
      "19|.  . .  .| .  .  .| . |.  . .| .| . . |  42 |.  .  .  .  .  .  .  \n",
      "  +         |        |   |      |  |  +--------+                     \n",
      "28|.  . .  .| .  .  .| . |.  . .| .| .|   43   |.  .  .  .  .  .  .  \n",
      "  +         |        |   |    +--+ |+----------+                     \n",
      "6 |.  . .  .| .  .  .| . |.  .|45|-*|          |.  .  .  .  .  .  .  \n",
      "  +         |        |   |  +----+ ||    44    |                     \n",
      "8 |.  . .  .| .  .  .| . |. | 46 |.||          |.  .  .  .  .  .  .  \n",
      "  +         |        |   |  +----+ |+----------+--+     +--+         \n",
      "29|.  . .  .| .  .  .| . |.  .|.  .| . . |.  . |48|-----|  |.  .  .  \n",
      "  +         |        |   |    |    |     |     +--+--+  |47|         \n",
      "30|.  . .  .| .  .  .| . |.  .|.  .| . . |.  .  .||49|--|  |.  .  .  \n",
      "  +         |        |   |    |    |     |       |+--+-----+         \n",
      "25|.  . .  .| .  .  .| . |.  .|.  .| . . |.  .  .| .||  50 |.  .  .  \n",
      "  +         |        |   |    |    |     |       |+--------+         \n",
      "7 |.  . .  .| .  .  .| . |.  .|.  .| . . |.  .  .||   51   |.  .  .  \n",
      "  +  +-------------+ |   |    |    |     |       |+--------+     +--+\n",
      "5 |. |      57     |-*---*----*----*-----*-------*-----*---------|  |\n",
      "  +  +-------------+ |   |    |  +--+    |       |     |         |52|\n",
      "16|.  . .  .  .  .  .| . |.  .|. |58|----*-------*-----*---------|  |\n",
      "  +                  |   |    |  +--+    |       |     |      +-----+\n",
      "20|.  . .  .  .  .  .| . |.  .|.  .| . . |.  .  .| .  .| .  . |  59 |\n",
      "  +                  |   |    |    |     |       |     |   +--------+\n",
      "15|.  . .  .  .  .  .| . |.  .|.  .| . . |.  .  .| .  .| . |   60   |\n",
      "  +                  |   |    |    |     |       |+-----------------+\n",
      "3 |.  . .  .  .  .  .| . |.  .|.  .| . . |.  .  .||        63       |\n",
      "  +                  |   |    |    |+-------------------------------+\n",
      "1 |.  . .  .  .  .  .| . |.  .|.  .||               68              |\n",
      "  +                +------------------------------------------------+\n",
      "0 |.  . .  .  .  . |                       74                       |\n",
      "  +                +------------------------------------------------+\n"
     ]
    }
   ],
   "source": [
    "import TBS.clusters.to_string\n",
    "\n",
    "print(TBS.clusters.to_string.from_dlo_gamma_free_context_matrix(context_matrix))"
   ]
  },
  {
   "cell_type": "markdown",
   "metadata": {
    "deletable": true,
    "editable": true
   },
   "source": [
    "Note that the boxes depend on the matrix ordering."
   ]
  },
  {
   "cell_type": "markdown",
   "metadata": {
    "deletable": true,
    "editable": true
   },
   "source": [
    "### Associated lattice"
   ]
  },
  {
   "cell_type": "code",
   "execution_count": 11,
   "metadata": {
    "collapsed": true,
    "deletable": true,
    "editable": true
   },
   "outputs": [],
   "source": [
    "from TBS import clusters"
   ]
  },
  {
   "cell_type": "code",
   "execution_count": 12,
   "metadata": {
    "collapsed": false,
    "deletable": true,
    "editable": true
   },
   "outputs": [],
   "source": [
    "lattice = clusters.from_dlo_gamma_free_matrix.lattice(context_matrix.matrix)"
   ]
  },
  {
   "cell_type": "markdown",
   "metadata": {
    "deletable": true,
    "editable": true
   },
   "source": [
    "The lattice elements are the boxes. To have the associated number uses boxes from the cluster submodule.\n",
    "If the matrix is the same as for the creation of the lattice, the associated numbers are the same as for the print."
   ]
  },
  {
   "cell_type": "code",
   "execution_count": 13,
   "metadata": {
    "collapsed": false,
    "deletable": true,
    "editable": true,
    "scrolled": false
   },
   "outputs": [
    {
     "name": "stdout",
     "output_type": "stream",
     "text": [
      "25 ((0, 3), (0, 3))\n",
      "26 ((1, 2), (1, 3))\n",
      "27 ((2, 1), (2, 3))\n",
      "29 ((3, 0), (3, 0))\n",
      "28 ((3, 8), (3, 8))\n",
      "30 ((4, 14), (4, 14))\n",
      "32 ((5, 4), (5, 4))\n",
      "31 ((5, 16), (6, 16))\n",
      "33 ((6, 14), (6, 14))\n",
      "36 ((7, 4), (7, 4))\n",
      "35 ((7, 10), (7, 10))\n",
      "34 ((7, 15), (8, 16))\n",
      "37 ((8, 9), (8, 10))\n",
      "39 ((9, 11), (9, 11))\n",
      "38 ((9, 14), (11, 16))\n",
      "40 ((10, 12), (10, 12))\n",
      "41 ((11, 13), (11, 13))\n",
      "42 ((12, 18), (12, 18))\n",
      "43 ((13, 17), (13, 18))\n",
      "46 ((14, 14), (14, 18))\n",
      "55 ((15, 1), (15, 3))\n",
      "52 ((15, 8), (15, 18))\n",
      "56 ((16, 7), (16, 18))\n",
      "57 ((17, 6), (17, 18))\n",
      "58 ((18, 5), (18, 18))\n",
      "59 ((19, 19), (19, 19))\n",
      "61 ((20, 19), (20, 19))\n",
      "60 ((20, 22), (20, 22))\n",
      "62 ((21, 21), (21, 22))\n",
      "63 ((22, 20), (22, 22))\n",
      "64 ((23, 19), (23, 22))\n",
      "79 ((24, 4), (24, 22))\n"
     ]
    }
   ],
   "source": [
    "boxes = clusters.from_dlo_gamma_free_matrix.boxes(context_matrix.matrix)\n",
    "for key, value in boxes.items():\n",
    "    print(key, value)"
   ]
  },
  {
   "cell_type": "markdown",
   "metadata": {
    "deletable": true,
    "editable": true
   },
   "source": [
    "## Representant and hierarchical representation\n"
   ]
  },
  {
   "cell_type": "markdown",
   "metadata": {
    "deletable": true,
    "editable": true
   },
   "source": [
    "We will draw each element accordind to it's hierarchical depth."
   ]
  },
  {
   "cell_type": "code",
   "execution_count": 14,
   "metadata": {
    "collapsed": true,
    "deletable": true,
    "editable": true
   },
   "outputs": [],
   "source": [
    "from TBS.hierarchical_decomposition import hierarchical_height_from_lattice"
   ]
  },
  {
   "cell_type": "code",
   "execution_count": 15,
   "metadata": {
    "collapsed": false,
    "deletable": true,
    "editable": true
   },
   "outputs": [
    {
     "name": "stdout",
     "output_type": "stream",
     "text": [
      "{((3, 8), (3, 8)): 0, ((4, 14), (4, 14)): 0, ((19, 19), (19, 19)): 0, ((0, 3), (0, 3)): 0, ((5, 16), (6, 16)): 0, ((20, 22), (20, 22)): 0, ((7, 10), (7, 10)): 0, 'TOP': 0, ((13, 17), (13, 18)): 0, ((22, 20), (22, 22)): 0, ((7, 15), (8, 16)): 0, ((3, 0), (3, 0)): 0, ((5, 4), (5, 4)): 0, ((2, 1), (2, 3)): 0, ((1, 2), (1, 3)): 0, ((8, 9), (8, 10)): 0, ((12, 18), (12, 18)): 0, ((21, 21), (21, 22)): 0, ((7, 4), (7, 4)): 1, ((9, 11), (9, 11)): 1, ((10, 12), (10, 12)): 1, ((20, 19), (20, 19)): 1, ((14, 14), (14, 18)): 1, ((23, 19), (23, 22)): 1, ((11, 13), (11, 13)): 1, ((6, 14), (6, 14)): 1, ((9, 14), (11, 16)): 1, ((15, 8), (15, 18)): 2, ((24, 4), (24, 22)): 2, ((16, 7), (16, 18)): 2, ((15, 1), (15, 3)): 2, ((18, 5), (18, 18)): 2, ((17, 6), (17, 18)): 2, 'BOTTOM': 3}\n"
     ]
    }
   ],
   "source": [
    "hierarchy_association = hierarchical_height_from_lattice(lattice)\n",
    "\n",
    "hierarchy_association[\"BOTTOM\"] = max(hierarchy_association.values()) + 1\n",
    "hierarchy_association[\"TOP\"] = 0\n",
    "\n",
    "print(hierarchy_association)"
   ]
  },
  {
   "cell_type": "code",
   "execution_count": 16,
   "metadata": {
    "collapsed": false,
    "deletable": true,
    "editable": true
   },
   "outputs": [
    {
     "name": "stdout",
     "output_type": "stream",
     "text": [
      "4\n"
     ]
    }
   ],
   "source": [
    "number_hierarchies = max(hierarchy_association.values()) + 1\n",
    "\n",
    "print(number_hierarchies)"
   ]
  },
  {
   "cell_type": "markdown",
   "metadata": {
    "deletable": true,
    "editable": true
   },
   "source": [
    "We will draw the representant of each cluster which is the top-left vertex of its associated box."
   ]
  },
  {
   "cell_type": "code",
   "execution_count": 17,
   "metadata": {
    "collapsed": false,
    "deletable": true,
    "editable": true
   },
   "outputs": [
    {
     "name": "stdout",
     "output_type": "stream",
     "text": [
      "[(0, 3), (1, 2), (2, 1), (3, 0), (3, 8), (4, 14), (5, 4), (5, 16), (6, 14), (7, 4), (7, 10), (7, 15), (8, 9), (9, 11), (9, 14), (10, 12), (11, 13), (12, 18), (13, 17), (14, 14), (15, 1), (15, 8), (16, 7), (17, 6), (18, 5), (19, 19), (20, 19), (20, 22), (21, 21), (22, 20), (23, 19), (24, 4)]\n"
     ]
    }
   ],
   "source": [
    "representant_list_Lattice = [element[0] for element in lattice if element not in (\"BOTTOM\", \"TOP\")]\n",
    "representant_list_Lattice.sort()\n",
    "print(representant_list_Lattice)"
   ]
  },
  {
   "cell_type": "markdown",
   "metadata": {
    "deletable": true,
    "editable": true
   },
   "source": [
    "They can be directly found using only the matrix (which should be doubly lexically ordered and gamma free)."
   ]
  },
  {
   "cell_type": "code",
   "execution_count": 18,
   "metadata": {
    "collapsed": true,
    "deletable": true,
    "editable": true
   },
   "outputs": [],
   "source": [
    "from TBS.clusters.concepts import concepts_from_dlo_gamma_free_matrix"
   ]
  },
  {
   "cell_type": "code",
   "execution_count": 19,
   "metadata": {
    "collapsed": false,
    "deletable": true,
    "editable": true
   },
   "outputs": [
    {
     "name": "stdout",
     "output_type": "stream",
     "text": [
      "[(0, 3), (1, 2), (2, 1), (3, 0), (3, 8), (4, 14), (5, 4), (5, 16), (6, 14), (7, 4), (7, 10), (7, 15), (8, 9), (9, 11), (9, 14), (10, 12), (11, 13), (12, 18), (13, 17), (14, 14), (15, 1), (15, 8), (16, 7), (17, 6), (18, 5), (19, 19), (20, 19), (20, 22), (21, 21), (22, 20), (23, 19), (24, 4)]\n"
     ]
    }
   ],
   "source": [
    "representant_list = list(concepts_from_dlo_gamma_free_matrix(context_matrix.matrix))\n",
    "representant_list.sort()\n",
    "print(representant_list)"
   ]
  },
  {
   "cell_type": "markdown",
   "metadata": {
    "deletable": true,
    "editable": true
   },
   "source": [
    "We will draw it using matplotlib and each element will be represented by:\n",
    "  - a triangle facing up if it's an element (sup irreducible)\n",
    "  - a triangle facing down if it's an attribute (inf irreducible)\n",
    "  - a losange if it is both an element and an attribute (doubly irreducible)\n",
    "  - a circle otherwise\n",
    "  \n",
    "The edges will be plain and with the same color if it links two elements from the same hierarchy and dashed otehrwise."
   ]
  },
  {
   "cell_type": "code",
   "execution_count": 20,
   "metadata": {
    "collapsed": true,
    "deletable": true,
    "editable": true
   },
   "outputs": [],
   "source": [
    "# Matplotlib imports\n",
    "\n",
    "from matplotlib import pyplot\n",
    "import matplotlib\n",
    "import matplotlib.cm"
   ]
  },
  {
   "cell_type": "code",
   "execution_count": 21,
   "metadata": {
    "collapsed": false,
    "deletable": true,
    "editable": true
   },
   "outputs": [],
   "source": [
    "# draw helper methods\n",
    "\n",
    "def point_transformation_square(max_y):\n",
    "    return lambda line, column: (column, max_y - line)\n",
    "\n",
    "colors = matplotlib.cm.rainbow([0. + 1.0 * x / (number_hierarchies - 1) for x in range(number_hierarchies)])\n",
    "def edge_color(vertex1, vertex2=None):\n",
    "    if vertex2 is None:\n",
    "        vertex2 = vertex1\n",
    "            \n",
    "    return colors[max(hierarchy_association[vertex1], hierarchy_association[vertex2])]"
   ]
  },
  {
   "cell_type": "code",
   "execution_count": 22,
   "metadata": {
    "collapsed": true,
    "deletable": true,
    "editable": true
   },
   "outputs": [],
   "source": [
    "from TBS.lattice import sup_irreducible, inf_irreducible\n",
    "\n",
    "def draw(plot2d, lattice, point_transformation, colors, representant):\n",
    "    objects = sup_irreducible(lattice)\n",
    "    attributes = inf_irreducible(lattice)\n",
    "\n",
    "    for elem in lattice:\n",
    "        x, y = point_transformation(*representant[elem])\n",
    "        if elem in objects:\n",
    "            type = \"^\"\n",
    "        elif elem in attributes:\n",
    "            type = \"v\"\n",
    "        else:\n",
    "            type = \"o\"\n",
    "        if elem in objects and elem in attributes:\n",
    "            type = \"d\"\n",
    "        plot2d.scatter(x, y, marker=type, zorder=1, color=edge_color(elem, elem), edgecolors='black')\n",
    "        # plot2d.annotate(str(elem), xy=(x, max_y - y), color=\"grey\")\n",
    "\n",
    "        for neighbor in lattice[elem]:\n",
    "            x2, y2 = point_transformation(*representant[neighbor])\n",
    "            color = edge_color(elem, neighbor)\n",
    "            if hierarchy_association[elem] != hierarchy_association[neighbor]:\n",
    "                type = \":\"\n",
    "            else:\n",
    "                type = \"-\"\n",
    "            plot2d.plot([x, x2], [y, y2], color=color, zorder=0, linestyle=type)"
   ]
  },
  {
   "cell_type": "code",
   "execution_count": 23,
   "metadata": {
    "collapsed": false,
    "deletable": true,
    "editable": true
   },
   "outputs": [],
   "source": [
    "points = {box: box[0] for box in lattice if box not in (\"BOTTOM\", \"TOP\")}\n",
    "points[\"BOTTOM\"] = (len(context_matrix.matrix), 0)\n",
    "points[\"TOP\"] = (0, len(context_matrix.matrix[0]))\n",
    "draw(pyplot,\n",
    "     lattice, \n",
    "     point_transformation_square(len(context_matrix.matrix)),\n",
    "     colors,\n",
    "     points)"
   ]
  },
  {
   "cell_type": "code",
   "execution_count": 24,
   "metadata": {
    "collapsed": false,
    "deletable": true,
    "editable": true
   },
   "outputs": [
    {
     "data": {
      "image/png": "[encoded data removed]",
      "text/plain": [
       "<matplotlib.figure.Figure at 0x7f294c29d6d8>"
      ]
     },
     "metadata": {},
     "output_type": "display_data"
    }
   ],
   "source": [
    "pyplot.show()"
   ]
  },
  {
   "cell_type": "code",
   "execution_count": 25,
   "metadata": {
    "collapsed": false,
    "deletable": true,
    "editable": true
   },
   "outputs": [
    {
     "data": {
      "image/png": "[encoded data removed]",
      "text/plain": [
       "<PIL.Image.Image image mode=RGB size=230x250 at 0x7F2948B0DBA8>"
      ]
     },
     "execution_count": 25,
     "metadata": {},
     "output_type": "execute_result"
    }
   ],
   "source": [
    "import TBS.clusters.to_image\n",
    "\n",
    "TBS.clusters.to_image.create_image_from_dlo_gamma_free_matrix(context_matrix.matrix, pixel_size=10)"
   ]
  },
  {
   "cell_type": "code",
   "execution_count": null,
   "metadata": {
    "collapsed": true,
    "deletable": true,
    "editable": true
   },
   "outputs": [],
   "source": []
  }
 ],
 "metadata": {
  "kernelspec": {
   "display_name": "Python 3",
   "language": "python",
   "name": "python3"
  },
  "language_info": {
   "codemirror_mode": {
    "name": "ipython",
    "version": 3
   },
   "file_extension": ".py",
   "mimetype": "text/x-python",
   "name": "python",
   "nbconvert_exporter": "python",
   "pygments_lexer": "ipython3",
   "version": "3.6.0"
  }
 },
 "nbformat": 4,
 "nbformat_minor": 0
}
