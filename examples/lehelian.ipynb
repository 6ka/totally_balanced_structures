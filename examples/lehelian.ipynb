{
 "cells": [
  {
   "cell_type": "markdown",
   "metadata": {
    "pycharm": {}
   },
   "source": [
    "# Lehelian hypergraphs"
   ]
  },
  {
   "cell_type": "code",
   "execution_count": 1,
   "metadata": {
    "pycharm": {
     "metadata": false,
     "name": "#%%\n"
    }
   },
   "outputs": [],
   "source": [
    "# Path to tbs\n",
    "\n",
    "import sys\n",
    "import os\n",
    "\n",
    "sys.path.append(os.path.dirname('../'))"
   ]
  },
  {
   "cell_type": "code",
   "execution_count": 2,
   "metadata": {},
   "outputs": [],
   "source": [
    "\n",
    "# imports\n",
    "from tbs.lehelian import random_lehelian_hypergraph\n",
    "from tbs.gamma_free import GammaFree, box_lattice\n",
    "import tbs.gamma_free\n"
   ]
  },
  {
   "cell_type": "markdown",
   "metadata": {
    "pycharm": {
     "metadata": false
    }
   },
   "source": [
    "## Creation of an ordered Lehelian binary matrix"
   ]
  },
  {
   "cell_type": "code",
   "execution_count": 3,
   "metadata": {
    "pycharm": {
     "metadata": false,
     "name": "#%%\n"
    }
   },
   "outputs": [],
   "source": [
    "N_ELEMENTS = 10"
   ]
  },
  {
   "cell_type": "markdown",
   "metadata": {
    "pycharm": {
     "metadata": false,
     "name": "#%% md\n"
    }
   },
   "source": [
    "### random Lehelian hypergraph\n",
    "\n",
    "Number of clusters is equal to $\\binom{2}{n+1}$"
   ]
  },
  {
   "cell_type": "code",
   "execution_count": 4,
   "metadata": {
    "pycharm": {
     "metadata": false,
     "name": "#%%\n"
    }
   },
   "outputs": [],
   "source": [
    "random_hypergraph = random_lehelian_hypergraph(range(N_ELEMENTS))"
   ]
  },
  {
   "cell_type": "code",
   "execution_count": 5,
   "metadata": {
    "pycharm": {
     "metadata": false,
     "name": "#%%\n"
    }
   },
   "outputs": [
    {
     "name": "stdout",
     "output_type": "stream",
     "text": [
      "55\n"
     ]
    }
   ],
   "source": [
    "print(len(random_hypergraph))\n"
   ]
  },
  {
   "cell_type": "markdown",
   "source": [
    "\n",
    "### ordering\n",
    "\n",
    "ensure that a leaf is the last element of the order. Since there are only two leaves,\n",
    "put the first one at the end. Note that the last element is not necessary a leaf for a given DLO.\n",
    "\n",
    "Nevertheless, each leaf can be the last element of a DLO."
   ],
   "metadata": {
    "collapsed": false
   }
  },
  {
   "cell_type": "code",
   "execution_count": 6,
   "outputs": [
    {
     "name": "stdout",
     "output_type": "stream",
     "text": [
      "[5, 6, 3, 0, 7, 8, 1, 4, 2, 9]\n"
     ]
    }
   ],
   "source": [
    "context_matrix = GammaFree.from_clusters(random_hypergraph).reorder_doubly_lexical()\n",
    "leaves = [context_matrix.elements[0]]\n",
    "print(list(context_matrix.elements))"
   ],
   "metadata": {
    "collapsed": false,
    "pycharm": {
     "name": "#%%\n"
    }
   }
  },
  {
   "cell_type": "code",
   "execution_count": 7,
   "outputs": [
    {
     "data": {
      "text/plain": "ContextMatrix(((1, 0, 0, 1, 0, 0, 0, 1, 0, 1, 0, 0, 0, 0, 1, 0, 0, 0, 0, 0, 1, 0, 0, 0, 0, 0, 0, 1, 0, 0, 0, 0, 0, 0, 0, 1, 0, 0, 0, 0, 0, 0, 0, 0, 1, 0, 0, 0, 0, 0, 0, 0, 0, 0, 1), (0, 1, 0, 0, 0, 1, 0, 0, 1, 1, 0, 0, 0, 1, 1, 0, 0, 0, 0, 1, 1, 0, 0, 0, 0, 0, 1, 1, 0, 0, 0, 0, 0, 0, 1, 1, 0, 0, 0, 0, 0, 0, 0, 1, 1, 0, 0, 0, 0, 0, 0, 0, 0, 1, 1), (0, 0, 1, 1, 0, 0, 1, 1, 1, 1, 0, 0, 1, 1, 1, 0, 0, 0, 1, 1, 1, 0, 0, 0, 0, 1, 1, 1, 0, 0, 0, 0, 0, 1, 1, 1, 0, 0, 0, 0, 0, 0, 1, 1, 1, 0, 0, 0, 0, 0, 0, 0, 1, 1, 1), (0, 0, 0, 0, 1, 1, 1, 1, 1, 1, 0, 1, 1, 1, 1, 0, 0, 1, 1, 1, 1, 0, 0, 0, 1, 1, 1, 1, 0, 0, 0, 0, 1, 1, 1, 1, 0, 0, 0, 0, 0, 1, 1, 1, 1, 0, 0, 0, 0, 0, 0, 1, 1, 1, 1), (0, 0, 0, 0, 0, 0, 0, 0, 0, 0, 1, 1, 1, 1, 1, 0, 1, 1, 1, 1, 1, 0, 0, 1, 1, 1, 1, 1, 0, 0, 0, 1, 1, 1, 1, 1, 0, 0, 0, 0, 1, 1, 1, 1, 1, 0, 0, 0, 0, 0, 1, 1, 1, 1, 1), (0, 0, 0, 0, 0, 0, 0, 0, 0, 0, 0, 0, 0, 0, 0, 1, 1, 1, 1, 1, 1, 0, 1, 1, 1, 1, 1, 1, 0, 0, 1, 1, 1, 1, 1, 1, 0, 0, 0, 1, 1, 1, 1, 1, 1, 0, 0, 0, 0, 1, 1, 1, 1, 1, 1), (0, 0, 0, 0, 0, 0, 0, 0, 0, 0, 0, 0, 0, 0, 0, 0, 0, 0, 0, 0, 0, 1, 1, 1, 1, 1, 1, 1, 0, 1, 1, 1, 1, 1, 1, 1, 0, 0, 1, 1, 1, 1, 1, 1, 1, 0, 0, 0, 1, 1, 1, 1, 1, 1, 1), (0, 0, 0, 0, 0, 0, 0, 0, 0, 0, 0, 0, 0, 0, 0, 0, 0, 0, 0, 0, 0, 0, 0, 0, 0, 0, 0, 0, 1, 1, 1, 1, 1, 1, 1, 1, 0, 1, 1, 1, 1, 1, 1, 1, 1, 0, 0, 1, 1, 1, 1, 1, 1, 1, 1), (0, 0, 0, 0, 0, 0, 0, 0, 0, 0, 0, 0, 0, 0, 0, 0, 0, 0, 0, 0, 0, 0, 0, 0, 0, 0, 0, 0, 0, 0, 0, 0, 0, 0, 0, 0, 1, 1, 1, 1, 1, 1, 1, 1, 1, 0, 1, 1, 1, 1, 1, 1, 1, 1, 1), (0, 0, 0, 0, 0, 0, 0, 0, 0, 0, 0, 0, 0, 0, 0, 0, 0, 0, 0, 0, 0, 0, 0, 0, 0, 0, 0, 0, 0, 0, 0, 0, 0, 0, 0, 0, 0, 0, 0, 0, 0, 0, 0, 0, 0, 1, 1, 1, 1, 1, 1, 1, 1, 1, 1)), elements=(6, 3, 0, 7, 9, 2, 4, 1, 8, 5), attributes=(48, 46, 54, 12, 45, 27, 22, 41, 40, 33, 28, 6, 44, 30, 4, 38, 10, 47, 34, 29, 52, 37, 16, 9, 50, 2, 13, 36, 7, 1, 39, 31, 24, 25, 14, 0, 15, 17, 8, 18, 53, 19, 49, 23, 20, 35, 21, 3, 5, 43, 26, 42, 11, 32, 51))"
     },
     "execution_count": 7,
     "metadata": {},
     "output_type": "execute_result"
    }
   ],
   "source": [
    "context_matrix.reorder_doubly_lexical([list(range(len(context_matrix.elements)-1, 0, -1))] +\n",
    "                                      [[0]])"
   ],
   "metadata": {
    "collapsed": false,
    "pycharm": {
     "name": "#%%\n"
    }
   }
  },
  {
   "cell_type": "code",
   "execution_count": 8,
   "outputs": [
    {
     "name": "stdout",
     "output_type": "stream",
     "text": [
      "[6, 3, 0, 7, 9, 2, 4, 1, 8, 5]\n"
     ]
    }
   ],
   "source": [
    "leaves.insert(0, context_matrix.elements[0])\n",
    "\n",
    "print(list(context_matrix.elements))"
   ],
   "metadata": {
    "collapsed": false,
    "pycharm": {
     "name": "#%%\n"
    }
   }
  },
  {
   "cell_type": "code",
   "execution_count": 9,
   "outputs": [
    {
     "name": "stdout",
     "output_type": "stream",
     "text": [
      "[6, 5]\n"
     ]
    }
   ],
   "source": [
    "print(leaves)"
   ],
   "metadata": {
    "collapsed": false,
    "pycharm": {
     "name": "#%%\n"
    }
   }
  },
  {
   "cell_type": "markdown",
   "metadata": {
    "pycharm": {
     "metadata": false,
     "name": "#%% md\n"
    }
   },
   "source": [
    "### reorder lines"
   ]
  },
  {
   "cell_type": "code",
   "execution_count": 10,
   "outputs": [],
   "source": [
    "context_matrix.elements = [i+1 for i in range(len(context_matrix.elements))]"
   ],
   "metadata": {
    "collapsed": false,
    "pycharm": {
     "name": "#%%\n"
    }
   }
  },
  {
   "cell_type": "markdown",
   "source": [
    "### associated structures\n"
   ],
   "metadata": {
    "collapsed": false
   }
  },
  {
   "cell_type": "code",
   "execution_count": 11,
   "outputs": [
    {
     "name": "stdout",
     "output_type": "stream",
     "text": [
      "DismantlableLattice(DirectedGraph(frozenset({((4, 16), (4, 20)), ((0, 35), (0, 35)), ((6, 48), (6, 55)), ((4, 23), (4, 27)), ((0, 20), (0, 20)), ((9, 45), (9, 55)), ((6, 38), (6, 44)), ((3, 51), (3, 55)), ((0, 9), (0, 9)), ((3, 11), (3, 14)), ((6, 29), (6, 35)), ((5, 49), (5, 55)), ((0, 0), (0, 0)), ((1, 1), (1, 1)), ((1, 26), (1, 27)), ((4, 31), (4, 35)), ((2, 18), (2, 20)), ((1, 43), (1, 44)), ((2, 2), (2, 3)), ((8, 46), (8, 55)), ((5, 30), (5, 35)), ((0, 7), (0, 7)), ((0, 27), (0, 27)), ((5, 22), (5, 27)), ((7, 28), (7, 35)), ((1, 34), (1, 35)), ((0, 54), (0, 55)), ((7, 47), (7, 55)), ((3, 4), (3, 9)), ((1, 5), (1, 5)), ((7, 37), (7, 44)), ((1, 19), (1, 20)), ((5, 15), (5, 20)), ((0, 3), (0, 3)), ((4, 10), (4, 14)), ((3, 17), (3, 20)), ((2, 52), (2, 55)), ((2, 6), (2, 9)), ((2, 33), (2, 35)), ((1, 13), (1, 14)), ((5, 39), (5, 44)), ((8, 36), (8, 44)), ((2, 12), (2, 14)), ((10, 0), (10, 55)), ((2, 42), (2, 44)), ((3, 41), (3, 44)), ((6, 21), (6, 27)), ((0, 14), (0, 14)), ((4, 40), (4, 44)), ((3, 24), (3, 27)), ((1, 53), (1, 55)), ((4, 50), (4, 55)), ((2, 25), (2, 27)), ((1, 8), (1, 9)), ((3, 32), (3, 35)), ((0, 44), (0, 44))}), frozenset({(((7, 28), (7, 35)), ((6, 29), (6, 35))), (((6, 29), (6, 35)), ((5, 30), (5, 35))), (((10, 0), (10, 55)), ((7, 28), (7, 35))), (((1, 19), (1, 20)), ((1, 26), (1, 27))), (((1, 26), (1, 27)), ((1, 34), (1, 35))), (((4, 16), (4, 20)), ((4, 23), (4, 27))), (((5, 39), (5, 44)), ((4, 40), (4, 44))), (((10, 0), (10, 55)), ((5, 15), (5, 20))), (((2, 33), (2, 35)), ((2, 42), (2, 44))), (((3, 24), (3, 27)), ((3, 32), (3, 35))), (((2, 42), (2, 44)), ((2, 52), (2, 55))), (((4, 40), (4, 44)), ((3, 41), (3, 44))), (((2, 18), (2, 20)), ((2, 25), (2, 27))), (((1, 43), (1, 44)), ((1, 53), (1, 55))), (((0, 27), (0, 27)), ((0, 35), (0, 35))), (((6, 21), (6, 27)), ((5, 22), (5, 27))), (((1, 34), (1, 35)), ((1, 43), (1, 44))), (((4, 10), (4, 14)), ((4, 16), (4, 20))), (((0, 0), (0, 0)), ((0, 3), (0, 3))), (((4, 31), (4, 35)), ((3, 32), (3, 35))), (((6, 38), (6, 44)), ((6, 48), (6, 55))), (((5, 15), (5, 20)), ((4, 16), (4, 20))), (((3, 41), (3, 44)), ((2, 42), (2, 44))), (((1, 26), (1, 27)), ((0, 27), (0, 27))), (((6, 29), (6, 35)), ((6, 38), (6, 44))), (((3, 17), (3, 20)), ((3, 24), (3, 27))), (((1, 8), (1, 9)), ((0, 9), (0, 9))), (((2, 6), (2, 9)), ((0, 7), (0, 7))), (((7, 37), (7, 44)), ((6, 38), (6, 44))), (((5, 22), (5, 27)), ((5, 30), (5, 35))), (((4, 40), (4, 44)), ((4, 50), (4, 55))), (((5, 22), (5, 27)), ((4, 23), (4, 27))), (((7, 28), (7, 35)), ((7, 37), (7, 44))), (((0, 7), (0, 7)), ((0, 9), (0, 9))), (((0, 44), (0, 44)), ((0, 54), (0, 55))), (((6, 38), (6, 44)), ((5, 39), (5, 44))), (((3, 11), (3, 14)), ((2, 12), (2, 14))), (((8, 46), (8, 55)), ((7, 47), (7, 55))), (((2, 12), (2, 14)), ((1, 13), (1, 14))), (((3, 41), (3, 44)), ((3, 51), (3, 55))), (((4, 23), (4, 27)), ((4, 31), (4, 35))), (((4, 16), (4, 20)), ((3, 17), (3, 20))), (((2, 6), (2, 9)), ((1, 8), (1, 9))), (((3, 11), (3, 14)), ((3, 17), (3, 20))), (((0, 9), (0, 9)), ((0, 14), (0, 14))), (((3, 24), (3, 27)), ((2, 25), (2, 27))), (((2, 33), (2, 35)), ((1, 34), (1, 35))), (((5, 39), (5, 44)), ((5, 49), (5, 55))), (((2, 42), (2, 44)), ((1, 43), (1, 44))), (((5, 30), (5, 35)), ((4, 31), (4, 35))), (((1, 34), (1, 35)), ((0, 35), (0, 35))), (((0, 3), (0, 3)), ((0, 7), (0, 7))), (((10, 0), (10, 55)), ((4, 10), (4, 14))), (((2, 25), (2, 27)), ((1, 26), (1, 27))), (((10, 0), (10, 55)), ((8, 36), (8, 44))), (((5, 30), (5, 35)), ((5, 39), (5, 44))), (((10, 0), (10, 55)), ((3, 4), (3, 9))), (((4, 50), (4, 55)), ((3, 51), (3, 55))), (((2, 25), (2, 27)), ((2, 33), (2, 35))), (((1, 13), (1, 14)), ((0, 14), (0, 14))), (((0, 20), (0, 20)), ((0, 27), (0, 27))), (((7, 47), (7, 55)), ((6, 48), (6, 55))), (((6, 21), (6, 27)), ((6, 29), (6, 35))), (((1, 13), (1, 14)), ((1, 19), (1, 20))), (((2, 12), (2, 14)), ((2, 18), (2, 20))), (((2, 52), (2, 55)), ((1, 53), (1, 55))), (((5, 49), (5, 55)), ((4, 50), (4, 55))), (((10, 0), (10, 55)), ((0, 0), (0, 0))), (((10, 0), (10, 55)), ((1, 1), (1, 1))), (((1, 53), (1, 55)), ((0, 54), (0, 55))), (((5, 15), (5, 20)), ((5, 22), (5, 27))), (((6, 48), (6, 55)), ((5, 49), (5, 55))), (((1, 19), (1, 20)), ((0, 20), (0, 20))), (((2, 18), (2, 20)), ((1, 19), (1, 20))), (((2, 6), (2, 9)), ((2, 12), (2, 14))), (((8, 36), (8, 44)), ((7, 37), (7, 44))), (((3, 4), (3, 9)), ((3, 11), (3, 14))), (((1, 43), (1, 44)), ((0, 44), (0, 44))), (((0, 14), (0, 14)), ((0, 20), (0, 20))), (((9, 45), (9, 55)), ((8, 46), (8, 55))), (((10, 0), (10, 55)), ((9, 45), (9, 55))), (((8, 36), (8, 44)), ((8, 46), (8, 55))), (((1, 8), (1, 9)), ((1, 13), (1, 14))), (((4, 10), (4, 14)), ((3, 11), (3, 14))), (((3, 51), (3, 55)), ((2, 52), (2, 55))), (((2, 2), (2, 3)), ((0, 3), (0, 3))), (((3, 4), (3, 9)), ((1, 5), (1, 5))), (((2, 2), (2, 3)), ((2, 6), (2, 9))), (((3, 32), (3, 35)), ((2, 33), (2, 35))), (((4, 31), (4, 35)), ((4, 40), (4, 44))), (((10, 0), (10, 55)), ((2, 2), (2, 3))), (((3, 17), (3, 20)), ((2, 18), (2, 20))), (((0, 35), (0, 35)), ((0, 44), (0, 44))), (((1, 5), (1, 5)), ((1, 8), (1, 9))), (((10, 0), (10, 55)), ((6, 21), (6, 27))), (((3, 32), (3, 35)), ((3, 41), (3, 44))), (((7, 37), (7, 44)), ((7, 47), (7, 55))), (((4, 23), (4, 27)), ((3, 24), (3, 27))), (((3, 4), (3, 9)), ((2, 6), (2, 9))), (((1, 1), (1, 1)), ((1, 5), (1, 5)))})))\n"
     ]
    }
   ],
   "source": [
    "lattice = box_lattice(context_matrix)\n",
    "\n",
    "print(lattice)"
   ],
   "metadata": {
    "collapsed": false,
    "pycharm": {
     "name": "#%%\n"
    }
   }
  },
  {
   "cell_type": "markdown",
   "source": [
    "## visualization"
   ],
   "metadata": {
    "collapsed": false,
    "pycharm": {
     "name": "#%% md\n"
    }
   }
  },
  {
   "cell_type": "code",
   "execution_count": 12,
   "metadata": {
    "pycharm": {
     "name": "#%%\n"
    }
   },
   "outputs": [],
   "source": [
    "import matplotlib.pyplot, matplotlib.cm, matplotlib.patches\n",
    "from matplotlib.patches import Rectangle"
   ]
  },
  {
   "cell_type": "markdown",
   "metadata": {},
   "source": [
    "### print"
   ]
  },
  {
   "cell_type": "code",
   "execution_count": 13,
   "metadata": {
    "pycharm": {
     "name": "#%%\n"
    }
   },
   "outputs": [
    {
     "name": "stdout",
     "output_type": "stream",
     "text": [
      "  |48 46 54 12 45 27 22 41 40 33 28 6 44 30 4 38 10 47 34 29 52 37 16 9 50 2 13 36 7 1 39 31 24 25 14 0 15 17 8 18 53 19 49 23 20 35 21 3 5 43 26 42 11 32 51 ⊤ \n",
      "--+--+--+--+--+--+--+--+--+--+--+--+-+--+--+-+--+--+--+--+--+--+--+--+-+--+-+--+--+-+-+--+--+--+--+--+-+--+--+-+--+--+--+--+--+--+--+--+-+-+--+--+--+--+--+----+\n",
      "1 |48|-----|12|--------|41|--|33|----------|4|--------------|52|---------------|36|------------------|0|----------------------|20|------------------------| ⊤  |\n",
      "  +--+--+  +--+  +--+  +--+-----+       +--+-+           +-----+            +--+--+               +----+                   +--+--+                     +-------+\n",
      "2 |.||46|----*---|27|----*|  40 |-------| 30 |-----------|  29 |------------|  13 |---------------| 14 |-------------------|  23 |---------------------|   32  |\n",
      "  + |+--+-----+  +--+-----+-----+    +-------+        +--+-----+          +-------+            +-------+                +--------+                  +--+-------+\n",
      "3 |.| .||  54 |----*|     22    |----|   44  |--------|   34   |----------|   2   |------------|   25  |----------------|   49   |------------------|    11    |\n",
      "  + |  |+-----+-----+-----------+  +-+-------+     +-----------+       +--+-------+         +----------+             +-----------+               +--+----------+\n",
      "4 |.| .| . |. |        45       |--|    6    |-----|     47    |-------|    50    |---------|    24    |-------------|     19    |---------------|      42     |\n",
      "  + |  |   |  +-----------------+------------+  +--+-----------+     +-+----------+      +--+----------+          +--------------+            +----------------+\n",
      "5 |.| .| . |.  .  .  . |.  .  . |     28     |--|      10      |-----|     9      |------|      31     |----------|      53      |------------|       26       |\n",
      "  + |  |   |           |        +------------+-----------------+  +---------------+   +----------------+       +--+--------------+         +--+----------------+\n",
      "6 |.| .| . |.  .  .  . |.  .  .  .  . .| .  .|        38       |--|       16      |---|       39       |-------|        18       |---------|         43        |\n",
      "  + |  |   |           |               |     +-----------------+------------------+ +-+----------------+     +-+-----------------+       +-+-------------------+\n",
      "7 |.| .| . |.  .  .  . |.  .  .  .  . .| .  . .  .  . |.  .  . |        37        |-|        1         |-----|         8         |-------|          5          |\n",
      "  + |  |   |           |               |              |        +------------------+--------------------+  +----------------------+     +-----------------------+\n",
      "8 |.| .| . |.  .  .  . |.  .  .  .  . .| .  . .  .  . |.  .  .  .  .  . .| . .  . |         7          |--|          17          |-----|           3           |\n",
      "  + |  |   |           |               |              |                  |        +--------------------+-------------------------+  +--+-----------------------+\n",
      "9 |.| .| . |.  .  .  . |.  .  .  .  . .| .  . .  .  . |.  .  .  .  .  . .| . .  .  . . .  . |.  .  .  .|            15           |--|            21            |\n",
      "  + |  |   |           |               |              |                  |                  |          +-------------------------+--+--------------------------+\n",
      "10|.| .| . |.  .  .  . |.  .  .  .  . .| .  . .  .  . |.  .  .  .  .  . .| . .  .  . . .  . |.  .  .  . .  .  . .  .| .  .  .  . |              35             |\n",
      "  +------------------------------------------------------------------------------------------------------------------------------------------------------------+\n",
      "⊥ |                                                                             ⊥                                                                              |\n",
      "  +------------------------------------------------------------------------------------------------------------------------------------------------------------+\n"
     ]
    }
   ],
   "source": [
    "print(tbs.gamma_free.to_string(context_matrix))\n"
   ]
  },
  {
   "cell_type": "markdown",
   "metadata": {},
   "source": [
    "### cluster matrix\n"
   ]
  },
  {
   "cell_type": "code",
   "execution_count": 14,
   "metadata": {
    "pycharm": {
     "metadata": false,
     "name": "#%% \n"
    }
   },
   "outputs": [],
   "source": [
    "# color_association: \n",
    "#     key = (line, column), value = color number.\n",
    "#     (line, column) correspond to the first elemnt (top left corner) of each box cluster\n",
    "\n",
    "def draw_matrix(context_matrix, fig, ax, color_association=None):\n",
    "    \n",
    "    lattice = box_lattice(context_matrix)\n",
    "    if color_association is None:\n",
    "        hierarchy_association = lattice.hierarchical_decomposition()\n",
    "        hierarchy_association[lattice.top] = hierarchy_association[lattice.bottom]\n",
    "        color_association = {key[0]: value for key, value in hierarchy_association.items()}\n",
    "    \n",
    "    point_transformation = lambda ligne, colonne: (colonne, -ligne)\n",
    "    edge_color = lambda colors, color_association, vertex1, vertex2: colors[max(color_association[vertex1], color_association[vertex2])]\n",
    "    \n",
    "\n",
    "    matplotlib.pyplot.ylim((-len(context_matrix.elements), 1))\n",
    "    matplotlib.pyplot.xlim((0, len(context_matrix.attributes) + 1))\n",
    "    ax.axis('off')\n",
    "\n",
    "    color_scheme = matplotlib.cm.rainbow\n",
    "\n",
    "    nb_colors = max(color_association.values()) + 1\n",
    "\n",
    "    colors = color_scheme([0. + 1.0 * x / (nb_colors - 1) for x in range(nb_colors)])\n",
    "\n",
    "    for y, elem in enumerate(context_matrix.elements):\n",
    "        x = 0\n",
    "        while not context_matrix.matrix[y][x]:\n",
    "            x += 1\n",
    "        ax.text(*point_transformation(y, x), str(elem), ha='right', va='top')\n",
    "\n",
    "    for x, attr in enumerate(context_matrix.attributes):\n",
    "        y = 0\n",
    "        while not context_matrix.matrix[y][x]:\n",
    "            y += 1\n",
    "        ax.text(*point_transformation(y, x), str(attr), ha='left', va='bottom')\n",
    "\n",
    "    for elem in lattice:\n",
    "        facecolor = edge_color(colors, color_association, elem[0], elem[0])\n",
    "\n",
    "        x1, y1 = point_transformation(*elem[0])\n",
    "        x2, y2 = point_transformation(*elem[1])\n",
    "        width = x2 - x1 + 1\n",
    "        height = y1 - y2 + 1\n",
    "\n",
    "        ax.add_patch(Rectangle((x1, y2), width, height, linewidth=1, edgecolor='black',\n",
    "                                facecolor=facecolor))"
   ]
  },
  {
   "cell_type": "code",
   "execution_count": 15,
   "metadata": {
    "pycharm": {
     "metadata": false,
     "name": "#%% \n"
    }
   },
   "outputs": [
    {
     "data": {
      "text/plain": "<Figure size 864x864 with 1 Axes>",
      "image/png": "[encoded data removed]"
     },
     "metadata": {
      "needs_background": "light"
     },
     "output_type": "display_data"
    }
   ],
   "source": [
    "fig, ax = matplotlib.pyplot.subplots(figsize=(12, 12))\n",
    "\n",
    "draw_matrix(context_matrix, fig, ax)\n",
    "matplotlib.pyplot.show()"
   ]
  },
  {
   "cell_type": "code",
   "execution_count": 15,
   "metadata": {},
   "outputs": [],
   "source": []
  }
 ],
 "metadata": {
  "kernelspec": {
   "name": "python3",
   "language": "python",
   "display_name": "Python 3"
  },
  "language_info": {
   "codemirror_mode": {
    "name": "ipython",
    "version": 3
   },
   "file_extension": ".py",
   "mimetype": "text/x-python",
   "name": "python",
   "nbconvert_exporter": "python",
   "pygments_lexer": "ipython3",
   "version": "3.7.7"
  }
 },
 "nbformat": 4,
 "nbformat_minor": 2
}