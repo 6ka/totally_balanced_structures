{
 "cells": [
  {
   "cell_type": "markdown",
   "metadata": {
    "deletable": true,
    "editable": true
   },
   "source": [
    "# Json data"
   ]
  },
  {
   "cell_type": "code",
   "execution_count": 1,
   "metadata": {
    "collapsed": true,
    "deletable": true,
    "editable": true
   },
   "outputs": [],
   "source": [
    "# Path to tbs\n",
    "\n",
    "import sys\n",
    "import os\n",
    "\n",
    "sys.path.append(os.path.dirname('../'))"
   ]
  },
  {
   "cell_type": "markdown",
   "metadata": {
    "deletable": true,
    "editable": true
   },
   "source": [
    "## Dissimilarity"
   ]
  },
  {
   "cell_type": "markdown",
   "metadata": {
    "deletable": true,
    "editable": true
   },
   "source": [
    "### matrix save/load"
   ]
  },
  {
   "cell_type": "code",
   "execution_count": 2,
   "metadata": {
    "collapsed": true,
    "deletable": true,
    "editable": true
   },
   "outputs": [],
   "source": [
    "import tbs.diss"
   ]
  },
  {
   "cell_type": "code",
   "execution_count": 3,
   "metadata": {
    "collapsed": true,
    "deletable": true,
    "editable": true
   },
   "outputs": [],
   "source": [
    "distance = tbs.diss.load(open(\"./resources/giraudoux.mat\"))"
   ]
  },
  {
   "cell_type": "code",
   "execution_count": 4,
   "metadata": {
    "collapsed": false,
    "deletable": true,
    "editable": true
   },
   "outputs": [
    {
     "name": "stdout",
     "output_type": "stream",
     "text": [
      "Provinciales                 0.0\n",
      "LEcoleDesIndifferents       14.0  0.0\n",
      "SimonLePathetique           19.0  7.0  0.0\n",
      "SuzanneEtLePacifique        24.0 16.0 26.0  0.0\n",
      "SiegfriedEtLeLimousin       25.0 16.0 32.0 38.0  0.0\n",
      "JulietteAuPaysDesHommes     25.0 19.0 29.0 34.0 21.0  0.0\n",
      "Bella                       26.0 18.0 26.0 40.0 21.0 19.0  0.0\n",
      "Eglantine                   29.0 17.0 33.0 46.0 35.0 25.0 22.0  0.0\n",
      "Siegfried                   31.0 22.0 27.0 34.0 26.0 33.0 27.0 30.0  0.0\n",
      "Amphitryon                  35.0 29.0 34.0 38.0 42.0 40.0 42.0 39.0 28.0  0.0\n",
      "AventuresDeJeromeBardini    27.0 20.0 31.0 38.0 37.0 24.0 25.0 23.0 30.0 35.0  0.0\n",
      "Judith                      33.0 28.0 31.0 36.0 37.0 40.0 36.0 38.0 26.0 19.0 35.0  0.0\n",
      "Intermezzo                  28.0 21.0 31.0 36.0 29.0 30.0 29.0 32.0 21.0 25.0 32.0 28.0  0.0\n",
      "CombatAvecLAnge             24.0 17.0 20.0 23.0 20.0 18.0 18.0 16.0 23.0 28.0 18.0 25.0 20.0  0.0\n",
      "LaGuerreDeTroieNAuraPasLieu 34.0 34.0 35.0 41.0 38.0 44.0 42.0 40.0 28.0 19.0 40.0 21.0 28.0 26.0  0.0\n",
      "Electre                     35.0 34.0 40.0 36.0 48.0 55.0 48.0 49.0 31.0 23.0 47.0 19.0 34.0 30.0 21.0  0.0\n",
      "CantiqueDesCantiques        22.0 21.0 20.0 20.0 22.0 24.0 23.0 22.0 16.0 17.0 23.0 14.0 16.0 19.0 16.0 14.0  0.0\n",
      "ChoisDesElues               25.0 20.0 23.0 26.0 24.0 23.0 21.0 21.0 22.0 27.0 19.0 27.0 21.0 12.0 29.0 28.0 16.0  0.0\n",
      "Ondine                      36.0 34.0 38.0 39.0 44.0 47.0 46.0 45.0 29.0 24.0 46.0 23.0 29.0 33.0 22.0 21.0 14.0 28.0  0.0\n",
      "ApollonDeBellac             23.0 23.0 22.0 19.0 21.0 26.0 24.0 24.0 19.0 18.0 22.0 15.0 17.0 20.0 18.0 20.0 13.0 21.0 16.0  0.0\n",
      "SodomeEtGomorrhe            37.0 34.0 37.0 37.0 43.0 45.0 41.0 40.0 32.0 19.0 39.0 19.0 33.0 32.0 22.0 20.0 15.0 27.0 22.0 15.0  0.0\n",
      "LaFolleDeChaillot           29.0 28.0 40.0 41.0 36.0 41.0 34.0 42.0 30.0 37.0 42.0 30.0 26.0 25.0 32.0 33.0 15.0 25.0 29.0 16.0 37.0  0.0\n",
      "PourLucrece                 38.0 34.0 40.0 46.0 46.0 50.0 42.0 43.0 31.0 25.0 43.0 16.0 30.0 28.0 25.0 19.0 13.0 24.0 21.0 14.0 16.0 28.0  0.0\n"
     ]
    }
   ],
   "source": [
    "print(tbs.diss.to_string(distance, \"lowerl\"))"
   ]
  },
  {
   "cell_type": "markdown",
   "metadata": {},
   "source": [
    "### json"
   ]
  },
  {
   "cell_type": "code",
   "execution_count": 5,
   "metadata": {
    "collapsed": true
   },
   "outputs": [],
   "source": [
    "import json"
   ]
  },
  {
   "cell_type": "code",
   "execution_count": 6,
   "metadata": {
    "collapsed": false,
    "deletable": true,
    "editable": true
   },
   "outputs": [],
   "source": [
    "json_distance = distance.json()"
   ]
  },
  {
   "cell_type": "code",
   "execution_count": 7,
   "metadata": {
    "collapsed": false
   },
   "outputs": [
    {
     "name": "stdout",
     "output_type": "stream",
     "text": [
      "dict_keys(['elements', 'matrix'])\n"
     ]
    }
   ],
   "source": [
    "print(json_distance.keys())"
   ]
  },
  {
   "cell_type": "code",
   "execution_count": 8,
   "metadata": {
    "collapsed": false,
    "deletable": true,
    "editable": true
   },
   "outputs": [
    {
     "name": "stdout",
     "output_type": "stream",
     "text": [
      "{\n",
      "    \"elements\": [\n",
      "        \"Provinciales\",\n",
      "        \"LEcoleDesIndifferents\",\n",
      "        \"SimonLePathetique\",\n",
      "        \"SuzanneEtLePacifique\",\n",
      "        \"SiegfriedEtLeLimousin\",\n",
      "        \"JulietteAuPaysDesHommes\",\n",
      "        \"Bella\",\n",
      "        \"Eglantine\",\n",
      "        \"Siegfried\",\n",
      "        \"Amphitryon\",\n",
      "        \"AventuresDeJeromeBardini\",\n",
      "        \"Judith\",\n",
      "        \"Intermezzo\",\n",
      "        \"CombatAvecLAnge\",\n",
      "        \"LaGuerreDeTroieNAuraPasLieu\",\n",
      "        \"Electre\",\n",
      "        \"CantiqueDesCantiques\",\n",
      "        \"ChoisDesElues\",\n",
      "        \"Ondine\",\n",
      "        \"ApollonDeBellac\",\n",
      "        \"SodomeEtGomorrhe\",\n",
      "        \"LaFolleDeChaillot\",\n",
      "        \"PourLucrece\"\n",
      "    ],\n",
      "    \"matrix\": [\n",
      "        [\n",
      "            0.0\n",
      "        ],\n",
      "        [\n",
      "            14.0,\n",
      "            0.0\n",
      "        ],\n",
      "        [\n",
      "            19.0,\n",
      "            7.0,\n",
      "            0.0\n",
      "        ],\n",
      "        [\n",
      "            24.0,\n",
      "            16.0,\n",
      "            26.0,\n",
      "            0.0\n",
      "        ],\n",
      "        [\n",
      "            25.0,\n",
      "            16.0,\n",
      "            32.0,\n",
      "            38.0,\n",
      "            0.0\n",
      "        ],\n",
      "        [\n",
      "            25.0,\n",
      "            19.0,\n",
      "            29.0,\n",
      "            34.0,\n",
      "            21.0,\n",
      "            0.0\n",
      "        ],\n",
      "        [\n",
      "            26.0,\n",
      "            18.0,\n",
      "            26.0,\n",
      "            40.0,\n",
      "            21.0,\n",
      "            19.0,\n",
      "            0.0\n",
      "        ],\n",
      "        [\n",
      "            29.0,\n",
      "            17.0,\n",
      "            33.0,\n",
      "            46.0,\n",
      "            35.0,\n",
      "            25.0,\n",
      "            22.0,\n",
      "            0.0\n",
      "        ],\n",
      "        [\n",
      "            31.0,\n",
      "            22.0,\n",
      "            27.0,\n",
      "            34.0,\n",
      "            26.0,\n",
      "            33.0,\n",
      "            27.0,\n",
      "            30.0,\n",
      "            0.0\n",
      "        ],\n",
      "        [\n",
      "            35.0,\n",
      "            29.0,\n",
      "            34.0,\n",
      "            38.0,\n",
      "            42.0,\n",
      "            40.0,\n",
      "            42.0,\n",
      "            39.0,\n",
      "            28.0,\n",
      "            0.0\n",
      "        ],\n",
      "        [\n",
      "            27.0,\n",
      "            20.0,\n",
      "            31.0,\n",
      "            38.0,\n",
      "            37.0,\n",
      "            24.0,\n",
      "            25.0,\n",
      "            23.0,\n",
      "            30.0,\n",
      "            35.0,\n",
      "            0.0\n",
      "        ],\n",
      "        [\n",
      "            33.0,\n",
      "            28.0,\n",
      "            31.0,\n",
      "            36.0,\n",
      "            37.0,\n",
      "            40.0,\n",
      "            36.0,\n",
      "            38.0,\n",
      "            26.0,\n",
      "            19.0,\n",
      "            35.0,\n",
      "            0.0\n",
      "        ],\n",
      "        [\n",
      "            28.0,\n",
      "            21.0,\n",
      "            31.0,\n",
      "            36.0,\n",
      "            29.0,\n",
      "            30.0,\n",
      "            29.0,\n",
      "            32.0,\n",
      "            21.0,\n",
      "            25.0,\n",
      "            32.0,\n",
      "            28.0,\n",
      "            0.0\n",
      "        ],\n",
      "        [\n",
      "            24.0,\n",
      "            17.0,\n",
      "            20.0,\n",
      "            23.0,\n",
      "            20.0,\n",
      "            18.0,\n",
      "            18.0,\n",
      "            16.0,\n",
      "            23.0,\n",
      "            28.0,\n",
      "            18.0,\n",
      "            25.0,\n",
      "            20.0,\n",
      "            0.0\n",
      "        ],\n",
      "        [\n",
      "            34.0,\n",
      "            34.0,\n",
      "            35.0,\n",
      "            41.0,\n",
      "            38.0,\n",
      "            44.0,\n",
      "            42.0,\n",
      "            40.0,\n",
      "            28.0,\n",
      "            19.0,\n",
      "            40.0,\n",
      "            21.0,\n",
      "            28.0,\n",
      "            26.0,\n",
      "            0.0\n",
      "        ],\n",
      "        [\n",
      "            35.0,\n",
      "            34.0,\n",
      "            40.0,\n",
      "            36.0,\n",
      "            48.0,\n",
      "            55.0,\n",
      "            48.0,\n",
      "            49.0,\n",
      "            31.0,\n",
      "            23.0,\n",
      "            47.0,\n",
      "            19.0,\n",
      "            34.0,\n",
      "            30.0,\n",
      "            21.0,\n",
      "            0.0\n",
      "        ],\n",
      "        [\n",
      "            22.0,\n",
      "            21.0,\n",
      "            20.0,\n",
      "            20.0,\n",
      "            22.0,\n",
      "            24.0,\n",
      "            23.0,\n",
      "            22.0,\n",
      "            16.0,\n",
      "            17.0,\n",
      "            23.0,\n",
      "            14.0,\n",
      "            16.0,\n",
      "            19.0,\n",
      "            16.0,\n",
      "            14.0,\n",
      "            0.0\n",
      "        ],\n",
      "        [\n",
      "            25.0,\n",
      "            20.0,\n",
      "            23.0,\n",
      "            26.0,\n",
      "            24.0,\n",
      "            23.0,\n",
      "            21.0,\n",
      "            21.0,\n",
      "            22.0,\n",
      "            27.0,\n",
      "            19.0,\n",
      "            27.0,\n",
      "            21.0,\n",
      "            12.0,\n",
      "            29.0,\n",
      "            28.0,\n",
      "            16.0,\n",
      "            0.0\n",
      "        ],\n",
      "        [\n",
      "            36.0,\n",
      "            34.0,\n",
      "            38.0,\n",
      "            39.0,\n",
      "            44.0,\n",
      "            47.0,\n",
      "            46.0,\n",
      "            45.0,\n",
      "            29.0,\n",
      "            24.0,\n",
      "            46.0,\n",
      "            23.0,\n",
      "            29.0,\n",
      "            33.0,\n",
      "            22.0,\n",
      "            21.0,\n",
      "            14.0,\n",
      "            28.0,\n",
      "            0.0\n",
      "        ],\n",
      "        [\n",
      "            23.0,\n",
      "            23.0,\n",
      "            22.0,\n",
      "            19.0,\n",
      "            21.0,\n",
      "            26.0,\n",
      "            24.0,\n",
      "            24.0,\n",
      "            19.0,\n",
      "            18.0,\n",
      "            22.0,\n",
      "            15.0,\n",
      "            17.0,\n",
      "            20.0,\n",
      "            18.0,\n",
      "            20.0,\n",
      "            13.0,\n",
      "            21.0,\n",
      "            16.0,\n",
      "            0.0\n",
      "        ],\n",
      "        [\n",
      "            37.0,\n",
      "            34.0,\n",
      "            37.0,\n",
      "            37.0,\n",
      "            43.0,\n",
      "            45.0,\n",
      "            41.0,\n",
      "            40.0,\n",
      "            32.0,\n",
      "            19.0,\n",
      "            39.0,\n",
      "            19.0,\n",
      "            33.0,\n",
      "            32.0,\n",
      "            22.0,\n",
      "            20.0,\n",
      "            15.0,\n",
      "            27.0,\n",
      "            22.0,\n",
      "            15.0,\n",
      "            0.0\n",
      "        ],\n",
      "        [\n",
      "            29.0,\n",
      "            28.0,\n",
      "            40.0,\n",
      "            41.0,\n",
      "            36.0,\n",
      "            41.0,\n",
      "            34.0,\n",
      "            42.0,\n",
      "            30.0,\n",
      "            37.0,\n",
      "            42.0,\n",
      "            30.0,\n",
      "            26.0,\n",
      "            25.0,\n",
      "            32.0,\n",
      "            33.0,\n",
      "            15.0,\n",
      "            25.0,\n",
      "            29.0,\n",
      "            16.0,\n",
      "            37.0,\n",
      "            0.0\n",
      "        ],\n",
      "        [\n",
      "            38.0,\n",
      "            34.0,\n",
      "            40.0,\n",
      "            46.0,\n",
      "            46.0,\n",
      "            50.0,\n",
      "            42.0,\n",
      "            43.0,\n",
      "            31.0,\n",
      "            25.0,\n",
      "            43.0,\n",
      "            16.0,\n",
      "            30.0,\n",
      "            28.0,\n",
      "            25.0,\n",
      "            19.0,\n",
      "            13.0,\n",
      "            24.0,\n",
      "            21.0,\n",
      "            14.0,\n",
      "            16.0,\n",
      "            28.0,\n",
      "            0.0\n",
      "        ]\n",
      "    ]\n",
      "}\n"
     ]
    }
   ],
   "source": [
    "print(json.dumps(json_distance, indent=4))"
   ]
  },
  {
   "cell_type": "markdown",
   "metadata": {},
   "source": [
    "### load json file"
   ]
  },
  {
   "cell_type": "code",
   "execution_count": 9,
   "metadata": {
    "collapsed": false
   },
   "outputs": [],
   "source": [
    "from tbs.diss import Diss"
   ]
  },
  {
   "cell_type": "code",
   "execution_count": 10,
   "metadata": {
    "collapsed": true
   },
   "outputs": [],
   "source": [
    "json_string = json.dumps(json_distance)"
   ]
  },
  {
   "cell_type": "code",
   "execution_count": 11,
   "metadata": {
    "collapsed": false
   },
   "outputs": [],
   "source": [
    "dissimilarity_from_json = Diss.from_json(json_distance)"
   ]
  },
  {
   "cell_type": "code",
   "execution_count": 12,
   "metadata": {
    "collapsed": false
   },
   "outputs": [
    {
     "name": "stdout",
     "output_type": "stream",
     "text": [
      " 0.0 14.0 19.0 24.0 25.0 25.0 26.0 29.0 31.0 35.0 27.0 33.0 28.0 24.0 34.0 35.0 22.0 25.0 36.0 23.0 37.0 29.0 38.0\n",
      "14.0  0.0  7.0 16.0 16.0 19.0 18.0 17.0 22.0 29.0 20.0 28.0 21.0 17.0 34.0 34.0 21.0 20.0 34.0 23.0 34.0 28.0 34.0\n",
      "19.0  7.0  0.0 26.0 32.0 29.0 26.0 33.0 27.0 34.0 31.0 31.0 31.0 20.0 35.0 40.0 20.0 23.0 38.0 22.0 37.0 40.0 40.0\n",
      "24.0 16.0 26.0  0.0 38.0 34.0 40.0 46.0 34.0 38.0 38.0 36.0 36.0 23.0 41.0 36.0 20.0 26.0 39.0 19.0 37.0 41.0 46.0\n",
      "25.0 16.0 32.0 38.0  0.0 21.0 21.0 35.0 26.0 42.0 37.0 37.0 29.0 20.0 38.0 48.0 22.0 24.0 44.0 21.0 43.0 36.0 46.0\n",
      "25.0 19.0 29.0 34.0 21.0  0.0 19.0 25.0 33.0 40.0 24.0 40.0 30.0 18.0 44.0 55.0 24.0 23.0 47.0 26.0 45.0 41.0 50.0\n",
      "26.0 18.0 26.0 40.0 21.0 19.0  0.0 22.0 27.0 42.0 25.0 36.0 29.0 18.0 42.0 48.0 23.0 21.0 46.0 24.0 41.0 34.0 42.0\n",
      "29.0 17.0 33.0 46.0 35.0 25.0 22.0  0.0 30.0 39.0 23.0 38.0 32.0 16.0 40.0 49.0 22.0 21.0 45.0 24.0 40.0 42.0 43.0\n",
      "31.0 22.0 27.0 34.0 26.0 33.0 27.0 30.0  0.0 28.0 30.0 26.0 21.0 23.0 28.0 31.0 16.0 22.0 29.0 19.0 32.0 30.0 31.0\n",
      "35.0 29.0 34.0 38.0 42.0 40.0 42.0 39.0 28.0  0.0 35.0 19.0 25.0 28.0 19.0 23.0 17.0 27.0 24.0 18.0 19.0 37.0 25.0\n",
      "27.0 20.0 31.0 38.0 37.0 24.0 25.0 23.0 30.0 35.0  0.0 35.0 32.0 18.0 40.0 47.0 23.0 19.0 46.0 22.0 39.0 42.0 43.0\n",
      "33.0 28.0 31.0 36.0 37.0 40.0 36.0 38.0 26.0 19.0 35.0  0.0 28.0 25.0 21.0 19.0 14.0 27.0 23.0 15.0 19.0 30.0 16.0\n",
      "28.0 21.0 31.0 36.0 29.0 30.0 29.0 32.0 21.0 25.0 32.0 28.0  0.0 20.0 28.0 34.0 16.0 21.0 29.0 17.0 33.0 26.0 30.0\n",
      "24.0 17.0 20.0 23.0 20.0 18.0 18.0 16.0 23.0 28.0 18.0 25.0 20.0  0.0 26.0 30.0 19.0 12.0 33.0 20.0 32.0 25.0 28.0\n",
      "34.0 34.0 35.0 41.0 38.0 44.0 42.0 40.0 28.0 19.0 40.0 21.0 28.0 26.0  0.0 21.0 16.0 29.0 22.0 18.0 22.0 32.0 25.0\n",
      "35.0 34.0 40.0 36.0 48.0 55.0 48.0 49.0 31.0 23.0 47.0 19.0 34.0 30.0 21.0  0.0 14.0 28.0 21.0 20.0 20.0 33.0 19.0\n",
      "22.0 21.0 20.0 20.0 22.0 24.0 23.0 22.0 16.0 17.0 23.0 14.0 16.0 19.0 16.0 14.0  0.0 16.0 14.0 13.0 15.0 15.0 13.0\n",
      "25.0 20.0 23.0 26.0 24.0 23.0 21.0 21.0 22.0 27.0 19.0 27.0 21.0 12.0 29.0 28.0 16.0  0.0 28.0 21.0 27.0 25.0 24.0\n",
      "36.0 34.0 38.0 39.0 44.0 47.0 46.0 45.0 29.0 24.0 46.0 23.0 29.0 33.0 22.0 21.0 14.0 28.0  0.0 16.0 22.0 29.0 21.0\n",
      "23.0 23.0 22.0 19.0 21.0 26.0 24.0 24.0 19.0 18.0 22.0 15.0 17.0 20.0 18.0 20.0 13.0 21.0 16.0  0.0 15.0 16.0 14.0\n",
      "37.0 34.0 37.0 37.0 43.0 45.0 41.0 40.0 32.0 19.0 39.0 19.0 33.0 32.0 22.0 20.0 15.0 27.0 22.0 15.0  0.0 37.0 16.0\n",
      "29.0 28.0 40.0 41.0 36.0 41.0 34.0 42.0 30.0 37.0 42.0 30.0 26.0 25.0 32.0 33.0 15.0 25.0 29.0 16.0 37.0  0.0 28.0\n",
      "38.0 34.0 40.0 46.0 46.0 50.0 42.0 43.0 31.0 25.0 43.0 16.0 30.0 28.0 25.0 19.0 13.0 24.0 21.0 14.0 16.0 28.0  0.0\n"
     ]
    }
   ],
   "source": [
    "print(dissimilarity_from_json)"
   ]
  },
  {
   "cell_type": "markdown",
   "metadata": {
    "deletable": true,
    "editable": true
   },
   "source": [
    "## Context matrix"
   ]
  },
  {
   "cell_type": "markdown",
   "metadata": {},
   "source": [
    "### Load matrices"
   ]
  },
  {
   "cell_type": "code",
   "execution_count": 13,
   "metadata": {
    "collapsed": false
   },
   "outputs": [],
   "source": [
    "import tbs.contextmatrix\n",
    "\n",
    "context_matrix = tbs.contextmatrix.load(open(\"./resources/animals.csv\"))"
   ]
  },
  {
   "cell_type": "code",
   "execution_count": 14,
   "metadata": {
    "collapsed": false,
    "deletable": true,
    "editable": true
   },
   "outputs": [
    {
     "name": "stdout",
     "output_type": "stream",
     "text": [
      "          eggs  feather  scale  tooth  fly   swim  air/water\n",
      "ostrich    X      X       .      .     .     .        X     \n",
      "canari     X      X       .      .     X     .        X     \n",
      "duck       X      X       .      .     X     X        X     \n",
      "shark      X      .       .      X     .     X        .     \n",
      "salmon     X      .       X      .     .     X        .     \n",
      "frog       X      X       .      .     .     X        X     \n",
      "crocodile  X      X       .      X     .     X        X     \n",
      "barracuda  X      X       X      X     .     X        .     \n",
      "\n"
     ]
    }
   ],
   "source": [
    "print(context_matrix)"
   ]
  },
  {
   "cell_type": "markdown",
   "metadata": {},
   "source": [
    "### json"
   ]
  },
  {
   "cell_type": "code",
   "execution_count": 15,
   "metadata": {
    "collapsed": false,
    "deletable": true,
    "editable": true
   },
   "outputs": [],
   "source": [
    "json_matrix = context_matrix.json()"
   ]
  },
  {
   "cell_type": "code",
   "execution_count": 16,
   "metadata": {
    "collapsed": false
   },
   "outputs": [
    {
     "name": "stdout",
     "output_type": "stream",
     "text": [
      "dict_keys(['matrix', 'elements', 'attributes'])\n"
     ]
    }
   ],
   "source": [
    "print(json_matrix.keys())"
   ]
  },
  {
   "cell_type": "code",
   "execution_count": 17,
   "metadata": {
    "collapsed": false,
    "deletable": true,
    "editable": true
   },
   "outputs": [
    {
     "name": "stdout",
     "output_type": "stream",
     "text": [
      "{\n",
      "    \"matrix\": [\n",
      "        [\n",
      "            1,\n",
      "            1,\n",
      "            0,\n",
      "            0,\n",
      "            0,\n",
      "            0,\n",
      "            1,\n",
      "            0\n",
      "        ],\n",
      "        [\n",
      "            1,\n",
      "            1,\n",
      "            0,\n",
      "            0,\n",
      "            1,\n",
      "            0,\n",
      "            1,\n",
      "            0\n",
      "        ],\n",
      "        [\n",
      "            1,\n",
      "            1,\n",
      "            0,\n",
      "            0,\n",
      "            1,\n",
      "            1,\n",
      "            1,\n",
      "            0\n",
      "        ],\n",
      "        [\n",
      "            1,\n",
      "            0,\n",
      "            0,\n",
      "            1,\n",
      "            0,\n",
      "            1,\n",
      "            0,\n",
      "            0\n",
      "        ],\n",
      "        [\n",
      "            1,\n",
      "            0,\n",
      "            1,\n",
      "            0,\n",
      "            0,\n",
      "            1,\n",
      "            0,\n",
      "            0\n",
      "        ],\n",
      "        [\n",
      "            1,\n",
      "            1,\n",
      "            0,\n",
      "            0,\n",
      "            0,\n",
      "            1,\n",
      "            1,\n",
      "            0\n",
      "        ],\n",
      "        [\n",
      "            1,\n",
      "            1,\n",
      "            0,\n",
      "            1,\n",
      "            0,\n",
      "            1,\n",
      "            1,\n",
      "            0\n",
      "        ],\n",
      "        [\n",
      "            1,\n",
      "            1,\n",
      "            1,\n",
      "            1,\n",
      "            0,\n",
      "            1,\n",
      "            0,\n",
      "            0\n",
      "        ]\n",
      "    ],\n",
      "    \"elements\": [\n",
      "        \"ostrich\",\n",
      "        \"canari\",\n",
      "        \"duck\",\n",
      "        \"shark\",\n",
      "        \"salmon\",\n",
      "        \"frog\",\n",
      "        \"crocodile\",\n",
      "        \"barracuda\"\n",
      "    ],\n",
      "    \"attributes\": [\n",
      "        \"eggs\",\n",
      "        \" feather\",\n",
      "        \" scale\",\n",
      "        \" tooth\",\n",
      "        \" fly\",\n",
      "        \"  swim\",\n",
      "        \" air/water\"\n",
      "    ]\n",
      "}\n"
     ]
    }
   ],
   "source": [
    "print(json.dumps(json_matrix, indent=4))"
   ]
  },
  {
   "cell_type": "markdown",
   "metadata": {},
   "source": [
    "## Graphs"
   ]
  },
  {
   "cell_type": "code",
   "execution_count": 18,
   "metadata": {
    "collapsed": false
   },
   "outputs": [],
   "source": [
    "import tbs.graph"
   ]
  },
  {
   "cell_type": "code",
   "execution_count": 26,
   "metadata": {
    "collapsed": false
   },
   "outputs": [],
   "source": [
    "tree = tbs.graph.random_tree([\"a\", \"b\", 1, 2, 3, 4, 5, 3.14])"
   ]
  },
  {
   "cell_type": "code",
   "execution_count": 27,
   "metadata": {
    "collapsed": false
   },
   "outputs": [
    {
     "name": "stdout",
     "output_type": "stream",
     "text": [
      "Graph(frozenset({1, 'a', 3, 2, 4, 5, 3.14, 'b'}), frozenset({frozenset({'a', 3}), frozenset({2, 3}), frozenset({4, 5}), frozenset({'a', 'b'}), frozenset({1, 'b'}), frozenset({2, 3.14}), frozenset({2, 4})}))\n"
     ]
    }
   ],
   "source": [
    "print(tree)"
   ]
  },
  {
   "cell_type": "code",
   "execution_count": 28,
   "metadata": {
    "collapsed": true
   },
   "outputs": [],
   "source": [
    "json_tree = tree.json()"
   ]
  },
  {
   "cell_type": "code",
   "execution_count": 29,
   "metadata": {
    "collapsed": false
   },
   "outputs": [
    {
     "name": "stdout",
     "output_type": "stream",
     "text": [
      "dict_keys(['graph'])\n"
     ]
    }
   ],
   "source": [
    "print(json_tree.keys())"
   ]
  },
  {
   "cell_type": "code",
   "execution_count": 30,
   "metadata": {
    "collapsed": false
   },
   "outputs": [
    {
     "name": "stdout",
     "output_type": "stream",
     "text": [
      "dict_keys(['nodes', 'edges'])\n"
     ]
    }
   ],
   "source": [
    "print(json_tree[\"graph\"].keys())"
   ]
  },
  {
   "cell_type": "code",
   "execution_count": 31,
   "metadata": {
    "collapsed": false
   },
   "outputs": [
    {
     "name": "stdout",
     "output_type": "stream",
     "text": [
      "{\n",
      "    \"graph\": {\n",
      "        \"nodes\": [\n",
      "            {\n",
      "                \"id\": \"1\"\n",
      "            },\n",
      "            {\n",
      "                \"id\": \"\\\"a\\\"\"\n",
      "            },\n",
      "            {\n",
      "                \"id\": \"3\"\n",
      "            },\n",
      "            {\n",
      "                \"id\": \"2\"\n",
      "            },\n",
      "            {\n",
      "                \"id\": \"4\"\n",
      "            },\n",
      "            {\n",
      "                \"id\": \"5\"\n",
      "            },\n",
      "            {\n",
      "                \"id\": \"3.14\"\n",
      "            },\n",
      "            {\n",
      "                \"id\": \"\\\"b\\\"\"\n",
      "            }\n",
      "        ],\n",
      "        \"edges\": [\n",
      "            {\n",
      "                \"source\": \"\\\"a\\\"\",\n",
      "                \"target\": \"\\\"b\\\"\",\n",
      "                \"directed\": false\n",
      "            },\n",
      "            {\n",
      "                \"source\": \"\\\"a\\\"\",\n",
      "                \"target\": \"3\",\n",
      "                \"directed\": false\n",
      "            },\n",
      "            {\n",
      "                \"source\": \"1\",\n",
      "                \"target\": \"\\\"b\\\"\",\n",
      "                \"directed\": false\n",
      "            },\n",
      "            {\n",
      "                \"source\": \"2\",\n",
      "                \"target\": \"4\",\n",
      "                \"directed\": false\n",
      "            },\n",
      "            {\n",
      "                \"source\": \"2\",\n",
      "                \"target\": \"3.14\",\n",
      "                \"directed\": false\n",
      "            },\n",
      "            {\n",
      "                \"source\": \"3\",\n",
      "                \"target\": \"2\",\n",
      "                \"directed\": false\n",
      "            },\n",
      "            {\n",
      "                \"source\": \"4\",\n",
      "                \"target\": \"5\",\n",
      "                \"directed\": false\n",
      "            }\n",
      "        ]\n",
      "    }\n",
      "}\n"
     ]
    }
   ],
   "source": [
    "print(json.dumps(json_tree, indent=4))"
   ]
  },
  {
   "cell_type": "code",
   "execution_count": 32,
   "metadata": {
    "collapsed": false
   },
   "outputs": [],
   "source": [
    "tree_json = tbs.graph.Graph.from_json(json_tree)"
   ]
  },
  {
   "cell_type": "code",
   "execution_count": 33,
   "metadata": {
    "collapsed": false
   },
   "outputs": [
    {
     "name": "stdout",
     "output_type": "stream",
     "text": [
      "Graph(frozenset({1, 2, 'a', 3, 4, 5, 3.14, 'b'}), frozenset({frozenset({'a', 3}), frozenset({2, 3}), frozenset({4, 5}), frozenset({'a', 'b'}), frozenset({1, 'b'}), frozenset({2, 3.14}), frozenset({2, 4})}))\n"
     ]
    }
   ],
   "source": [
    "print(tree_json)"
   ]
  },
  {
   "cell_type": "code",
   "execution_count": null,
   "metadata": {
    "collapsed": true
   },
   "outputs": [],
   "source": []
  }
 ],
 "metadata": {
  "kernelspec": {
   "display_name": "Python 3",
   "language": "python",
   "name": "python3"
  },
  "language_info": {
   "codemirror_mode": {
    "name": "ipython",
    "version": 3
   },
   "file_extension": ".py",
   "mimetype": "text/x-python",
   "name": "python",
   "nbconvert_exporter": "python",
   "pygments_lexer": "ipython3",
   "version": "3.6.5"
  }
 },
 "nbformat": 4,
 "nbformat_minor": 2
}
