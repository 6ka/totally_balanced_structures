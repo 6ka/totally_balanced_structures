{
 "cells": [
  {
   "cell_type": "markdown",
   "metadata": {
    "deletable": true,
    "editable": true
   },
   "source": [
    "# Random Dismantlable lattice\n",
    "We create a random dismantlable lattice with  nn  elements and represent its associated context matrix"
   ]
  },
  {
   "cell_type": "code",
   "execution_count": 1,
   "metadata": {
    "collapsed": true,
    "deletable": true,
    "editable": true
   },
   "outputs": [],
   "source": [
    "# Path to tbs\n",
    "\n",
    "import sys\n",
    "import os\n",
    "\n",
    "sys.path.append(os.path.dirname('../'))"
   ]
  },
  {
   "cell_type": "markdown",
   "metadata": {
    "deletable": true,
    "editable": true
   },
   "source": [
    "## Totally balanced structure creation\n",
    "First create a random dismantable lattice which is immediatly converted into a binary matrix. The elements and attributes will be the inf and sup irreducible elements of the lattice (Caution: the other element names will be nevertheless lost)."
   ]
  },
  {
   "cell_type": "markdown",
   "metadata": {
    "deletable": true,
    "editable": true
   },
   "source": [
    "### Data as Context Matrix"
   ]
  },
  {
   "cell_type": "code",
   "execution_count": 2,
   "metadata": {
    "collapsed": false,
    "deletable": true,
    "editable": true
   },
   "outputs": [],
   "source": [
    "# tbs imports\n",
    "import tbs.dismantlable\n",
    "from tbs.gamma_free import GammaFree"
   ]
  },
  {
   "cell_type": "code",
   "execution_count": 3,
   "metadata": {
    "collapsed": true,
    "deletable": true,
    "editable": true
   },
   "outputs": [],
   "source": [
    "NUMBER_LATTICE_ELEMENTS = 25"
   ]
  },
  {
   "cell_type": "code",
   "execution_count": 4,
   "metadata": {
    "collapsed": false,
    "deletable": true,
    "editable": true
   },
   "outputs": [],
   "source": [
    "lattice = tbs.dismantlable.random_dismantlable_lattice(NUMBER_LATTICE_ELEMENTS)"
   ]
  },
  {
   "cell_type": "code",
   "execution_count": 5,
   "metadata": {
    "collapsed": false,
    "deletable": true,
    "editable": true
   },
   "outputs": [
    {
     "name": "stdout",
     "output_type": "stream",
     "text": [
      "DismantlableLattice(DirectedGraph(frozenset({2, 3, 4, 5, 6, 7, 8, 9, 10, 11, 12, 13, 14, 15, 16, 17, 18, 19, 20, 21, 22, 23, 24, 25, 26, 'BOTTOM', 'TOP'}), frozenset({(6, 9), (7, 21), (15, 13), (5, 6), (11, 2), (22, 9), (12, 'TOP'), ('BOTTOM', 3), (20, 26), (10, 7), (3, 10), (26, 'TOP'), (7, 19), (13, 'TOP'), (17, 23), (16, 18), (8, 15), (8, 25), (2, 16), ('BOTTOM', 14), (23, 'TOP'), (5, 17), (14, 24), (24, 2), (19, 20), (4, 11), (3, 5), (14, 11), (6, 8), (3, 22), (21, 'TOP'), (5, 7), (25, 13), (18, 'TOP'), (3, 4), (9, 12)})))\n"
     ]
    }
   ],
   "source": [
    "print(lattice)"
   ]
  },
  {
   "cell_type": "code",
   "execution_count": 6,
   "metadata": {
    "collapsed": false,
    "deletable": true,
    "editable": true
   },
   "outputs": [],
   "source": [
    "context_matrix = GammaFree.from_lattice(lattice)"
   ]
  },
  {
   "cell_type": "code",
   "execution_count": 7,
   "metadata": {
    "collapsed": false,
    "deletable": true,
    "editable": true
   },
   "outputs": [
    {
     "name": "stdout",
     "output_type": "stream",
     "text": [
      "    2   4   9   10  11  12  13  15  16  17  18  19  20  21  22  23  24  25  26\n",
      "3   X   X   X   X   X   X   X   X   X   X   X   X   X   X   X   X   .   X   X \n",
      "4   X   X   .   .   X   .   .   .   X   .   X   .   .   .   .   .   .   .   . \n",
      "5   .   .   X   .   .   X   X   X   .   X   .   X   X   X   .   X   .   X   X \n",
      "6   .   .   X   .   .   X   X   X   .   .   .   .   .   .   .   .   .   X   . \n",
      "8   .   .   .   .   .   .   X   X   .   .   .   .   .   .   .   .   .   X   . \n",
      "10  .   .   .   X   .   .   .   .   .   .   .   X   X   X   .   .   .   .   X \n",
      "12  .   .   .   .   .   X   .   .   .   .   .   .   .   .   .   .   .   .   . \n",
      "14  X   .   .   .   X   .   .   .   X   .   X   .   .   .   .   .   X   .   . \n",
      "15  .   .   .   .   .   .   X   X   .   .   .   .   .   .   .   .   .   .   . \n",
      "16  .   .   .   .   .   .   .   .   X   .   X   .   .   .   .   .   .   .   . \n",
      "17  .   .   .   .   .   .   .   .   .   X   .   .   .   .   .   X   .   .   . \n",
      "18  .   .   .   .   .   .   .   .   .   .   X   .   .   .   .   .   .   .   . \n",
      "19  .   .   .   .   .   .   .   .   .   .   .   X   X   .   .   .   .   .   X \n",
      "20  .   .   .   .   .   .   .   .   .   .   .   .   X   .   .   .   .   .   X \n",
      "21  .   .   .   .   .   .   .   .   .   .   .   .   .   X   .   .   .   .   . \n",
      "22  .   .   X   .   .   X   .   .   .   .   .   .   .   .   X   .   .   .   . \n",
      "23  .   .   .   .   .   .   .   .   .   .   .   .   .   .   .   X   .   .   . \n",
      "24  X   .   .   .   .   .   .   .   X   .   X   .   .   .   .   .   X   .   . \n",
      "25  .   .   .   .   .   .   X   .   .   .   .   .   .   .   .   .   .   X   . \n",
      "26  .   .   .   .   .   .   .   .   .   .   .   .   .   .   .   .   .   .   X \n",
      "\n"
     ]
    }
   ],
   "source": [
    "print(context_matrix)"
   ]
  },
  {
   "cell_type": "markdown",
   "metadata": {
    "deletable": true,
    "editable": true
   },
   "source": [
    "## Matrix reordering"
   ]
  },
  {
   "cell_type": "code",
   "execution_count": 8,
   "metadata": {
    "collapsed": false,
    "deletable": true,
    "editable": true
   },
   "outputs": [
    {
     "name": "stdout",
     "output_type": "stream",
     "text": [
      "    24  10  22  17  23  21  19  20  26  9   12  25  15  13  4   11  2   16  18\n",
      "23  .   .   .   .   X   .   .   .   .   .   .   .   .   .   .   .   .   .   . \n",
      "17  .   .   .   X   X   .   .   .   .   .   .   .   .   .   .   .   .   .   . \n",
      "21  .   .   .   .   .   X   .   .   .   .   .   .   .   .   .   .   .   .   . \n",
      "26  .   .   .   .   .   .   .   .   X   .   .   .   .   .   .   .   .   .   . \n",
      "20  .   .   .   .   .   .   .   X   X   .   .   .   .   .   .   .   .   .   . \n",
      "19  .   .   .   .   .   .   X   X   X   .   .   .   .   .   .   .   .   .   . \n",
      "10  .   X   .   .   .   X   X   X   X   .   .   .   .   .   .   .   .   .   . \n",
      "12  .   .   .   .   .   .   .   .   .   .   X   .   .   .   .   .   .   .   . \n",
      "22  .   .   X   .   .   .   .   .   .   X   X   .   .   .   .   .   .   .   . \n",
      "25  .   .   .   .   .   .   .   .   .   .   .   X   .   X   .   .   .   .   . \n",
      "15  .   .   .   .   .   .   .   .   .   .   .   .   X   X   .   .   .   .   . \n",
      "8   .   .   .   .   .   .   .   .   .   .   .   X   X   X   .   .   .   .   . \n",
      "6   .   .   .   .   .   .   .   .   .   X   X   X   X   X   .   .   .   .   . \n",
      "5   .   .   .   X   X   X   X   X   X   X   X   X   X   X   .   .   .   .   . \n",
      "18  .   .   .   .   .   .   .   .   .   .   .   .   .   .   .   .   .   .   X \n",
      "16  .   .   .   .   .   .   .   .   .   .   .   .   .   .   .   .   .   X   X \n",
      "24  X   .   .   .   .   .   .   .   .   .   .   .   .   .   .   .   X   X   X \n",
      "14  X   .   .   .   .   .   .   .   .   .   .   .   .   .   .   X   X   X   X \n",
      "4   .   .   .   .   .   .   .   .   .   .   .   .   .   .   X   X   X   X   X \n",
      "3   .   X   X   X   X   X   X   X   X   X   X   X   X   X   X   X   X   X   X \n",
      "\n"
     ]
    }
   ],
   "source": [
    "context_matrix.reorder_doubly_lexical()\n",
    "print(context_matrix)"
   ]
  },
  {
   "cell_type": "markdown",
   "metadata": {
    "deletable": true,
    "editable": true
   },
   "source": [
    "## Clusters as matrix rectangles"
   ]
  },
  {
   "cell_type": "code",
   "execution_count": 9,
   "metadata": {
    "collapsed": false
   },
   "outputs": [
    {
     "data": {
      "text/plain": [
       "<tbs.gamma_free._gamma_free.GammaFree at 0x10ea77710>"
      ]
     },
     "execution_count": 9,
     "metadata": {},
     "output_type": "execute_result"
    }
   ],
   "source": [
    "context_matrix.reorder_doubly_lexical()"
   ]
  },
  {
   "cell_type": "code",
   "execution_count": 10,
   "metadata": {
    "collapsed": true
   },
   "outputs": [],
   "source": [
    "import tbs.gamma_free"
   ]
  },
  {
   "cell_type": "code",
   "execution_count": 11,
   "metadata": {
    "collapsed": false,
    "deletable": true,
    "editable": true
   },
   "outputs": [
    {
     "name": "stdout",
     "output_type": "stream",
     "text": [
      "  |24 4 11 2 16 18 22 10 15 25 13 9 12 19 20 26 21 17 23 ⊤ \n",
      "--+--+-+--+-+--+--+--+--+--+--+--+-+--+--+--+--+--+--+--+-+\n",
      "18|.  . .  . . |18|-------------------------------------| |\n",
      "  +         +-----+                                     | |\n",
      "16|.  . .  .|  16 |.  .  .  .  .  . .  .  .  .  .  .  . | |\n",
      "  +--+    +-+-----+                                     | |\n",
      "24|24|----|   2   |.  .  .  .  .  . .  .  .  .  .  .  . | |\n",
      "  +--+ +--+-------+                                     | |\n",
      "14|24|-|    11    |.  .  .  .  .  . .  .  .  .  .  .  . | |\n",
      "  +--+------------+                                     | |\n",
      "4 |.||     4      |.  .  .  .  .  . .  .  .  .  .  .  . | |\n",
      "  + |+------------+     +--+  +--+                      | |\n",
      "15|.| . .  | .  .  .  . |15|--|13|----------------------| |\n",
      "  + |      |            +--+--+--+                      | |\n",
      "25|.| . .  | .  .  .  .  .||  25 |. .  .  .  .  .  .  . | |\n",
      "  + |      |            +--------+                      | |\n",
      "8 |.| . .  | .  .  .  . |   15   |. .  .  .  .  .  .  . | |\n",
      "  + |      |            +--------+ +--+                 |⊤|\n",
      "12|.| . .  | .  .  .  .  .  .| .  .|12|-----------------| |\n",
      "  + |      |      +--+       |   +----+                 | |\n",
      "22|.| . .  | .  . |22|-------*---| 9  |.  .  .  .  .  . | |\n",
      "  + |      |      +--+  +--------+----+                 | |\n",
      "6 |.| . .  | .  .  .| . |      15     |.  .  .  .  .  . | |\n",
      "  + |      |        |   +-------------+     +--+        | |\n",
      "26|.| . .  | .  .  .| .  .  .  .| . .  .  . |26|--------| |\n",
      "  + |      |        |           |        +-----+        | |\n",
      "20|.| . .  | .  .  .| .  .  .  .| . .  . |  20 |.  .  . | |\n",
      "  + |      |        |           |     +--+-----+        | |\n",
      "19|.| . .  | .  .  .| .  .  .  .| . . |   19   |.  .  . | |\n",
      "  + |      |        |           |     +--------+--+     | |\n",
      "21|.| . .  | .  .  .| .  .  .  .| . .  .  .| . |21|-----| |\n",
      "  + |      |        |+--+       |     +-----------+     | |\n",
      "10|.| . .  | .  .  .||10|-------*-----|     19    |.  . | |\n",
      "  + |      |        |+--+       |     +-----------+  +----+\n",
      "23|.| . .  | .  .  .| .| .  .  .| . .  .  . |.  .  . | 23 |\n",
      "  + |      |        |  |        |           |     +--+----+\n",
      "17|.| . .  | .  .  .| .| .  .  .| . .  .  . |.  . |   17  |\n",
      "  + |      |        |  |+---------------------------------+\n",
      "5 |.| . .  | .  .  .| .||                15               |\n",
      "  + |+------------------+---------------------------------+\n",
      "3 |.||                         4                          |\n",
      "  +-------------------------------------------------------+\n",
      "⊥ |                           ⊥                           |\n",
      "  +-------------------------------------------------------+\n"
     ]
    }
   ],
   "source": [
    "print(tbs.gamma_free.to_string(context_matrix))"
   ]
  },
  {
   "cell_type": "markdown",
   "metadata": {
    "deletable": true,
    "editable": true
   },
   "source": [
    "## Lattice drawing\n",
    "We will draw each element accordind to it's hierarchical depth.\n",
    "\n",
    "We will draw it using matplotlib and each element will be represented by:\n",
    "  - a triangle facing up if it's an element (sup irreducible)\n",
    "  - a triangle facing down if it's an attribute (inf irreducible)\n",
    "  - a losange if it is both an element and an attribute (doubly irreducible)\n",
    "  - a circle otherwise\n",
    "\n",
    "\n",
    "The edges will be plain and with the same color if it links two elements from the same hierarchy and dashed otehrwise."
   ]
  },
  {
   "cell_type": "code",
   "execution_count": 12,
   "metadata": {
    "collapsed": true
   },
   "outputs": [],
   "source": [
    "import matplotlib\n",
    "from tbs.gamma_free import draw_to_pyplot"
   ]
  },
  {
   "cell_type": "code",
   "execution_count": 13,
   "metadata": {
    "collapsed": true
   },
   "outputs": [],
   "source": [
    "associated_box_lattice = tbs.gamma_free.box_lattice(context_matrix)"
   ]
  },
  {
   "cell_type": "code",
   "execution_count": 14,
   "metadata": {
    "collapsed": false,
    "deletable": true,
    "editable": true
   },
   "outputs": [],
   "source": [
    "NUMBER_COLORS = max(associated_box_lattice.hierarchical_height().values()) + 1"
   ]
  },
  {
   "cell_type": "code",
   "execution_count": 15,
   "metadata": {
    "collapsed": false,
    "deletable": true,
    "editable": true
   },
   "outputs": [],
   "source": [
    "color_scheme = matplotlib.cm.rainbow([0. + 1.0 * x / (NUMBER_COLORS - 1) for x in range(NUMBER_COLORS)])"
   ]
  },
  {
   "cell_type": "code",
   "execution_count": 16,
   "metadata": {
    "collapsed": false
   },
   "outputs": [
    {
     "data": {
      "image/png": "[encoded data removed]",
      "text/plain": [
       "<matplotlib.figure.Figure at 0x10eb0cba8>"
      ]
     },
     "metadata": {},
     "output_type": "display_data"
    }
   ],
   "source": [
    "draw_to_pyplot(associated_box_lattice, matplotlib.pyplot, color_scheme)"
   ]
  }
 ],
 "metadata": {
  "kernelspec": {
   "display_name": "Python 3",
   "language": "python",
   "name": "python3"
  },
  "language_info": {
   "codemirror_mode": {
    "name": "ipython",
    "version": 3
   },
   "file_extension": ".py",
   "mimetype": "text/x-python",
   "name": "python",
   "nbconvert_exporter": "python",
   "pygments_lexer": "ipython3",
   "version": "3.6.4"
  }
 },
 "nbformat": 4,
 "nbformat_minor": 2
}
