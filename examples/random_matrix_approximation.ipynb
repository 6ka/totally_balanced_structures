{
 "cells": [
  {
   "cell_type": "markdown",
   "metadata": {},
   "source": [
    "# Random Dismantlable lattice\n",
    "We create a random dismantlable lattice with  nn  elements and represent its associated context matrix"
   ]
  },
  {
   "cell_type": "code",
   "execution_count": null,
   "metadata": {
    "collapsed": true
   },
   "outputs": [],
   "source": []
  },
  {
   "cell_type": "code",
   "execution_count": 21,
   "metadata": {
    "collapsed": true
   },
   "outputs": [],
   "source": [
    "# Path to tbs\n",
    "\n",
    "import sys\n",
    "import os\n",
    "\n",
    "sys.path.append(os.path.dirname('../'))"
   ]
  },
  {
   "cell_type": "markdown",
   "metadata": {},
   "source": [
    "## Totally balanced structure creation\n",
    "First create a random dismantable lattice which is immediatly converted into a binary matrix. The elements and attributes will be the inf and sup irreducible elements of the lattice (Caution: the other element names will be nevertheless lost)."
   ]
  },
  {
   "cell_type": "markdown",
   "metadata": {},
   "source": [
    "### Data as Context Matrix"
   ]
  },
  {
   "cell_type": "code",
   "execution_count": 22,
   "metadata": {
    "collapsed": false
   },
   "outputs": [],
   "source": [
    "# tbs imports\n",
    "from tbs.lattice import Lattice\n",
    "from tbs.contextmatrix import ContextMatrix"
   ]
  },
  {
   "cell_type": "code",
   "execution_count": 23,
   "metadata": {
    "collapsed": true
   },
   "outputs": [],
   "source": [
    "NUMBER_LATTICE_ELEMENTS = 32"
   ]
  },
  {
   "cell_type": "code",
   "execution_count": 24,
   "metadata": {
    "collapsed": false
   },
   "outputs": [],
   "source": [
    "lattice = Lattice.random_dismantlable_lattice(NUMBER_LATTICE_ELEMENTS)\n"
   ]
  },
  {
   "cell_type": "code",
   "execution_count": 25,
   "metadata": {
    "collapsed": false
   },
   "outputs": [
    {
     "name": "stdout",
     "output_type": "stream",
     "text": [
      "BOTTOM 0     \n",
      "0      2     \n",
      "0      3     \n",
      "0      4     \n",
      "1      26    \n",
      "2      1     \n",
      "2      5     \n",
      "2      16    \n",
      "2      21    \n",
      "2      28    \n",
      "3      TOP   \n",
      "4      8     \n",
      "4      10    \n",
      "5      7     \n",
      "5      13    \n",
      "6      11    \n",
      "7      6     \n",
      "8      9     \n",
      "9      12    \n",
      "9      19    \n",
      "10     18    \n",
      "10     22    \n",
      "11     23    \n",
      "12     24    \n",
      "12     29    \n",
      "13     6     \n",
      "14     11    \n",
      "15     TOP   \n",
      "16     11    \n",
      "16     25    \n",
      "17     TOP   \n",
      "18     15    \n",
      "18     27    \n",
      "19     20    \n",
      "20     TOP   \n",
      "21     14    \n",
      "22     TOP   \n",
      "23     TOP   \n",
      "24     TOP   \n",
      "25     TOP   \n",
      "26     17    \n",
      "27     TOP   \n",
      "28     30    \n",
      "28     31    \n",
      "29     TOP   \n",
      "30     TOP   \n",
      "31     26    \n"
     ]
    }
   ],
   "source": [
    "print(lattice)"
   ]
  },
  {
   "cell_type": "code",
   "execution_count": 26,
   "metadata": {
    "collapsed": false
   },
   "outputs": [],
   "source": [
    "context_matrix = ContextMatrix.from_lattice(lattice)"
   ]
  },
  {
   "cell_type": "code",
   "execution_count": 27,
   "metadata": {
    "collapsed": false
   },
   "outputs": [
    {
     "name": "stdout",
     "output_type": "stream",
     "text": [
      "    1   3   6   7   8   11  13  14  15  17  19  20  21  22  23  24  25  26  27  29  30  31 BOTTOM\n",
      "0   X   X   X   X   X   X   X   X   X   X   X   X   X   X   X   X   X   X   X   X   X   X    .   \n",
      "1   X   .   .   .   .   .   .   .   .   X   .   .   .   .   .   .   .   X   .   .   .   .    .   \n",
      "2   X   .   X   X   .   X   X   X   .   X   .   .   X   .   X   .   X   X   .   .   X   X    .   \n",
      "3   .   X   .   .   .   .   .   .   .   .   .   .   .   .   .   .   .   .   .   .   .   .    .   \n",
      "4   .   .   .   .   X   .   .   .   X   .   X   X   .   X   .   X   .   .   X   X   .   .    .   \n",
      "5   .   .   X   X   .   X   X   .   .   .   .   .   .   .   X   .   .   .   .   .   .   .    .   \n",
      "7   .   .   X   X   .   X   .   .   .   .   .   .   .   .   X   .   .   .   .   .   .   .    .   \n",
      "8   .   .   .   .   X   .   .   .   .   .   X   X   .   .   .   X   .   .   .   X   .   .    .   \n",
      "9   .   .   .   .   .   .   .   .   .   .   X   X   .   .   .   X   .   .   .   X   .   .    .   \n",
      "10  .   .   .   .   .   .   .   .   X   .   .   .   .   X   .   .   .   .   X   .   .   .    .   \n",
      "12  .   .   .   .   .   .   .   .   .   .   .   .   .   .   .   X   .   .   .   X   .   .    .   \n",
      "13  .   .   X   .   .   X   X   .   .   .   .   .   .   .   X   .   .   .   .   .   .   .    .   \n",
      "14  .   .   .   .   .   X   .   X   .   .   .   .   .   .   X   .   .   .   .   .   .   .    .   \n",
      "15  .   .   .   .   .   .   .   .   X   .   .   .   .   .   .   .   .   .   .   .   .   .    .   \n",
      "16  .   .   .   .   .   X   .   .   .   .   .   .   .   .   X   .   X   .   .   .   .   .    .   \n",
      "17  .   .   .   .   .   .   .   .   .   X   .   .   .   .   .   .   .   .   .   .   .   .    .   \n",
      "18  .   .   .   .   .   .   .   .   X   .   .   .   .   .   .   .   .   .   X   .   .   .    .   \n",
      "19  .   .   .   .   .   .   .   .   .   .   X   X   .   .   .   .   .   .   .   .   .   .    .   \n",
      "20  .   .   .   .   .   .   .   .   .   .   .   X   .   .   .   .   .   .   .   .   .   .    .   \n",
      "21  .   .   .   .   .   X   .   X   .   .   .   .   X   .   X   .   .   .   .   .   .   .    .   \n",
      "22  .   .   .   .   .   .   .   .   .   .   .   .   .   X   .   .   .   .   .   .   .   .    .   \n",
      "23  .   .   .   .   .   .   .   .   .   .   .   .   .   .   X   .   .   .   .   .   .   .    .   \n",
      "24  .   .   .   .   .   .   .   .   .   .   .   .   .   .   .   X   .   .   .   .   .   .    .   \n",
      "25  .   .   .   .   .   .   .   .   .   .   .   .   .   .   .   .   X   .   .   .   .   .    .   \n",
      "27  .   .   .   .   .   .   .   .   .   .   .   .   .   .   .   .   .   .   X   .   .   .    .   \n",
      "28  .   .   .   .   .   .   .   .   .   X   .   .   .   .   .   .   .   X   .   .   X   X    .   \n",
      "29  .   .   .   .   .   .   .   .   .   .   .   .   .   .   .   .   .   .   .   X   .   .    .   \n",
      "30  .   .   .   .   .   .   .   .   .   .   .   .   .   .   .   .   .   .   .   .   X   .    .   \n",
      "31  .   .   .   .   .   .   .   .   .   X   .   .   .   .   .   .   .   X   .   .   .   X    .   \n",
      "\n"
     ]
    }
   ],
   "source": [
    "print(context_matrix)"
   ]
  },
  {
   "cell_type": "markdown",
   "metadata": {},
   "source": [
    "## Matrix reordering"
   ]
  },
  {
   "cell_type": "code",
   "execution_count": 28,
   "metadata": {
    "collapsed": false
   },
   "outputs": [
    {
     "name": "stdout",
     "output_type": "stream",
     "text": [
      "   BOTTOM  22  27  15  8   19  20  29  24  3   25  21  14  13  7   6   11  23  30  31  1   26  17\n",
      "22   .     X   .   .   .   .   .   .   .   .   .   .   .   .   .   .   .   .   .   .   .   .   . \n",
      "27   .     .   X   .   .   .   .   .   .   .   .   .   .   .   .   .   .   .   .   .   .   .   . \n",
      "15   .     .   .   X   .   .   .   .   .   .   .   .   .   .   .   .   .   .   .   .   .   .   . \n",
      "18   .     .   X   X   .   .   .   .   .   .   .   .   .   .   .   .   .   .   .   .   .   .   . \n",
      "10   .     X   X   X   .   .   .   .   .   .   .   .   .   .   .   .   .   .   .   .   .   .   . \n",
      "20   .     .   .   .   .   .   X   .   .   .   .   .   .   .   .   .   .   .   .   .   .   .   . \n",
      "19   .     .   .   .   .   X   X   .   .   .   .   .   .   .   .   .   .   .   .   .   .   .   . \n",
      "29   .     .   .   .   .   .   .   X   .   .   .   .   .   .   .   .   .   .   .   .   .   .   . \n",
      "24   .     .   .   .   .   .   .   .   X   .   .   .   .   .   .   .   .   .   .   .   .   .   . \n",
      "12   .     .   .   .   .   .   .   X   X   .   .   .   .   .   .   .   .   .   .   .   .   .   . \n",
      "9    .     .   .   .   .   X   X   X   X   .   .   .   .   .   .   .   .   .   .   .   .   .   . \n",
      "8    .     .   .   .   X   X   X   X   X   .   .   .   .   .   .   .   .   .   .   .   .   .   . \n",
      "4    .     X   X   X   X   X   X   X   X   .   .   .   .   .   .   .   .   .   .   .   .   .   . \n",
      "3    .     .   .   .   .   .   .   .   .   X   .   .   .   .   .   .   .   .   .   .   .   .   . \n",
      "25   .     .   .   .   .   .   .   .   .   .   X   .   .   .   .   .   .   .   .   .   .   .   . \n",
      "23   .     .   .   .   .   .   .   .   .   .   .   .   .   .   .   .   .   X   .   .   .   .   . \n",
      "16   .     .   .   .   .   .   .   .   .   .   X   .   .   .   .   .   X   X   .   .   .   .   . \n",
      "14   .     .   .   .   .   .   .   .   .   .   .   .   X   .   .   .   X   X   .   .   .   .   . \n",
      "21   .     .   .   .   .   .   .   .   .   .   .   X   X   .   .   .   X   X   .   .   .   .   . \n",
      "13   .     .   .   .   .   .   .   .   .   .   .   .   .   X   .   X   X   X   .   .   .   .   . \n",
      "7    .     .   .   .   .   .   .   .   .   .   .   .   .   .   X   X   X   X   .   .   .   .   . \n",
      "5    .     .   .   .   .   .   .   .   .   .   .   .   .   X   X   X   X   X   .   .   .   .   . \n",
      "30   .     .   .   .   .   .   .   .   .   .   .   .   .   .   .   .   .   .   X   .   .   .   . \n",
      "17   .     .   .   .   .   .   .   .   .   .   .   .   .   .   .   .   .   .   .   .   .   .   X \n",
      "31   .     .   .   .   .   .   .   .   .   .   .   .   .   .   .   .   .   .   .   X   .   X   X \n",
      "28   .     .   .   .   .   .   .   .   .   .   .   .   .   .   .   .   .   .   X   X   .   X   X \n",
      "1    .     .   .   .   .   .   .   .   .   .   .   .   .   .   .   .   .   .   .   .   X   X   X \n",
      "2    .     .   .   .   .   .   .   .   .   .   X   X   X   X   X   X   X   X   X   X   X   X   X \n",
      "0    .     X   X   X   X   X   X   X   X   X   X   X   X   X   X   X   X   X   X   X   X   X   X \n",
      "\n"
     ]
    }
   ],
   "source": [
    "context_matrix.reorder_doubly_lexical_order()\n",
    "print(context_matrix)"
   ]
  },
  {
   "cell_type": "markdown",
   "metadata": {},
   "source": [
    "## Lattice associated to matrix\n",
    "Appears in the box format"
   ]
  },
  {
   "cell_type": "code",
   "execution_count": 29,
   "metadata": {
    "collapsed": true
   },
   "outputs": [],
   "source": [
    "associated_lattice = Lattice.from_dlo_matrix(context_matrix.matrix)"
   ]
  },
  {
   "cell_type": "code",
   "execution_count": 30,
   "metadata": {
    "collapsed": false
   },
   "outputs": [
    {
     "name": "stdout",
     "output_type": "stream",
     "text": [
      "((3, 2), (3, 3))     ((2, 3), (2, 3))    \n",
      "((3, 2), (3, 3))     ((1, 2), (1, 2))    \n",
      "((2, 3), (2, 3))     TOP                 \n",
      "((1, 2), (1, 2))     TOP                 \n",
      "((4, 1), (4, 3))     ((3, 2), (3, 3))    \n",
      "((4, 1), (4, 3))     ((0, 1), (0, 1))    \n",
      "((0, 1), (0, 1))     TOP                 \n",
      "((6, 5), (6, 6))     ((5, 6), (5, 6))    \n",
      "((5, 6), (5, 6))     TOP                 \n",
      "((9, 7), (9, 8))     ((8, 8), (8, 8))    \n",
      "((9, 7), (9, 8))     ((7, 7), (7, 7))    \n",
      "((8, 8), (8, 8))     TOP                 \n",
      "((7, 7), (7, 7))     TOP                 \n",
      "((10, 5), (10, 8))   ((9, 7), (9, 8))    \n",
      "((10, 5), (10, 8))   ((6, 5), (6, 6))    \n",
      "((11, 4), (11, 8))   ((10, 5), (10, 8))  \n",
      "((12, 1), (12, 8))   ((11, 4), (11, 8))  \n",
      "((12, 1), (12, 8))   ((4, 1), (4, 3))    \n",
      "((16, 16), (18, 17)) ((15, 17), (15, 17))\n",
      "((15, 17), (15, 17)) TOP                 \n",
      "((16, 10), (16, 10)) ((16, 16), (18, 17))\n",
      "((16, 10), (16, 10)) ((14, 10), (14, 10))\n",
      "((14, 10), (14, 10)) TOP                 \n",
      "((17, 12), (17, 12)) ((16, 16), (18, 17))\n",
      "((18, 11), (18, 12)) ((17, 12), (17, 12))\n",
      "((19, 15), (19, 17)) ((16, 16), (18, 17))\n",
      "((19, 13), (19, 13)) ((19, 15), (19, 17))\n",
      "((20, 14), (20, 17)) ((19, 15), (19, 17))\n",
      "((21, 13), (21, 17)) ((20, 14), (20, 17))\n",
      "((21, 13), (21, 17)) ((19, 13), (19, 13))\n",
      "((24, 21), (25, 22)) ((23, 22), (23, 22))\n",
      "((23, 22), (23, 22)) TOP                 \n",
      "((24, 19), (24, 19)) ((24, 21), (25, 22))\n",
      "((25, 18), (25, 19)) ((24, 19), (24, 19))\n",
      "((25, 18), (25, 19)) ((22, 18), (22, 18))\n",
      "((22, 18), (22, 18)) TOP                 \n",
      "((26, 20), (26, 22)) ((24, 21), (25, 22))\n",
      "((27, 10), (27, 22)) ((26, 20), (26, 22))\n",
      "((27, 10), (27, 22)) ((25, 18), (25, 19))\n",
      "((27, 10), (27, 22)) ((21, 13), (21, 17))\n",
      "((27, 10), (27, 22)) ((18, 11), (18, 12))\n",
      "((27, 10), (27, 22)) ((16, 10), (16, 10))\n",
      "BOTTOM               ((28, 1), (28, 22)) \n",
      "((28, 1), (28, 22))  ((27, 10), (27, 22))\n",
      "((28, 1), (28, 22))  ((13, 9), (13, 9))  \n",
      "((28, 1), (28, 22))  ((12, 1), (12, 8))  \n",
      "((13, 9), (13, 9))   TOP                 \n"
     ]
    }
   ],
   "source": [
    "print(associated_lattice)"
   ]
  },
  {
   "cell_type": "markdown",
   "metadata": {},
   "source": [
    "## Clusters as string"
   ]
  },
  {
   "cell_type": "code",
   "execution_count": 31,
   "metadata": {
    "collapsed": false
   },
   "outputs": [
    {
     "name": "stdout",
     "output_type": "stream",
     "text": [
      "  |BOTTOM 22 27 15 8 19 20 29 24 3 25 21 14 13 7 6 11 23 30 31 1 26 17 \n",
      "--+------+--+--+--+-+--+--+--+--+-+--+--+--+--+-+-+--+--+--+--+-+--+--+\n",
      "22|  .   |22|.  .  . .  .  .  .  . .  .  .  .  . . .  .  .  .  . .  .  \n",
      "  +      +--+--+                                                       \n",
      "27|  .    .||27|.  . .  .  .  .  . .  .  .  .  . . .  .  .  .  . .  .  \n",
      "  +        |+--+--+                                                    \n",
      "15|  .    .| .||15|. .  .  .  .  . .  .  .  .  . . .  .  .  .  . .  .  \n",
      "  +        |+-----+                                                    \n",
      "18|  .    .||  27 |. .  .  .  .  . .  .  .  .  . . .  .  .  .  . .  .  \n",
      "  +      +--------+                                                    \n",
      "10|  .   |   22   |. .  .  .  .  . .  .  .  .  . . .  .  .  .  . .  .  \n",
      "  +      +--------+    +--+                                            \n",
      "20|  .    .  .| .  . . |20|.  .  . .  .  .  .  . . .  .  .  .  . .  .  \n",
      "  +           |     +-----+                                            \n",
      "19|  .    .  .| .  .|  19 |.  .  . .  .  .  .  . . .  .  .  .  . .  .  \n",
      "  +           |     +-----+--+                                         \n",
      "29|  .    .  .| .  . . |. |29|.  . .  .  .  .  . . .  .  .  .  . .  .  \n",
      "  +           |        |  +--+--+                                      \n",
      "24|  .    .  .| .  . . |.  .||24|. .  .  .  .  . . .  .  .  .  . .  .  \n",
      "  +           |        |  +-----+                                      \n",
      "12|  .    .  .| .  . . |. |  29 |. .  .  .  .  . . .  .  .  .  . .  .  \n",
      "  +           |     +-----------+                                      \n",
      "9 |  .    .  .| .  .|     19    |. .  .  .  .  . . .  .  .  .  . .  .  \n",
      "  +           |   +-------------+                                      \n",
      "8 |  .    .  .| . |      8      |. .  .  .  .  . . .  .  .  .  . .  .  \n",
      "  +      +----------------------+                                      \n",
      "4 |  .   |          22          |. .  .  .  .  . . .  .  .  .  . .  .  \n",
      "  +      +----------------------+-+                                    \n",
      "3 |  .    .  .  .  .|.  .  .  . |3|.  .  .  .  . . .  .  .  .  . .  .  \n",
      "  +                 |           +-+--+                                 \n",
      "25|  .    .  .  .  .|.  .  .  .  ||25|.  .  .  . . .  .  .  .  . .  .  \n",
      "  +                 |            |+--+               +--+              \n",
      "23|  .    .  .  .  .|.  .  .  .  | .| .  .  .  . . . |23|.  .  . .  .  \n",
      "  +                 |            |+--+            +-----+              \n",
      "16|  .    .  .  .  .|.  .  .  .  ||25|------------|     |.  .  . .  .  \n",
      "  +                 |            |+--+  +--+      |     |              \n",
      "14|  .    .  .  .  .|.  .  .  .  | .| . |14|------|  11 |.  .  . .  .  \n",
      "  +                 |            |  |+-----+      |     |              \n",
      "21|  .    .  .  .  .|.  .  .  .  | .||  21 |.  . .|     |.  .  . .  .  \n",
      "  +                 |            |  |+-----+--+ +-------+              \n",
      "13|  .    .  .  .  .|.  .  .  .  | .| . |. |13|-|   6   |.  .  . .  .  \n",
      "  +                 |            |  |   |  +--+---------+              \n",
      "7 |  .    .  .  .  .|.  .  .  .  | .| . |.  .||    7    |.  .  . .  .  \n",
      "  +                 |            |  |   |  +------------+              \n",
      "5 |  .    .  .  .  .|.  .  .  .  | .| . |. |     13     |.  .  . .  .  \n",
      "  +                 |            |  |   |  +------------+--+           \n",
      "30|  .    .  .  .  .|.  .  .  .  | .| . |.  .  . | .  . |30|.  . .  .  \n",
      "  +                 |            |  |   |        |      +--+       +--+\n",
      "17|  .    .  .  .  .|.  .  .  .  | .| . |.  .  . | .  .  .| .  . . |17|\n",
      "  +                 |            |  |   |        |        |+--+ +-----+\n",
      "31|  .    .  .  .  .|.  .  .  .  | .| . |.  .  . | .  .  .||31|-|     |\n",
      "  +                 |            |  |   |        |      +-----+ |  26 |\n",
      "28|  .    .  .  .  .|.  .  .  .  | .| . |.  .  . | .  . |  30 |.|     |\n",
      "  +                 |            |  |   |        |      +-----+-------+\n",
      "1 |  .    .  .  .  .|.  .  .  .  | .| . |.  .  . | .  .  . |. |   1   |\n",
      "  +                 |            |+-----------------------------------+\n",
      "2 |  .    .  .  .  .|.  .  .  .  ||                 25                |\n",
      "  +      +------------------------------------------------------------+\n",
      "0 |  .   |                             22                             |\n",
      "  +      +------------------------------------------------------------+\n"
     ]
    }
   ],
   "source": [
    "print(lattice.print_boxes())"
   ]
  },
  {
   "cell_type": "markdown",
   "metadata": {},
   "source": [
    "## Lattice drawing\n",
    "We will draw each element accordind to it's hierarchical depth.\n",
    "\n",
    "We will draw it using matplotlib and each element will be represented by:\n",
    "  - a triangle facing up if it's an element (sup irreducible)\n",
    "  - a triangle facing down if it's an attribute (inf irreducible)\n",
    "  - a losange if it is both an element and an attribute (doubly irreducible)\n",
    "  - a circle otherwise\n",
    "\n",
    "\n",
    "The edges will be plain and with the same color if it links two elements from the same hierarchy and dashed otehrwise."
   ]
  },
  {
   "cell_type": "code",
   "execution_count": 32,
   "metadata": {
    "collapsed": false
   },
   "outputs": [
    {
     "data": {
      "image/png": "[encoded data removed]",
      "text/plain": [
       "<matplotlib.figure.Figure at 0x7f4d0d261198>"
      ]
     },
     "metadata": {},
     "output_type": "display_data"
    }
   ],
   "source": [
    "lattice.draw()"
   ]
  },
  {
   "cell_type": "code",
   "execution_count": null,
   "metadata": {
    "collapsed": true
   },
   "outputs": [],
   "source": []
  }
 ],
 "metadata": {
  "kernelspec": {
   "display_name": "Python 3",
   "language": "python",
   "name": "python3"
  },
  "language_info": {
   "codemirror_mode": {
    "name": "ipython",
    "version": 3
   },
   "file_extension": ".py",
   "mimetype": "text/x-python",
   "name": "python",
   "nbconvert_exporter": "python",
   "pygments_lexer": "ipython3",
   "version": "3.6.0"
  }
 },
 "nbformat": 4,
 "nbformat_minor": 2
}
