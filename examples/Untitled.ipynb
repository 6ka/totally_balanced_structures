{
 "cells": [
  {
   "cell_type": "code",
   "execution_count": 13,
   "metadata": {
    "collapsed": true
   },
   "outputs": [],
   "source": [
    "import urllib.request\n",
    "response = urllib.request.urlopen('https://fumbbl.com/api/coach/search/Chri')\n",
    "html = response.read().decode('utf-8')"
   ]
  },
  {
   "cell_type": "code",
   "execution_count": 14,
   "metadata": {
    "collapsed": false
   },
   "outputs": [],
   "source": [
    "import json"
   ]
  },
  {
   "cell_type": "code",
   "execution_count": 15,
   "metadata": {
    "collapsed": false
   },
   "outputs": [
    {
     "name": "stdout",
     "output_type": "stream",
     "text": [
      "[{\"id\":\"3545\",\"value\":\"chris\"},{\"id\":\"10236\",\"value\":\"Chriz\"},{\"id\":\"71057\",\"value\":\"ChrisL\"},{\"id\":\"20503\",\"value\":\"ChrisK\"},{\"id\":\"35500\",\"value\":\"chrisr\"},{\"id\":\"34045\",\"value\":\"Chrisi\"},{\"id\":\"129739\",\"value\":\"chriss\"},{\"id\":\"38726\",\"value\":\"chrisp\"},{\"id\":\"38907\",\"value\":\"ChrisQ\"},{\"id\":\"15452\",\"value\":\"Chrids\"}]\n"
     ]
    }
   ],
   "source": [
    "print(html)"
   ]
  },
  {
   "cell_type": "code",
   "execution_count": 17,
   "metadata": {
    "collapsed": true
   },
   "outputs": [],
   "source": [
    "truc = json.loads(html)"
   ]
  },
  {
   "cell_type": "code",
   "execution_count": 18,
   "metadata": {
    "collapsed": false
   },
   "outputs": [
    {
     "name": "stdout",
     "output_type": "stream",
     "text": [
      "[{'id': '3545', 'value': 'chris'}, {'id': '10236', 'value': 'Chriz'}, {'id': '71057', 'value': 'ChrisL'}, {'id': '20503', 'value': 'ChrisK'}, {'id': '35500', 'value': 'chrisr'}, {'id': '34045', 'value': 'Chrisi'}, {'id': '129739', 'value': 'chriss'}, {'id': '38726', 'value': 'chrisp'}, {'id': '38907', 'value': 'ChrisQ'}, {'id': '15452', 'value': 'Chrids'}]\n"
     ]
    }
   ],
   "source": [
    "print(truc)"
   ]
  },
  {
   "cell_type": "code",
   "execution_count": 20,
   "metadata": {
    "collapsed": false
   },
   "outputs": [
    {
     "data": {
      "text/plain": [
       "3545"
      ]
     },
     "execution_count": 20,
     "metadata": {},
     "output_type": "execute_result"
    }
   ],
   "source": [
    "int(truc[0]['id'])"
   ]
  },
  {
   "cell_type": "code",
   "execution_count": null,
   "metadata": {
    "collapsed": true
   },
   "outputs": [],
   "source": []
  }
 ],
 "metadata": {
  "kernelspec": {
   "display_name": "Python 3",
   "language": "python",
   "name": "python3"
  },
  "language_info": {
   "codemirror_mode": {
    "name": "ipython",
    "version": 3
   },
   "file_extension": ".py",
   "mimetype": "text/x-python",
   "name": "python",
   "nbconvert_exporter": "python",
   "pygments_lexer": "ipython3",
   "version": "3.5.2"
  }
 },
 "nbformat": 4,
 "nbformat_minor": 1
}
